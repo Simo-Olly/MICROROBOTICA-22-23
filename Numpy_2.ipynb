{
 "cells": [
  {
   "cell_type": "code",
   "execution_count": 2,
   "id": "240a4982",
   "metadata": {},
   "outputs": [],
   "source": [
    "import numpy as np"
   ]
  },
  {
   "cell_type": "code",
   "execution_count": 4,
   "id": "983b5994",
   "metadata": {},
   "outputs": [
    {
     "data": {
      "text/plain": [
       "array([[188.3952198 , 195.07728097, 168.47496741, 192.28100085,\n",
       "        183.62561204, 162.09360218, 163.85535591],\n",
       "       [187.13185648, 191.60863497, 185.91071416, 187.07040877,\n",
       "        182.21057865, 191.37113311, 185.17066562],\n",
       "       [182.34021763, 167.91923564, 155.85145553, 182.35431685,\n",
       "        146.08946115, 182.76812302, 161.51159377],\n",
       "       [192.40700385, 188.71650043, 182.47833173, 177.71202887,\n",
       "        174.36624167, 180.14553523, 168.19301545],\n",
       "       [176.89744528, 166.73210237, 165.19328805, 170.50207557,\n",
       "        172.6685132 , 194.00865648, 155.43480048]])"
      ]
     },
     "execution_count": 4,
     "metadata": {},
     "output_type": "execute_result"
    }
   ],
   "source": [
    "altezze = np.random.normal(178, 10, (5, 7))\n",
    "altezze"
   ]
  },
  {
   "cell_type": "code",
   "execution_count": 5,
   "id": "cec480a7",
   "metadata": {},
   "outputs": [
    {
     "data": {
      "text/plain": [
       "195.07728096847646"
      ]
     },
     "execution_count": 5,
     "metadata": {},
     "output_type": "execute_result"
    }
   ],
   "source": [
    "np.max(altezze)"
   ]
  },
  {
   "cell_type": "code",
   "execution_count": 6,
   "id": "6951b1c8",
   "metadata": {},
   "outputs": [
    {
     "data": {
      "text/plain": [
       "146.08946114534905"
      ]
     },
     "execution_count": 6,
     "metadata": {},
     "output_type": "execute_result"
    }
   ],
   "source": [
    "np.min(altezze)"
   ]
  },
  {
   "cell_type": "code",
   "execution_count": 7,
   "id": "465b96f2",
   "metadata": {},
   "outputs": [
    {
     "data": {
      "text/plain": [
       "array([[1., 2., 3.],\n",
       "       [4., 5., 6.]])"
      ]
     },
     "execution_count": 7,
     "metadata": {},
     "output_type": "execute_result"
    }
   ],
   "source": [
    "array_2d = np.array([[1., 2., 3.], [4., 5., 6.]])\n",
    "array_2d"
   ]
  },
  {
   "cell_type": "code",
   "execution_count": 8,
   "id": "bc86ab4f",
   "metadata": {},
   "outputs": [
    {
     "data": {
      "text/plain": [
       "(2, 3)"
      ]
     },
     "execution_count": 8,
     "metadata": {},
     "output_type": "execute_result"
    }
   ],
   "source": [
    "array_2d.shape # shape attributo"
   ]
  },
  {
   "cell_type": "code",
   "execution_count": 9,
   "id": "c194e653",
   "metadata": {},
   "outputs": [
    {
     "data": {
      "text/plain": [
       "array([[0.9309751 , 0.14569396],\n",
       "       [0.43570585, 0.60394556],\n",
       "       [0.14669076, 0.99378574],\n",
       "       [0.75379797, 0.46080474],\n",
       "       [0.17252965, 0.61904622],\n",
       "       [0.92077836, 0.39992508],\n",
       "       [0.29140216, 0.87262144],\n",
       "       [0.76808935, 0.25168355]])"
      ]
     },
     "execution_count": 9,
     "metadata": {},
     "output_type": "execute_result"
    }
   ],
   "source": [
    "array_2d_casuale = np.random.uniform(0., 1., (8, 2))\n",
    "array_2d_casuale"
   ]
  },
  {
   "cell_type": "code",
   "execution_count": 10,
   "id": "4cb8d889",
   "metadata": {},
   "outputs": [
    {
     "data": {
      "text/plain": [
       "(8, 2)"
      ]
     },
     "execution_count": 10,
     "metadata": {},
     "output_type": "execute_result"
    }
   ],
   "source": [
    "array_2d_casuale.shape"
   ]
  },
  {
   "cell_type": "markdown",
   "id": "a919aea7",
   "metadata": {},
   "source": [
    "### Elemento"
   ]
  },
  {
   "cell_type": "code",
   "execution_count": 11,
   "id": "179d9109",
   "metadata": {},
   "outputs": [
    {
     "data": {
      "text/plain": [
       "0.46080474031680685"
      ]
     },
     "execution_count": 11,
     "metadata": {},
     "output_type": "execute_result"
    }
   ],
   "source": [
    "array_2d_casuale[3, 1]"
   ]
  },
  {
   "cell_type": "markdown",
   "id": "e1f604f6",
   "metadata": {},
   "source": [
    "### Colonna"
   ]
  },
  {
   "cell_type": "code",
   "execution_count": 12,
   "id": "e0e845f8",
   "metadata": {},
   "outputs": [
    {
     "data": {
      "text/plain": [
       "array([0.9309751 , 0.43570585, 0.14669076, 0.75379797, 0.17252965,\n",
       "       0.92077836, 0.29140216, 0.76808935])"
      ]
     },
     "execution_count": 12,
     "metadata": {},
     "output_type": "execute_result"
    }
   ],
   "source": [
    "array_2d_casuale[:, 0]"
   ]
  },
  {
   "cell_type": "markdown",
   "id": "a3d48555",
   "metadata": {},
   "source": [
    "### Riga"
   ]
  },
  {
   "cell_type": "code",
   "execution_count": 13,
   "id": "c5affe2e",
   "metadata": {},
   "outputs": [
    {
     "data": {
      "text/plain": [
       "array([0.75379797, 0.46080474])"
      ]
     },
     "execution_count": 13,
     "metadata": {},
     "output_type": "execute_result"
    }
   ],
   "source": [
    "array_2d_casuale[3, :]"
   ]
  },
  {
   "cell_type": "markdown",
   "id": "56adef94",
   "metadata": {},
   "source": [
    "### Blocco"
   ]
  },
  {
   "cell_type": "code",
   "execution_count": null,
   "id": "0ee88140",
   "metadata": {},
   "outputs": [],
   "source": [
    "array_2d_casuale[2:5, :]"
   ]
  },
  {
   "cell_type": "markdown",
   "id": "a550b50b",
   "metadata": {},
   "source": [
    "### Assegnazione"
   ]
  },
  {
   "cell_type": "code",
   "execution_count": null,
   "id": "63e7cbe8",
   "metadata": {},
   "outputs": [],
   "source": [
    "array_2d_casuale[2:5, :] = 1.\n",
    "array_2d_casuale"
   ]
  },
  {
   "cell_type": "markdown",
   "id": "9cb4ed99",
   "metadata": {},
   "source": [
    "# Esercizio \n",
    "Creare un array 1d del tipo [0,1,0,1,0,1,0,1,0.........]"
   ]
  },
  {
   "cell_type": "code",
   "execution_count": null,
   "id": "b303bfa9",
   "metadata": {},
   "outputs": [],
   "source": [
    "n = 1000000"
   ]
  },
  {
   "cell_type": "code",
   "execution_count": null,
   "id": "82db61c3",
   "metadata": {},
   "outputs": [],
   "source": [
    "%%timeit\n",
    "# Soluzione numpy\n",
    "array_1d = np.zeros(n, dtype = np.int8)\n",
    "array_1d[::2] = 1"
   ]
  },
  {
   "cell_type": "code",
   "execution_count": null,
   "id": "a0c56102",
   "metadata": {
    "scrolled": true
   },
   "outputs": [],
   "source": [
    "%%timeit\n",
    "# Soluzione Python\n",
    "l = np.array([i%2 for i in range(0, n)])\n",
    "l"
   ]
  },
  {
   "cell_type": "markdown",
   "id": "4675f334",
   "metadata": {},
   "source": [
    "Creare un arrey 2d 0,1"
   ]
  },
  {
   "cell_type": "code",
   "execution_count": null,
   "id": "b67fbc2e",
   "metadata": {
    "scrolled": true
   },
   "outputs": [],
   "source": [
    "array = np.zeros((11, 5), dtype = np.int8)\n",
    "array[1::2, ::2] = 1\n",
    "array[::2, 1::2] = 1\n",
    "array"
   ]
  },
  {
   "cell_type": "code",
   "execution_count": null,
   "id": "20b13650",
   "metadata": {},
   "outputs": [],
   "source": [
    "array_1d =np.arange(1, 20)\n",
    "array_1d"
   ]
  },
  {
   "cell_type": "code",
   "execution_count": null,
   "id": "792e2c6e",
   "metadata": {},
   "outputs": [],
   "source": [
    "array_1d[:5] = -1\n",
    "array_1d"
   ]
  },
  {
   "cell_type": "code",
   "execution_count": null,
   "id": "b664cc41",
   "metadata": {},
   "outputs": [],
   "source": [
    "array_1d[::5] = -1\n",
    "array_1d"
   ]
  },
  {
   "cell_type": "code",
   "execution_count": 15,
   "id": "f761fd2a",
   "metadata": {},
   "outputs": [
    {
     "data": {
      "text/plain": [
       "array([0, 1, 2, 3, 4])"
      ]
     },
     "execution_count": 15,
     "metadata": {},
     "output_type": "execute_result"
    }
   ],
   "source": [
    "array_1d = np.arange(0, 5)\n",
    "array_1d"
   ]
  },
  {
   "cell_type": "code",
   "execution_count": 16,
   "id": "cbe9e4b8",
   "metadata": {},
   "outputs": [
    {
     "data": {
      "text/plain": [
       "array([ True, False,  True, False,  True])"
      ]
     },
     "execution_count": 16,
     "metadata": {},
     "output_type": "execute_result"
    }
   ],
   "source": [
    "resto_fa_zero = array_1d % 2 == 0\n",
    "resto_fa_zero"
   ]
  },
  {
   "cell_type": "code",
   "execution_count": 17,
   "id": "a90a6f3d",
   "metadata": {},
   "outputs": [
    {
     "data": {
      "text/plain": [
       "array([0, 2, 4])"
      ]
     },
     "execution_count": 17,
     "metadata": {},
     "output_type": "execute_result"
    }
   ],
   "source": [
    "array_1d[resto_fa_zero] # solo elementi pari, indicizzazone booleana, pag 91"
   ]
  },
  {
   "cell_type": "code",
   "execution_count": 18,
   "id": "5497dd82",
   "metadata": {},
   "outputs": [
    {
     "data": {
      "text/plain": [
       "array([999,   1, 999,   3, 999])"
      ]
     },
     "execution_count": 18,
     "metadata": {},
     "output_type": "execute_result"
    }
   ],
   "source": [
    "array_1d[resto_fa_zero] = 999\n",
    "array_1d"
   ]
  },
  {
   "cell_type": "code",
   "execution_count": null,
   "id": "dbcff1de",
   "metadata": {},
   "outputs": [],
   "source": [
    "array_1d = np.random.uniform(0., 1., 10) \n",
    "array_1d"
   ]
  },
  {
   "cell_type": "code",
   "execution_count": null,
   "id": "4faa6369",
   "metadata": {},
   "outputs": [],
   "source": [
    "array_1d[np.array([1, 2, 3])] # indicizzazione con array di indici o fancy-index"
   ]
  },
  {
   "cell_type": "code",
   "execution_count": null,
   "id": "b93d0422",
   "metadata": {},
   "outputs": [],
   "source": [
    "array_1d[np.array([1, 2, 3])] = 999\n",
    "array_1d"
   ]
  }
 ],
 "metadata": {
  "kernelspec": {
   "display_name": "Python 3 (ipykernel)",
   "language": "python",
   "name": "python3"
  },
  "language_info": {
   "codemirror_mode": {
    "name": "ipython",
    "version": 3
   },
   "file_extension": ".py",
   "mimetype": "text/x-python",
   "name": "python",
   "nbconvert_exporter": "python",
   "pygments_lexer": "ipython3",
   "version": "3.9.12"
  }
 },
 "nbformat": 4,
 "nbformat_minor": 5
}
