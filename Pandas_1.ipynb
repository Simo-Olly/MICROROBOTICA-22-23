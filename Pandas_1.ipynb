{
 "cells": [
  {
   "cell_type": "code",
   "execution_count": 1,
   "id": "82e8e09a",
   "metadata": {},
   "outputs": [],
   "source": [
    "import pandas as pd"
   ]
  },
  {
   "cell_type": "code",
   "execution_count": 3,
   "id": "0619e922",
   "metadata": {},
   "outputs": [],
   "source": [
    "dizionario = {\"Giorno\":[\"Lunedi\", \"Martedi\", \"Mercoledi\"], \"prezzo\":[3.5,6,8]}"
   ]
  },
  {
   "cell_type": "code",
   "execution_count": 4,
   "id": "3b094d00",
   "metadata": {},
   "outputs": [
    {
     "data": {
      "text/html": [
       "<div>\n",
       "<style scoped>\n",
       "    .dataframe tbody tr th:only-of-type {\n",
       "        vertical-align: middle;\n",
       "    }\n",
       "\n",
       "    .dataframe tbody tr th {\n",
       "        vertical-align: top;\n",
       "    }\n",
       "\n",
       "    .dataframe thead th {\n",
       "        text-align: right;\n",
       "    }\n",
       "</style>\n",
       "<table border=\"1\" class=\"dataframe\">\n",
       "  <thead>\n",
       "    <tr style=\"text-align: right;\">\n",
       "      <th></th>\n",
       "      <th>Giorno</th>\n",
       "      <th>prezzo</th>\n",
       "    </tr>\n",
       "  </thead>\n",
       "  <tbody>\n",
       "    <tr>\n",
       "      <th>0</th>\n",
       "      <td>Lunedi</td>\n",
       "      <td>3.5</td>\n",
       "    </tr>\n",
       "    <tr>\n",
       "      <th>1</th>\n",
       "      <td>Martedi</td>\n",
       "      <td>6.0</td>\n",
       "    </tr>\n",
       "    <tr>\n",
       "      <th>2</th>\n",
       "      <td>Mercoledi</td>\n",
       "      <td>8.0</td>\n",
       "    </tr>\n",
       "  </tbody>\n",
       "</table>\n",
       "</div>"
      ],
      "text/plain": [
       "      Giorno  prezzo\n",
       "0     Lunedi     3.5\n",
       "1    Martedi     6.0\n",
       "2  Mercoledi     8.0"
      ]
     },
     "execution_count": 4,
     "metadata": {},
     "output_type": "execute_result"
    }
   ],
   "source": [
    "dati = pd.DataFrame(dizionario)\n",
    "dati"
   ]
  },
  {
   "cell_type": "code",
   "execution_count": 5,
   "id": "45f2b473",
   "metadata": {},
   "outputs": [
    {
     "name": "stdout",
     "output_type": "stream",
     "text": [
      "      Giorno  prezzo\n",
      "0     Lunedi     3.5\n",
      "1    Martedi     6.0\n",
      "2  Mercoledi     8.0\n"
     ]
    }
   ],
   "source": [
    "print(dati)"
   ]
  },
  {
   "cell_type": "code",
   "execution_count": 7,
   "id": "b4d09d6b",
   "metadata": {},
   "outputs": [
    {
     "data": {
      "text/plain": [
       "0       Lunedi\n",
       "1      Martedi\n",
       "2    Mercoledi\n",
       "Name: Giorno, dtype: object"
      ]
     },
     "execution_count": 7,
     "metadata": {},
     "output_type": "execute_result"
    }
   ],
   "source": [
    "dati[\"Giorno\"]"
   ]
  },
  {
   "cell_type": "code",
   "execution_count": 8,
   "id": "ece25ef9",
   "metadata": {},
   "outputs": [
    {
     "data": {
      "text/plain": [
       "0    3.5\n",
       "1    6.0\n",
       "2    8.0\n",
       "Name: prezzo, dtype: float64"
      ]
     },
     "execution_count": 8,
     "metadata": {},
     "output_type": "execute_result"
    }
   ],
   "source": [
    "dati[\"prezzo\"]"
   ]
  },
  {
   "cell_type": "code",
   "execution_count": null,
   "id": "f784f0e2",
   "metadata": {},
   "outputs": [],
   "source": []
  }
 ],
 "metadata": {
  "kernelspec": {
   "display_name": "Python 3 (ipykernel)",
   "language": "python",
   "name": "python3"
  },
  "language_info": {
   "codemirror_mode": {
    "name": "ipython",
    "version": 3
   },
   "file_extension": ".py",
   "mimetype": "text/x-python",
   "name": "python",
   "nbconvert_exporter": "python",
   "pygments_lexer": "ipython3",
   "version": "3.9.12"
  }
 },
 "nbformat": 4,
 "nbformat_minor": 5
}
