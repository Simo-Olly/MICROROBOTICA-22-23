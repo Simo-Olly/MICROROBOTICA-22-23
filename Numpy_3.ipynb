{
 "cells": [
  {
   "cell_type": "code",
   "execution_count": 17,
   "id": "481def67",
   "metadata": {},
   "outputs": [],
   "source": [
    "import numpy as np"
   ]
  },
  {
   "cell_type": "markdown",
   "id": "b6eefdfe",
   "metadata": {},
   "source": [
    "## Il Broadcast"
   ]
  },
  {
   "cell_type": "code",
   "execution_count": 18,
   "id": "ba55b485",
   "metadata": {},
   "outputs": [
    {
     "data": {
      "text/plain": [
       "array([ 2,  4,  6,  8, 10])"
      ]
     },
     "execution_count": 18,
     "metadata": {},
     "output_type": "execute_result"
    }
   ],
   "source": [
    "array_1 = np.array([1, 2, 3, 4, 5])\n",
    "array_1 * 2"
   ]
  },
  {
   "cell_type": "code",
   "execution_count": 19,
   "id": "2e2a1a40",
   "metadata": {},
   "outputs": [
    {
     "data": {
      "text/plain": [
       "array([  2.71828183,   7.3890561 ,  20.08553692,  54.59815003,\n",
       "       148.4131591 ])"
      ]
     },
     "execution_count": 19,
     "metadata": {},
     "output_type": "execute_result"
    }
   ],
   "source": [
    "np.exp(array_1)"
   ]
  },
  {
   "cell_type": "code",
   "execution_count": 20,
   "id": "1f2f1aed",
   "metadata": {},
   "outputs": [
    {
     "data": {
      "text/plain": [
       "array([1.        , 1.41421356, 1.73205081, 2.        , 2.23606798])"
      ]
     },
     "execution_count": 20,
     "metadata": {},
     "output_type": "execute_result"
    }
   ],
   "source": [
    "np.sqrt(array_1)"
   ]
  },
  {
   "cell_type": "code",
   "execution_count": 21,
   "id": "04543f9e",
   "metadata": {},
   "outputs": [
    {
     "data": {
      "text/plain": [
       "array([11, 12, 13, 14, 15])"
      ]
     },
     "execution_count": 21,
     "metadata": {},
     "output_type": "execute_result"
    }
   ],
   "source": [
    "array_1 + 10"
   ]
  },
  {
   "cell_type": "code",
   "execution_count": 22,
   "id": "e9e9e9e2",
   "metadata": {},
   "outputs": [
    {
     "data": {
      "text/plain": [
       "array([-1, -2, -3, -4, -5])"
      ]
     },
     "execution_count": 22,
     "metadata": {},
     "output_type": "execute_result"
    }
   ],
   "source": [
    "array_2 = np.array([-1, -2, -3, -4, -5])\n",
    "array_2"
   ]
  },
  {
   "cell_type": "code",
   "execution_count": 23,
   "id": "c480f5c7",
   "metadata": {},
   "outputs": [
    {
     "data": {
      "text/plain": [
       "array([ -1,  -4,  -9, -16, -25])"
      ]
     },
     "execution_count": 23,
     "metadata": {},
     "output_type": "execute_result"
    }
   ],
   "source": [
    "array_1 * array_2 # dimensioni uguali"
   ]
  },
  {
   "cell_type": "code",
   "execution_count": 37,
   "id": "8a83e6b3",
   "metadata": {},
   "outputs": [
    {
     "data": {
      "text/plain": [
       "array([[1.3150134 , 1.3150134 , 1.3150134 , 1.3150134 , 1.3150134 ],\n",
       "       [1.07117156, 1.07117156, 1.07117156, 1.07117156, 1.07117156],\n",
       "       [1.40273976, 1.40273976, 1.40273976, 1.40273976, 1.40273976],\n",
       "       [1.05079617, 1.05079617, 1.05079617, 1.05079617, 1.05079617],\n",
       "       [1.90500944, 1.90500944, 1.90500944, 1.90500944, 1.90500944]])"
      ]
     },
     "execution_count": 37,
     "metadata": {},
     "output_type": "execute_result"
    }
   ],
   "source": [
    "matrice_1 = np.ones((5, 5))\n",
    "matrice_2 = np.random.uniform(0, 1, (5, 1))\n",
    "matrice_1 + matrice_2 # o 1 righa / colonna o tutta"
   ]
  },
  {
   "cell_type": "code",
   "execution_count": 38,
   "id": "7bc1de62",
   "metadata": {},
   "outputs": [
    {
     "data": {
      "text/plain": [
       "array([[1., 1., 1., 1., 1.],\n",
       "       [1., 1., 1., 1., 1.],\n",
       "       [1., 1., 1., 1., 1.],\n",
       "       [1., 1., 1., 1., 1.],\n",
       "       [1., 1., 1., 1., 1.]])"
      ]
     },
     "execution_count": 38,
     "metadata": {},
     "output_type": "execute_result"
    }
   ],
   "source": [
    "matrice_1"
   ]
  },
  {
   "cell_type": "code",
   "execution_count": 39,
   "id": "45b22c52",
   "metadata": {},
   "outputs": [
    {
     "data": {
      "text/plain": [
       "array([[0.3150134 ],\n",
       "       [0.07117156],\n",
       "       [0.40273976],\n",
       "       [0.05079617],\n",
       "       [0.90500944]])"
      ]
     },
     "execution_count": 39,
     "metadata": {},
     "output_type": "execute_result"
    }
   ],
   "source": [
    "matrice_2"
   ]
  },
  {
   "cell_type": "code",
   "execution_count": 42,
   "id": "4018461b",
   "metadata": {},
   "outputs": [
    {
     "data": {
      "text/plain": [
       "array([[5., 5., 5., 5., 5.],\n",
       "       [5., 5., 5., 5., 5.],\n",
       "       [5., 5., 5., 5., 5.],\n",
       "       [5., 5., 5., 5., 5.],\n",
       "       [5., 5., 5., 5., 5.]])"
      ]
     },
     "execution_count": 42,
     "metadata": {},
     "output_type": "execute_result"
    }
   ],
   "source": [
    "matrice_5 = 5 * np.ones((5, 5))\n",
    "matrice_5"
   ]
  },
  {
   "cell_type": "code",
   "execution_count": 43,
   "id": "34acecbb",
   "metadata": {},
   "outputs": [],
   "source": [
    "np.roll?"
   ]
  },
  {
   "cell_type": "code",
   "execution_count": null,
   "id": "9893aac7",
   "metadata": {},
   "outputs": [],
   "source": []
  }
 ],
 "metadata": {
  "kernelspec": {
   "display_name": "Python 3 (ipykernel)",
   "language": "python",
   "name": "python3"
  },
  "language_info": {
   "codemirror_mode": {
    "name": "ipython",
    "version": 3
   },
   "file_extension": ".py",
   "mimetype": "text/x-python",
   "name": "python",
   "nbconvert_exporter": "python",
   "pygments_lexer": "ipython3",
   "version": "3.9.12"
  }
 },
 "nbformat": 4,
 "nbformat_minor": 5
}
