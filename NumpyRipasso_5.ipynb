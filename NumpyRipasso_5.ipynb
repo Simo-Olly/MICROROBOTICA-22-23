{
 "cells": [
  {
   "cell_type": "code",
   "execution_count": 13,
   "id": "c906dda4",
   "metadata": {},
   "outputs": [],
   "source": [
    "import matplotlib.pyplot as plt\n",
    "import numpy as np"
   ]
  },
  {
   "cell_type": "code",
   "execution_count": 38,
   "id": "173c9188",
   "metadata": {},
   "outputs": [],
   "source": [
    "f = open(\"stazioneMetereologica.csv\")\n",
    "righe = f.readlines()\n",
    "d = {\"mese\":[], \"temperatura\":[], \"data\":[]}"
   ]
  },
  {
   "cell_type": "code",
   "execution_count": 39,
   "id": "168416d6",
   "metadata": {},
   "outputs": [
    {
     "ename": "SyntaxError",
     "evalue": "invalid syntax (4054816012.py, line 8)",
     "output_type": "error",
     "traceback": [
      "\u001b[1;36m  Input \u001b[1;32mIn [39]\u001b[1;36m\u001b[0m\n\u001b[1;33m    for nome, dati in d.items():\u001b[0m\n\u001b[1;37m                               ^\u001b[0m\n\u001b[1;31mSyntaxError\u001b[0m\u001b[1;31m:\u001b[0m invalid syntax\n"
     ]
    }
   ],
   "source": [
    "for elemento in righe:\n",
    "    lista = elemento[:-1].split(\",\")\n",
    "    if \"9999.9\" not in lista[9]:\n",
    "        d[\"temperatura\"].append(float(lista[9]))\n",
    "        d[\"mese\"].append(int(lista[0].split(\"-\")[1]))\n",
    "        d[\"data\"].append(int(lista[0])\n",
    "                         \n",
    "for nome, dati in d.items():      \n",
    "    d[nome] = np.array(dati)\n",
    "d\n"
   ]
  },
  {
   "cell_type": "code",
   "execution_count": 24,
   "id": "394a6651",
   "metadata": {},
   "outputs": [],
   "source": [
    "def estrai_temp(mese):\n",
    "    print(d[\"temperature\"][d[\"mese\"]] == mese)"
   ]
  },
  {
   "cell_type": "code",
   "execution_count": 25,
   "id": "8e539488",
   "metadata": {},
   "outputs": [],
   "source": [
    "cols = 1\n",
    "rows = 12\n",
    "nomi_mesi = [\"Gennaio\", \"Febbario\", \"Marzo\", \"Aprile\", \"Maggio\", \"Giugno\", \"Luglio\", \n",
    "            \"Agosto\", \"Settembre\", \"Ottobre\", \"Novembre\", \"Dicembre\"]\n"
   ]
  },
  {
   "cell_type": "code",
   "execution_count": 26,
   "id": "fcf20016",
   "metadata": {},
   "outputs": [
    {
     "ename": "KeyError",
     "evalue": "'temperature'",
     "output_type": "error",
     "traceback": [
      "\u001b[1;31m---------------------------------------------------------------------------\u001b[0m",
      "\u001b[1;31mKeyError\u001b[0m                                  Traceback (most recent call last)",
      "Input \u001b[1;32mIn [26]\u001b[0m, in \u001b[0;36m<cell line: 4>\u001b[1;34m()\u001b[0m\n\u001b[0;32m      3\u001b[0m fig, axs \u001b[38;5;241m=\u001b[39m plt\u001b[38;5;241m.\u001b[39msubplots(cols, rows, figsize \u001b[38;5;241m=\u001b[39m (\u001b[38;5;241m8\u001b[39m, \u001b[38;5;241m20\u001b[39m), constrained_layout \u001b[38;5;241m=\u001b[39m \u001b[38;5;28;01mTrue\u001b[39;00m)\n\u001b[0;32m      4\u001b[0m \u001b[38;5;28;01mfor\u001b[39;00m i \u001b[38;5;129;01min\u001b[39;00m \u001b[38;5;28mrange\u001b[39m(rows):\n\u001b[1;32m----> 5\u001b[0m     axs[i]\u001b[38;5;241m.\u001b[39mplot(\u001b[43mestrai_temp\u001b[49m\u001b[43m(\u001b[49m\u001b[43mi\u001b[49m\u001b[38;5;241;43m+\u001b[39;49m\u001b[38;5;241;43m1\u001b[39;49m\u001b[43m)\u001b[49m)\n\u001b[0;32m      6\u001b[0m     axs[i]\u001b[38;5;241m.\u001b[39mset_title(nomi_mesi[i])\n\u001b[0;32m      7\u001b[0m     axs[i]\u001b[38;5;241m.\u001b[39mset_ylim([\u001b[38;5;241m-\u001b[39m\u001b[38;5;241m10\u001b[39m, \u001b[38;5;241m35\u001b[39m])\n",
      "Input \u001b[1;32mIn [24]\u001b[0m, in \u001b[0;36mestrai_temp\u001b[1;34m(mese)\u001b[0m\n\u001b[0;32m      1\u001b[0m \u001b[38;5;28;01mdef\u001b[39;00m \u001b[38;5;21mestrai_temp\u001b[39m(mese):\n\u001b[1;32m----> 2\u001b[0m     \u001b[38;5;28mprint\u001b[39m(\u001b[43md\u001b[49m\u001b[43m[\u001b[49m\u001b[38;5;124;43m\"\u001b[39;49m\u001b[38;5;124;43mtemperature\u001b[39;49m\u001b[38;5;124;43m\"\u001b[39;49m\u001b[43m]\u001b[49m[d[\u001b[38;5;124m\"\u001b[39m\u001b[38;5;124mmese\u001b[39m\u001b[38;5;124m\"\u001b[39m]] \u001b[38;5;241m==\u001b[39m mese)\n",
      "\u001b[1;31mKeyError\u001b[0m: 'temperature'"
     ]
    },
    {
     "data": {
      "image/png": "[encoded data removed]",
      "text/plain": [
       "<Figure size 576x1440 with 12 Axes>"
      ]
     },
     "metadata": {
      "needs_background": "light"
     },
     "output_type": "display_data"
    }
   ],
   "source": [
    "h = 0\n",
    "mese = 1\n",
    "fig, axs = plt.subplots(cols, rows, figsize = (8, 20), constrained_layout = True)\n",
    "for i in range(rows):\n",
    "    axs[i].plot(estrai_temp(i+1))\n",
    "    axs[i].set_title(nomi_mesi[i])\n",
    "    axs[i].set_ylim([-10, 35])\n",
    "plt.show()"
   ]
  },
  {
   "cell_type": "code",
   "execution_count": 15,
   "id": "18cfd537",
   "metadata": {},
   "outputs": [
    {
     "ename": "ValueError",
     "evalue": "zero-size array to reduction operation maximum which has no identity",
     "output_type": "error",
     "traceback": [
      "\u001b[1;31m---------------------------------------------------------------------------\u001b[0m",
      "\u001b[1;31mValueError\u001b[0m                                Traceback (most recent call last)",
      "Input \u001b[1;32mIn [15]\u001b[0m, in \u001b[0;36m<cell line: 1>\u001b[1;34m()\u001b[0m\n\u001b[1;32m----> 1\u001b[0m indici_giorni_32 \u001b[38;5;241m=\u001b[39m \u001b[43mnp\u001b[49m\u001b[38;5;241;43m.\u001b[39;49m\u001b[43mmax\u001b[49m\u001b[43m(\u001b[49m\u001b[43md\u001b[49m\u001b[43m[\u001b[49m\u001b[38;5;124;43m\"\u001b[39;49m\u001b[38;5;124;43mtemperatura\u001b[39;49m\u001b[38;5;124;43m\"\u001b[39;49m\u001b[43m]\u001b[49m\u001b[43m)\u001b[49m \u001b[38;5;241m==\u001b[39m d[\u001b[38;5;124m\"\u001b[39m\u001b[38;5;124mtemperatura\u001b[39m\u001b[38;5;124m\"\u001b[39m]\n",
      "File \u001b[1;32m<__array_function__ internals>:5\u001b[0m, in \u001b[0;36mamax\u001b[1;34m(*args, **kwargs)\u001b[0m\n",
      "File \u001b[1;32m~\\anaconda3\\lib\\site-packages\\numpy\\core\\fromnumeric.py:2754\u001b[0m, in \u001b[0;36mamax\u001b[1;34m(a, axis, out, keepdims, initial, where)\u001b[0m\n\u001b[0;32m   2638\u001b[0m \u001b[38;5;129m@array_function_dispatch\u001b[39m(_amax_dispatcher)\n\u001b[0;32m   2639\u001b[0m \u001b[38;5;28;01mdef\u001b[39;00m \u001b[38;5;21mamax\u001b[39m(a, axis\u001b[38;5;241m=\u001b[39m\u001b[38;5;28;01mNone\u001b[39;00m, out\u001b[38;5;241m=\u001b[39m\u001b[38;5;28;01mNone\u001b[39;00m, keepdims\u001b[38;5;241m=\u001b[39mnp\u001b[38;5;241m.\u001b[39m_NoValue, initial\u001b[38;5;241m=\u001b[39mnp\u001b[38;5;241m.\u001b[39m_NoValue,\n\u001b[0;32m   2640\u001b[0m          where\u001b[38;5;241m=\u001b[39mnp\u001b[38;5;241m.\u001b[39m_NoValue):\n\u001b[0;32m   2641\u001b[0m     \u001b[38;5;124;03m\"\"\"\u001b[39;00m\n\u001b[0;32m   2642\u001b[0m \u001b[38;5;124;03m    Return the maximum of an array or maximum along an axis.\u001b[39;00m\n\u001b[0;32m   2643\u001b[0m \n\u001b[1;32m   (...)\u001b[0m\n\u001b[0;32m   2752\u001b[0m \u001b[38;5;124;03m    5\u001b[39;00m\n\u001b[0;32m   2753\u001b[0m \u001b[38;5;124;03m    \"\"\"\u001b[39;00m\n\u001b[1;32m-> 2754\u001b[0m     \u001b[38;5;28;01mreturn\u001b[39;00m \u001b[43m_wrapreduction\u001b[49m\u001b[43m(\u001b[49m\u001b[43ma\u001b[49m\u001b[43m,\u001b[49m\u001b[43m \u001b[49m\u001b[43mnp\u001b[49m\u001b[38;5;241;43m.\u001b[39;49m\u001b[43mmaximum\u001b[49m\u001b[43m,\u001b[49m\u001b[43m \u001b[49m\u001b[38;5;124;43m'\u001b[39;49m\u001b[38;5;124;43mmax\u001b[39;49m\u001b[38;5;124;43m'\u001b[39;49m\u001b[43m,\u001b[49m\u001b[43m \u001b[49m\u001b[43maxis\u001b[49m\u001b[43m,\u001b[49m\u001b[43m \u001b[49m\u001b[38;5;28;43;01mNone\u001b[39;49;00m\u001b[43m,\u001b[49m\u001b[43m \u001b[49m\u001b[43mout\u001b[49m\u001b[43m,\u001b[49m\n\u001b[0;32m   2755\u001b[0m \u001b[43m                          \u001b[49m\u001b[43mkeepdims\u001b[49m\u001b[38;5;241;43m=\u001b[39;49m\u001b[43mkeepdims\u001b[49m\u001b[43m,\u001b[49m\u001b[43m \u001b[49m\u001b[43minitial\u001b[49m\u001b[38;5;241;43m=\u001b[39;49m\u001b[43minitial\u001b[49m\u001b[43m,\u001b[49m\u001b[43m \u001b[49m\u001b[43mwhere\u001b[49m\u001b[38;5;241;43m=\u001b[39;49m\u001b[43mwhere\u001b[49m\u001b[43m)\u001b[49m\n",
      "File \u001b[1;32m~\\anaconda3\\lib\\site-packages\\numpy\\core\\fromnumeric.py:86\u001b[0m, in \u001b[0;36m_wrapreduction\u001b[1;34m(obj, ufunc, method, axis, dtype, out, **kwargs)\u001b[0m\n\u001b[0;32m     83\u001b[0m         \u001b[38;5;28;01melse\u001b[39;00m:\n\u001b[0;32m     84\u001b[0m             \u001b[38;5;28;01mreturn\u001b[39;00m reduction(axis\u001b[38;5;241m=\u001b[39maxis, out\u001b[38;5;241m=\u001b[39mout, \u001b[38;5;241m*\u001b[39m\u001b[38;5;241m*\u001b[39mpasskwargs)\n\u001b[1;32m---> 86\u001b[0m \u001b[38;5;28;01mreturn\u001b[39;00m ufunc\u001b[38;5;241m.\u001b[39mreduce(obj, axis, dtype, out, \u001b[38;5;241m*\u001b[39m\u001b[38;5;241m*\u001b[39mpasskwargs)\n",
      "\u001b[1;31mValueError\u001b[0m: zero-size array to reduction operation maximum which has no identity"
     ]
    }
   ],
   "source": [
    "indici_giorni_32 = np.max(d[\"temperatura\"]) == d[\"temperatura\"]"
   ]
  },
  {
   "cell_type": "code",
   "execution_count": 18,
   "id": "712f3016",
   "metadata": {},
   "outputs": [
    {
     "ename": "NameError",
     "evalue": "name 'indici_giorni_32' is not defined",
     "output_type": "error",
     "traceback": [
      "\u001b[1;31m---------------------------------------------------------------------------\u001b[0m",
      "\u001b[1;31mNameError\u001b[0m                                 Traceback (most recent call last)",
      "Input \u001b[1;32mIn [18]\u001b[0m, in \u001b[0;36m<cell line: 1>\u001b[1;34m()\u001b[0m\n\u001b[1;32m----> 1\u001b[0m d[\u001b[38;5;124m\"\u001b[39m\u001b[38;5;124mdata\u001b[39m\u001b[38;5;124m\"\u001b[39m][\u001b[43mindici_giorni_32\u001b[49m]\n",
      "\u001b[1;31mNameError\u001b[0m: name 'indici_giorni_32' is not defined"
     ]
    }
   ],
   "source": [
    "d[\"data\"][indici_giorni_32]"
   ]
  },
  {
   "cell_type": "code",
   "execution_count": 17,
   "id": "5a9cc407",
   "metadata": {},
   "outputs": [
    {
     "ename": "KeyError",
     "evalue": "'temperture'",
     "output_type": "error",
     "traceback": [
      "\u001b[1;31m---------------------------------------------------------------------------\u001b[0m",
      "\u001b[1;31mKeyError\u001b[0m                                  Traceback (most recent call last)",
      "Input \u001b[1;32mIn [17]\u001b[0m, in \u001b[0;36m<cell line: 1>\u001b[1;34m()\u001b[0m\n\u001b[1;32m----> 1\u001b[0m np\u001b[38;5;241m.\u001b[39mmin(\u001b[43mestrai_temp\u001b[49m\u001b[43m(\u001b[49m\u001b[38;5;241;43m7\u001b[39;49m\u001b[43m)\u001b[49m)\n",
      "Input \u001b[1;32mIn [10]\u001b[0m, in \u001b[0;36mestrai_temp\u001b[1;34m(mese)\u001b[0m\n\u001b[0;32m      1\u001b[0m \u001b[38;5;28;01mdef\u001b[39;00m \u001b[38;5;21mestrai_temp\u001b[39m(mese):\n\u001b[1;32m----> 2\u001b[0m     \u001b[38;5;28mprint\u001b[39m(\u001b[43md\u001b[49m\u001b[43m[\u001b[49m\u001b[38;5;124;43m\"\u001b[39;49m\u001b[38;5;124;43mtemperture\u001b[39;49m\u001b[38;5;124;43m\"\u001b[39;49m\u001b[43m]\u001b[49m[d[\u001b[38;5;124m\"\u001b[39m\u001b[38;5;124mmese\u001b[39m\u001b[38;5;124m\"\u001b[39m]] \u001b[38;5;241m==\u001b[39m mese)\n",
      "\u001b[1;31mKeyError\u001b[0m: 'temperture'"
     ]
    }
   ],
   "source": [
    "temperature, luglio = estrai_temp_date(7)\n",
    "np.min(temperature)"
   ]
  },
  {
   "cell_type": "code",
   "execution_count": null,
   "id": "544c91b4",
   "metadata": {},
   "outputs": [],
   "source": [
    "luglio[temperature = 11,2]"
   ]
  },
  {
   "cell_type": "code",
   "execution_count": null,
   "id": "1d723940",
   "metadata": {},
   "outputs": [],
   "source": [
    "def estrai_temp(mese):\n",
    "    return d[\"temperature\"][d[\"mese\"] == mese], d[\"data\"][d[\"mese\"] == mese]"
   ]
  },
  {
   "cell_type": "code",
   "execution_count": null,
   "id": "8046c58a",
   "metadata": {},
   "outputs": [],
   "source": []
  },
  {
   "cell_type": "code",
   "execution_count": null,
   "id": "c11e9d50",
   "metadata": {},
   "outputs": [],
   "source": []
  },
  {
   "cell_type": "code",
   "execution_count": null,
   "id": "31de6eeb",
   "metadata": {},
   "outputs": [],
   "source": []
  },
  {
   "cell_type": "code",
   "execution_count": null,
   "id": "f44fb745",
   "metadata": {},
   "outputs": [],
   "source": [
    "mese = []\n",
    "for i in range(12):\n",
    "    mese.append(np.mean(estrai:temo(i+1)))\n",
    "mese = np.array(mese)\n",
    "np.min(mese)\n",
    "nomi_mesi = np.array(nomi_mesi)\n",
    "nomi_mesi[np.min(mese) == mese]"
   ]
  },
  {
   "cell_type": "code",
   "execution_count": null,
   "id": "3009b19f",
   "metadata": {},
   "outputs": [],
   "source": [
    "nomi_mes[np.argim(mese)]"
   ]
  }
 ],
 "metadata": {
  "kernelspec": {
   "display_name": "Python 3 (ipykernel)",
   "language": "python",
   "name": "python3"
  },
  "language_info": {
   "codemirror_mode": {
    "name": "ipython",
    "version": 3
   },
   "file_extension": ".py",
   "mimetype": "text/x-python",
   "name": "python",
   "nbconvert_exporter": "python",
   "pygments_lexer": "ipython3",
   "version": "3.9.12"
  }
 },
 "nbformat": 4,
 "nbformat_minor": 5
}
