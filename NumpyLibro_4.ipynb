{
 "cells": [
  {
   "cell_type": "code",
   "execution_count": 1,
   "id": "ce692f7d",
   "metadata": {},
   "outputs": [],
   "source": [
    "import numpy as np"
   ]
  },
  {
   "cell_type": "markdown",
   "id": "fc12d171",
   "metadata": {},
   "source": [
    "# PRIME OPERAZIONI DEGLI ARRAY"
   ]
  },
  {
   "cell_type": "code",
   "execution_count": 3,
   "id": "be1977f8",
   "metadata": {},
   "outputs": [
    {
     "name": "stdout",
     "output_type": "stream",
     "text": [
      "a1:  [1 2 3]\n",
      "a2:  [  1 255   3]\n",
      "a3:  [0. 1. 2. 3. 4. 5. 6. 7. 8. 9.]\n",
      "a4:  [4 6 8]\n",
      "a5:  [ 0.   2.5  5.   7.5 10. ]\n"
     ]
    }
   ],
   "source": [
    "a1 = np.array((1,2,3))                 #array ad tupla\n",
    "\n",
    "a2 = np.array([1.6,-1,3], np.uint8)    #array da lista con specifica di tipo\n",
    "\n",
    "a3 = np.arange(10, dtype = float)      #array da range[0..stop) con passo 1 e specifica di tipo\n",
    "\n",
    "a4 = np.arange(4,10,2)                 #array da range [start..stop) on passo 2\n",
    "\n",
    "a5 = np.linspace(0,10,5)               #array di 5 numeri equamente distibuiti in [start..stop], si può usare dtype\n",
    "\n",
    "print(\"a1: \", a1); print(\"a2: \",a2); print(\"a3: \", a3); print(\"a4: \", a4); print(\"a5: \",a5)"
   ]
  },
  {
   "cell_type": "code",
   "execution_count": 5,
   "id": "be26fe89",
   "metadata": {},
   "outputs": [
    {
     "name": "stdout",
     "output_type": "stream",
     "text": [
      "a6:  [0 0 0 0 0]\n",
      "a7:  [0. 0. 0. 0. 0.]\n",
      "a8: \n",
      " [[0. 0. 0.]\n",
      " [0. 0. 0.]]\n"
     ]
    }
   ],
   "source": [
    "a6 = np.zeros(5, dtype = np.uint)     #array di 0 con specifica di tipo (per default float64)\n",
    "\n",
    "a7 = np.zeros(5)                      #array di 1 (per default float64)\n",
    "\n",
    "a8 = np.zeros((2,3))                  #array di 0 con dimensioni specificate\n",
    "\n",
    "print(\"a6: \",a6); print(\"a7: \", a7); print(\"a8: \\n\", a8)"
   ]
  },
  {
   "cell_type": "code",
   "execution_count": 6,
   "id": "a54a935f",
   "metadata": {},
   "outputs": [
    {
     "name": "stdout",
     "output_type": "stream",
     "text": [
      "[[3. 3. 3.]\n",
      " [3. 3. 3.]]\n"
     ]
    }
   ],
   "source": [
    "a8.fill(3)\n",
    "print(a8)"
   ]
  },
  {
   "cell_type": "code",
   "execution_count": 12,
   "id": "973c73c6",
   "metadata": {},
   "outputs": [
    {
     "name": "stdout",
     "output_type": "stream",
     "text": [
      "rand(2,3):\n",
      " [[0.6892064  0.82834143 0.92166929]\n",
      " [0.90859213 0.45105212 0.59421959]]\n",
      "\n",
      "\n",
      "randint(1,7, size=(2,3)):\n",
      " [[6 3 1]\n",
      " [4 4 3]]\n",
      "\n",
      "\n",
      "randn(2,3):\n",
      " [[ 0.70409033 -2.80424676  0.00624093]\n",
      " [ 0.24991161 -0.60655495  0.28843299]]\n"
     ]
    }
   ],
   "source": [
    "mat1 = np.random.rand(2,3)                    #matrice 2X3 di valori casuali reali in [0..1)\n",
    "\n",
    "mat2 = np.random.randint(1,7, size =(2,3))    #matrice 2X3 di valori casuali in teri in [1..7)\n",
    "\n",
    "mat3 = np.random.randn(2,3)                   #matrice 2X3 di valori casuali reali campionati da una distizbuizione \n",
    "                                              #normale con m = 0 e dev = 1ùù\n",
    "\n",
    "print(\"rand(2,3):\\n\", mat1); print(\"\\n\"); \n",
    "print(\"randint(1,7, size=(2,3)):\\n\", mat2); print(\"\\n\"); \n",
    "print(\"randn(2,3):\\n\", mat3)"
   ]
  },
  {
   "cell_type": "code",
   "execution_count": 16,
   "id": "5da2fa97",
   "metadata": {},
   "outputs": [
    {
     "data": {
      "text/plain": [
       "array(['croce', 'testa', 'testa', 'testa', 'testa', 'testa', 'testa',\n",
       "       'croce'], dtype='<U5')"
      ]
     },
     "execution_count": 16,
     "metadata": {},
     "output_type": "execute_result"
    }
   ],
   "source": [
    "dado = np.random.choice(['testa', 'croce'], size = 8, p=[0.8, 0.2])\n",
    "dado"
   ]
  },
  {
   "cell_type": "code",
   "execution_count": 20,
   "id": "ec3882ca",
   "metadata": {},
   "outputs": [
    {
     "name": "stdout",
     "output_type": "stream",
     "text": [
      "['Quo' 'Qua' 'Qui']\n"
     ]
    }
   ],
   "source": [
    "print(np.random.choice(['Qui', 'Quo', 'Qua'], size = 3, replace = False))"
   ]
  },
  {
   "cell_type": "markdown",
   "id": "54e716cf",
   "metadata": {},
   "source": [
    "# LA FORMA DEGLI ARRAY"
   ]
  },
  {
   "cell_type": "code",
   "execution_count": 22,
   "id": "441aee02",
   "metadata": {},
   "outputs": [
    {
     "name": "stdout",
     "output_type": "stream",
     "text": [
      "[[[  1   2]\n",
      "  [ 10  20]\n",
      "  [100 100]]]\n",
      "numero di dimensioni: 3\n",
      "elementi per ogni dimensione: (1, 3, 2)\n",
      "elementi totali: 6\n",
      "tipo elementi: int32\n"
     ]
    }
   ],
   "source": [
    "ndarray = np.array([[[1,2], [10,20], [100,100]]])\n",
    "print(ndarray)\n",
    "print(\"numero di dimensioni:\", np.ndim(ndarray))             #anche ndarry.ndim\n",
    "print(\"elementi per ogni dimensione:\", np.shape(ndarray))    #anche ndarray.shape\n",
    "print(\"elementi totali:\", np.size(ndarray))                  #anche ndarray.size\n",
    "print(\"tipo elementi:\", ndarray.dtype)"
   ]
  },
  {
   "cell_type": "code",
   "execution_count": 23,
   "id": "5818191b",
   "metadata": {},
   "outputs": [
    {
     "name": "stdout",
     "output_type": "stream",
     "text": [
      "array1: \n",
      " [  0   2  10  20 100 100]\n",
      "array2: \n",
      " [  1   0  10  20 100 100]\n",
      "origine: \n",
      " [[[  1   0]\n",
      "  [ 10  20]\n",
      "  [100 100]]]\n"
     ]
    }
   ],
   "source": [
    "array1 = ndarray.flatten()     #crea una copia a 1 dimensione dell'array\n",
    "array2 = ndarray.ravel()       #mantiene un riferimento con l'array originale\n",
    "array1[0] = 0\n",
    "array2[1] = 0\n",
    "print(\"array1: \\n\", array1); print(\"array2: \\n\", array2);\n",
    "print(\"origine: \\n\", ndarray)    #modificato solo attraverso ravel"
   ]
  },
  {
   "cell_type": "code",
   "execution_count": 27,
   "id": "3fba7307",
   "metadata": {},
   "outputs": [
    {
     "name": "stdout",
     "output_type": "stream",
     "text": [
      "[[  0   2  10]\n",
      " [ 20 100 100]]\n",
      "[[  1   0  10]\n",
      " [ 20 100 100]]\n"
     ]
    }
   ],
   "source": [
    "array1.shape = (2,3)           #modifica la struttura\n",
    "print(array1)\n",
    "mat = ndarray.reshape(2,-1)    #restituisce un ndarray con struttura modificata\n",
    "print(mat)"
   ]
  },
  {
   "cell_type": "code",
   "execution_count": 30,
   "id": "97f0b979",
   "metadata": {},
   "outputs": [
    {
     "name": "stdout",
     "output_type": "stream",
     "text": [
      "m.shape (4, 6) \n",
      " [[ 0  1  2  3  4  5]\n",
      " [ 6  7  8  9 10 11]\n",
      " [12 13 14 15 16 17]\n",
      " [18 19 20 21 22 23]]\n",
      "transpose.shape (6, 4)\n",
      "[[ 0  6 12 18]\n",
      " [ 1  7 13 19]\n",
      " [ 2  8 14 20]\n",
      " [ 3  9 15 21]\n",
      " [ 4 10 16 22]\n",
      " [ 5 11 17 23]]\n"
     ]
    }
   ],
   "source": [
    "m = np.arange(24)                                 #vettore con elememti da 0  a 23\n",
    "m = m.reshape(4,6)\n",
    "print(\"m.shape\", m.shape, \"\\n\", m)\n",
    "print(\"transpose.shape\", np.transpose(m).shape)   #inverte lo shape; per le matrice fa la trasposta\n",
    "print(m.T)"
   ]
  },
  {
   "cell_type": "code",
   "execution_count": 31,
   "id": "15f77dc5",
   "metadata": {},
   "outputs": [
    {
     "name": "stdout",
     "output_type": "stream",
     "text": [
      "axis = None \n",
      " [[22 23  0  1  2  3]\n",
      " [ 4  5  6  7  8  9]\n",
      " [10 11 12 13 14 15]\n",
      " [16 17 18 19 20 21]]\n",
      "axis = 0 \n",
      " [[18 19 20 21 22 23]\n",
      " [ 0  1  2  3  4  5]\n",
      " [ 6  7  8  9 10 11]\n",
      " [12 13 14 15 16 17]]\n",
      "axis = 1 \n",
      " [[ 1  2  3  4  5  0]\n",
      " [ 7  8  9 10 11  6]\n",
      " [13 14 15 16 17 12]\n",
      " [19 20 21 22 23 18]]\n"
     ]
    }
   ],
   "source": [
    "print(\"axis = None \\n\", np.roll(m,2))            #viene prima fatto il flatten e poi lo shift\n",
    "print(\"axis = 0 \\n\", np.roll(m,1, axis = 0))     #shift delle interre righe\n",
    "print(\"axis = 1 \\n\", np.roll(m, -1, axis = 1))   #shift a sinistra in ciascuna riga "
   ]
  },
  {
   "cell_type": "markdown",
   "id": "91e6cfc4",
   "metadata": {},
   "source": [
    "# INDICIZZAZIONE"
   ]
  },
  {
   "cell_type": "code",
   "execution_count": 34,
   "id": "14620f43",
   "metadata": {},
   "outputs": [
    {
     "name": "stdout",
     "output_type": "stream",
     "text": [
      "a:\n",
      " [[ 0  1  2]\n",
      " [ 3  4  5]\n",
      " [ 6  7  8]\n",
      " [ 9 10 11]]\n",
      "a.tolist(): [[0, 1, 2], [3, 4, 5], [6, 7, 8], [9, 10, 11]]\n",
      "a[1]: [ 3  4 -1]\n",
      "ls[1] [3, 4, -2]\n"
     ]
    }
   ],
   "source": [
    "a = np.arange(12)          #vettore con elementi da 0 a 11\n",
    "a = a.reshape(4,-1)        #lo strasforma in una matrice 4X3\n",
    "print(\"a:\\n\", a)    \n",
    "ls = a.tolist()            #restituisce la lista python corrispondente all'array\n",
    "print(\"a.tolist():\", ls)\n",
    "a[1,2] = -1 \n",
    "ls[1][2] = -2              #anche in Numpy si può usare questa notazione, ma è meno efficente\n",
    "print(\"a[1]:\", a[1])       #selezione l'elemento di indice 1, ovvero l'intera riga\n",
    "print(\"ls[1]\", ls[1])      #seleziona l'elemento di indice 1, ovvero l'intera riga"
   ]
  },
  {
   "cell_type": "code",
   "execution_count": 35,
   "id": "e5a0859c",
   "metadata": {},
   "outputs": [
    {
     "name": "stdout",
     "output_type": "stream",
     "text": [
      "[[ 0  1  2]\n",
      " [ 3  4 -1]]\n",
      "[[ 6  7  8]\n",
      " [ 9 10 11]]\n",
      "[[ 3  4 -1]\n",
      " [ 9 10 11]]\n",
      "[[ 1]\n",
      " [ 4]\n",
      " [ 7]\n",
      " [10]]\n",
      "[ 1  4  7 10]\n"
     ]
    }
   ],
   "source": [
    "print(a[:-2])     #da 0 al penultimo elemento escluso\n",
    "print(a[2:4])     #dall'elemento di indice 2 al 4 escluso\n",
    "print(a[1:4:2])   #dall'emento di indice 1 al 4 escluso, passo2 \n",
    "print(a[:,1:2])   #tutte le righe, dalla colona 1 alla 2 eclusa\n",
    "print(a[:,1])     #tutti gli elementi della colonna di indice 1"
   ]
  },
  {
   "cell_type": "code",
   "execution_count": null,
   "id": "0a4bd057",
   "metadata": {},
   "outputs": [],
   "source": []
  }
 ],
 "metadata": {
  "kernelspec": {
   "display_name": "Python 3 (ipykernel)",
   "language": "python",
   "name": "python3"
  },
  "language_info": {
   "codemirror_mode": {
    "name": "ipython",
    "version": 3
   },
   "file_extension": ".py",
   "mimetype": "text/x-python",
   "name": "python",
   "nbconvert_exporter": "python",
   "pygments_lexer": "ipython3",
   "version": "3.9.12"
  }
 },
 "nbformat": 4,
 "nbformat_minor": 5
}
