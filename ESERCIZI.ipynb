{
 "cells": [
  {
   "cell_type": "markdown",
   "id": "91d1f660",
   "metadata": {},
   "source": [
    "# ES0"
   ]
  },
  {
   "cell_type": "code",
   "execution_count": 1,
   "id": "e1b4ca57",
   "metadata": {},
   "outputs": [
    {
     "data": {
      "text/plain": [
       "[0, 2, 4, 6, 8, 10, 12, 14, 16, 18, 20, 22, 24, 26, 28]"
      ]
     },
     "execution_count": 1,
     "metadata": {},
     "output_type": "execute_result"
    }
   ],
   "source": [
    "l = [i for i in range(0, 30) if i % 2 == 0]\n",
    "l"
   ]
  },
  {
   "cell_type": "code",
   "execution_count": 2,
   "id": "9199bd52",
   "metadata": {},
   "outputs": [
    {
     "data": {
      "text/plain": [
       "['c', 'i', 'o']"
      ]
     },
     "execution_count": 2,
     "metadata": {},
     "output_type": "execute_result"
    }
   ],
   "source": [
    "s = \"ciao\"\n",
    "s_a = [c for c in s if c != 'a']\n",
    "s_a"
   ]
  },
  {
   "cell_type": "code",
   "execution_count": 3,
   "id": "3ad1cc17",
   "metadata": {},
   "outputs": [
    {
     "data": {
      "text/plain": [
       "'cio'"
      ]
     },
     "execution_count": 3,
     "metadata": {},
     "output_type": "execute_result"
    }
   ],
   "source": [
    "\"\".join(s_a)"
   ]
  },
  {
   "cell_type": "markdown",
   "id": "5a8c9fd7",
   "metadata": {},
   "source": [
    "# ES1"
   ]
  },
  {
   "cell_type": "code",
   "execution_count": 4,
   "id": "8e806b3d",
   "metadata": {},
   "outputs": [],
   "source": [
    "u = 1000"
   ]
  },
  {
   "cell_type": "code",
   "execution_count": 5,
   "id": "e2462eec",
   "metadata": {},
   "outputs": [
    {
     "data": {
      "text/plain": [
       "[1, 2, 4, 8, 16, 32, 64, 128, 256, 512]"
      ]
     },
     "execution_count": 5,
     "metadata": {},
     "output_type": "execute_result"
    }
   ],
   "source": [
    "l = [2**n for n in range(0, u) if 2**n <= u]\n",
    "l"
   ]
  },
  {
   "cell_type": "markdown",
   "id": "3ec110eb",
   "metadata": {},
   "source": [
    "# ES2"
   ]
  },
  {
   "cell_type": "code",
   "execution_count": 7,
   "id": "b6c1337e",
   "metadata": {},
   "outputs": [
    {
     "data": {
      "text/plain": [
       "[1, 9, 25, 49, 81, 121, 169]"
      ]
     },
     "execution_count": 7,
     "metadata": {},
     "output_type": "execute_result"
    }
   ],
   "source": [
    "n = 200\n",
    "l = [i*i for i in range(0, n) if i % 2 != 0 and i*i < n]\n",
    "l"
   ]
  },
  {
   "cell_type": "markdown",
   "id": "a474baa4",
   "metadata": {},
   "source": [
    "# ES3"
   ]
  },
  {
   "cell_type": "code",
   "execution_count": 8,
   "id": "8e9e733f",
   "metadata": {},
   "outputs": [
    {
     "data": {
      "text/plain": [
       "[[1, 2, 3, 4, 5, 6, 7, 8, 9],\n",
       " [2, 4, 6, 8, 10, 12, 14, 16, 18],\n",
       " [3, 6, 9, 12, 15, 18, 21, 24, 27],\n",
       " [4, 8, 12, 16, 20, 24, 28, 32, 36],\n",
       " [5, 10, 15, 20, 25, 30, 35, 40, 45],\n",
       " [6, 12, 18, 24, 30, 36, 42, 48, 54],\n",
       " [7, 14, 21, 28, 35, 42, 49, 56, 63],\n",
       " [8, 16, 24, 32, 40, 48, 56, 64, 72],\n",
       " [9, 18, 27, 36, 45, 54, 63, 72, 81]]"
      ]
     },
     "execution_count": 8,
     "metadata": {},
     "output_type": "execute_result"
    }
   ],
   "source": [
    "l = [[k*i for i in range(1, 10)] for k in range(1, 10)]\n",
    "l"
   ]
  },
  {
   "cell_type": "markdown",
   "id": "8b21fde1",
   "metadata": {},
   "source": [
    "# ES4"
   ]
  },
  {
   "cell_type": "code",
   "execution_count": 9,
   "id": "06eb1ad4",
   "metadata": {},
   "outputs": [
    {
     "data": {
      "text/plain": [
       "12"
      ]
     },
     "execution_count": 9,
     "metadata": {},
     "output_type": "execute_result"
    }
   ],
   "source": [
    "def somma(a, b):\n",
    "    return a + b\n",
    "\n",
    "def moltiplicazione(a, b):\n",
    "    return a * b\n",
    "\n",
    "def sottrazione(a, b):\n",
    "    return a - b\n",
    "\n",
    "def quoziente(a, b):\n",
    "    return a / b\n",
    "\n",
    "a = 10\n",
    "b = 2\n",
    "\n",
    "d = {0:somma, 1:moltiplicazione, 2:quoziente, 3:sottrazione}\n",
    "d[0](a, b)\n"
   ]
  },
  {
   "cell_type": "code",
   "execution_count": 10,
   "id": "153e8369",
   "metadata": {},
   "outputs": [
    {
     "data": {
      "text/plain": [
       "20"
      ]
     },
     "execution_count": 10,
     "metadata": {},
     "output_type": "execute_result"
    }
   ],
   "source": [
    "d[1](a, b)"
   ]
  },
  {
   "cell_type": "code",
   "execution_count": 11,
   "id": "a73273fd",
   "metadata": {},
   "outputs": [
    {
     "data": {
      "text/plain": [
       "5.0"
      ]
     },
     "execution_count": 11,
     "metadata": {},
     "output_type": "execute_result"
    }
   ],
   "source": [
    "d[2](a, b)"
   ]
  },
  {
   "cell_type": "code",
   "execution_count": 12,
   "id": "5cc64e2b",
   "metadata": {},
   "outputs": [
    {
     "data": {
      "text/plain": [
       "8"
      ]
     },
     "execution_count": 12,
     "metadata": {},
     "output_type": "execute_result"
    }
   ],
   "source": [
    "d[3](a, b)"
   ]
  },
  {
   "cell_type": "markdown",
   "id": "c06448eb",
   "metadata": {},
   "source": [
    "# ES5"
   ]
  },
  {
   "cell_type": "code",
   "execution_count": 13,
   "id": "8e8dec3e",
   "metadata": {},
   "outputs": [],
   "source": [
    "class Robot:\n",
    "    def __init__(self, massa, nome, tipologia):\n",
    "        self.nome = nome\n",
    "        self.massa = massa\n",
    "        self.tipologia = tipologia\n",
    "    \n",
    "    def nome_robot(self):\n",
    "        print(self.nome)\n",
    "    \n",
    "    def pericoloso(self):\n",
    "        if(self.tipologia and self.massa > 100):\n",
    "            return True\n",
    "        else:\n",
    "            return False"
   ]
  },
  {
   "cell_type": "code",
   "execution_count": 14,
   "id": "9044b255",
   "metadata": {},
   "outputs": [
    {
     "name": "stdout",
     "output_type": "stream",
     "text": [
      "NAO\n"
     ]
    }
   ],
   "source": [
    "r = Robot(200, \"NAO\", False)\n",
    "r.nome_robot()"
   ]
  },
  {
   "cell_type": "code",
   "execution_count": 15,
   "id": "18a2d401",
   "metadata": {},
   "outputs": [
    {
     "data": {
      "text/plain": [
       "False"
      ]
     },
     "execution_count": 15,
     "metadata": {},
     "output_type": "execute_result"
    }
   ],
   "source": [
    "r.pericoloso()"
   ]
  },
  {
   "cell_type": "markdown",
   "id": "a6afdea2",
   "metadata": {},
   "source": [
    "# ES6"
   ]
  },
  {
   "cell_type": "code",
   "execution_count": 16,
   "id": "872b2537",
   "metadata": {},
   "outputs": [],
   "source": [
    "from random import randint\n",
    "import csv"
   ]
  },
  {
   "cell_type": "code",
   "execution_count": 17,
   "id": "a11af704",
   "metadata": {},
   "outputs": [],
   "source": [
    "lista_alice = [randint(1, 6) for _ in range(0, 10)] # _ non usa memoria RAM\n",
    "lista_bob = [randint(1, 6) for _ in range(0, 10)]"
   ]
  },
  {
   "cell_type": "code",
   "execution_count": null,
   "id": "d9424eec",
   "metadata": {},
   "outputs": [],
   "source": [
    "def create_file():\n",
    "    with open(\"dadi.csv\", \"w\") as f:\n",
    "        writer = csv.writer(f)\n",
    "        writer.writerow([\"Dadi Alice\",\"Dadi Bob\"])"
   ]
  },
  {
   "cell_type": "code",
   "execution_count": null,
   "id": "a0f9047f",
   "metadata": {},
   "outputs": [],
   "source": [
    "def to_file(lanci_alice, lanci_bob):\n",
    "    with open(\"dadi.csv\", \"a\") as f:\n",
    "        writer = csv.writer(f)\n",
    "        dati = (lanci_alice, lanci_bob)\n",
    "        writer.writerow(dati)"
   ]
  },
  {
   "cell_type": "code",
   "execution_count": null,
   "id": "862f14dc",
   "metadata": {},
   "outputs": [],
   "source": [
    "create_file()\n",
    "for i, j in zip(lista_alice, lista_bob):\n",
    "    to_file(i, j)"
   ]
  },
  {
   "cell_type": "markdown",
   "id": "698b8599",
   "metadata": {},
   "source": [
    "# ES7"
   ]
  },
  {
   "cell_type": "code",
   "execution_count": 18,
   "id": "cd28531e",
   "metadata": {},
   "outputs": [
    {
     "data": {
      "text/plain": [
       "['c']"
      ]
     },
     "execution_count": 18,
     "metadata": {},
     "output_type": "execute_result"
    }
   ],
   "source": [
    "s = \"ciao\"\n",
    "s = [c for c in s if c != 'a' and c != 'e' and c != 'i' and c != 'o' and c != 'u']\n",
    "s"
   ]
  },
  {
   "cell_type": "code",
   "execution_count": 19,
   "id": "ef666a6e",
   "metadata": {},
   "outputs": [
    {
     "data": {
      "text/plain": [
       "'c'"
      ]
     },
     "execution_count": 19,
     "metadata": {},
     "output_type": "execute_result"
    }
   ],
   "source": [
    "\"\".join(s)"
   ]
  },
  {
   "cell_type": "code",
   "execution_count": 20,
   "id": "eab74cdf",
   "metadata": {},
   "outputs": [
    {
     "data": {
      "text/plain": [
       "['c']"
      ]
     },
     "execution_count": 20,
     "metadata": {},
     "output_type": "execute_result"
    }
   ],
   "source": [
    "vocali = [\"a\", \"e\", \"i\", \"o\", \"u\"]\n",
    "stringa = \"ciao\"\n",
    "lista = [lettera for lettera in stringa if lettera not in vocali] # non dentro vocali[]\n",
    "lista"
   ]
  },
  {
   "cell_type": "code",
   "execution_count": 21,
   "id": "f52cd5f3",
   "metadata": {},
   "outputs": [
    {
     "data": {
      "text/plain": [
       "'c'"
      ]
     },
     "execution_count": 21,
     "metadata": {},
     "output_type": "execute_result"
    }
   ],
   "source": [
    "\"\".join(lista)"
   ]
  }
 ],
 "metadata": {
  "kernelspec": {
   "display_name": "Python 3 (ipykernel)",
   "language": "python",
   "name": "python3"
  },
  "language_info": {
   "codemirror_mode": {
    "name": "ipython",
    "version": 3
   },
   "file_extension": ".py",
   "mimetype": "text/x-python",
   "name": "python",
   "nbconvert_exporter": "python",
   "pygments_lexer": "ipython3",
   "version": "3.9.12"
  }
 },
 "nbformat": 4,
 "nbformat_minor": 5
}
