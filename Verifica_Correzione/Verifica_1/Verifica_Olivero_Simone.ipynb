{
 "cells": [
  {
   "cell_type": "markdown",
   "id": "44ce9d47",
   "metadata": {},
   "source": [
    "# Verifica su Python e introduzione a Numpy\n",
    "### COGNOME NOME"
   ]
  },
  {
   "cell_type": "markdown",
   "id": "e75da7dd",
   "metadata": {},
   "source": [
    "## ESERCIZIO 1\n",
    "Il file *robots.txt* contiene un frammento del vero file *robots.txt* di un importante quotidiano online. Tutte le righe che iniziano con la parola chiave `Disallow:` contengono le URL di pagine del quotidiano alle quali i software automatici di web crawling o di indicizzazione non dovrebbero mai accedere. La prima directory della URL indica la tipologia di notizia a cui punta l'URL. Per esempio la riga `Disallow: /economia/finanza-personale/2010/Prova-Metadati_a1b5a008-f178-11df-8c4b-00144f02aabc.shtml`fa riferimento a una notizia di **economia**.\n",
    "\n",
    "Crea un programma in Python 3 che legga il file e generi un dizionario in cui:\n",
    "* la chiave è la tipologia di notizia,\n",
    "* il valore è il numero di notizie di quella tipologia."
   ]
  },
  {
   "cell_type": "code",
   "execution_count": 61,
   "id": "c238539f",
   "metadata": {},
   "outputs": [
    {
     "name": "stdout",
     "output_type": "stream",
     "text": [
      "# item\n",
      "Disallow: /politica/10_febbraio_05/sabrina_ferilli_non_sono_la_sora_palin_5d9b4bb8-1224-11df-b50d-00144f02aabe.shtml\n",
      "Disallow: /esteri/07_novembre_24/allam_8b31e72c-9a84-11dc-a3e4-0003ba99c53b.shtml\n",
      "Disallow: /cronache/09_ottobre_31/marrazzo_quinto_indagato_ceb2b5c2-c5f1-11de-a5d7-00144f02aabc.shtml\n",
      "Disallow: /cronache/10_settembre_20/napoli-donna-uccisa-in-auto_d6588bc2-c48c-11df-be0b-00144f02aabe.shtml\n",
      "Disallow: /politica/11_gennaio_10/prova_dbfc1a72-1ce7-11e0-a4b5-00144f02aabc.shtml\n",
      "Disallow: /cronache/10_ottobre_19/Prova_NONToccare_1137fc74-db6b-11df-a6e9-00144f02aabc.shtml\n",
      "Disallow: /sport/10_ottobre_05/prova_articoloNOTOUCH_4957ef9a-d05a-11df-9b01-00144f02aabc.shtml\n",
      "Disallow: /economia/finanza-personale/2010/Prova-Metadati_a1b5a008-f178-11df-8c4b-00144f02aabc.shtml\n",
      "Disallow: /scienze_e_tecnologie/speciali/2010/corriere-mobile/notizie/test_6eec41ea-3364-11df-82b0-00144f02aabe.shtml\n",
      "Disallow: /economia/speciali/2010/la-crisi-greca/notizie/test1_db95ec2e-520e-11df-9da0-00144f02aabe.shtml\n",
      "Disallow: /spettacoli/speciali/2010/moda/notizie/prova_84d39878-159b-11df-82f4-00144f02aabe.shtml\n",
      "Disallow: /Primo_Piano/Spettacoli/2005/09_Settembre/25/cupo.shtml\n",
      "Disallow: /Primo_Piano/Cronache/2004/08_Agosto/27/topmodel.shtml\n",
      "Disallow: /ioscrivo/racconti/racconto-236052.shtml\n",
      "Disallow: /Primo_Piano/Cronache/2006/06_Giugno/20/fitto.shtml\n",
      "Disallow: /notizie-ultima-ora/Cronache_e_politica/Genova-anziani-lasciati-tra-escrementi/17-04-2011/1-A_000197811.shtml\n",
      "Disallow: /economia/12_aprile_25/caizzi-liddi-detroit_dec93e0e-8ee4-11e1-8466-78a3503db387.shtml\n",
      "Disallow: /Primo_Piano/Cronache/2005/10_Ottobre/22/cavallaro.shtml\n",
      "Disallow: /cultura/leparole/index_temp.shtml\n",
      "Disallow: /cronache/09_novembre_29/natalie-carcere-pizzo-trans-sacchettoni_74ea4a9c-dcc0-11de-8223-00144f02aabc.shtml\n",
      "Disallow: /gallery/politica/07-2012/minzolini/02/minzolini-coccole-relax-ad-amalfi_6a6d1f70-d1bb-11e1-aa2d-fec7547fb733.shtml\n",
      "Disallow: /cronache/12_agosto_06/uno-bianca-poliziotti-encomio_8848a6f8-df9a-11e1-a2e0-2a62fa6322b0.shtml\n",
      "Disallow: /cronache/09_marzo_06/bormioli_cocaina_parma_bc0e9980-0a90-11de-91a6-00144f02aabc.shtml\n",
      "Disallow: /Primo_Piano/Politica/2006/02_Febbraio/09/comici.shtml\n",
      "Disallow: /Primo_Piano/Cronache/2005/06_Giugno/05/messina.shtml\n",
      "Disallow: /cronache/11_luglio_13/bianconi-manovre-su-pm-per-spostare-indagini_debc4886-ad10-11e0-83b2-951b61194bdf.shtml\n",
      "Disallow: /cronache/11_luglio_14/sarzanini_soffiata-mediolanum-aperta-inchiesta_00cd7cd0-addc-11e0-9787-0699da0a075e.shtml\n",
      "Disallow: /cronache/11_luglio_13/sarzanini-tremonti-mi-pedinano_63a4dd60-ad11-11e0-83b2-951b61194bdf.shtml\n",
      "Disallow: /notizie-ultima-ora/Economia/Banco-Desio-soldi-Banda-della-Magliana-parenti-Sandokan-Fatto/12-02-2013/1-A_004889541.shtml\n",
      "Disallow: /Primo_Piano/Cronache/2004/05_Maggio/23/diplomi.shtml\n",
      "Disallow: /Primo_Piano/Cronache/2006/12_Dicembre/31/lauree.shtml\n",
      "Disallow: /Primo_Piano/Cronache/10_Ottobre/23/stanzamostro.shtml\n",
      "Disallow: /politica/08_giugno_26/intercettazioni_telefonata_deangelis_berlusconi_3bf1f9e2-439c-11dd-bb33-00144f02aabc.shtml\n",
      "Disallow: /politica/08_giugno_26/intercettazioni_telefonata_deangelis_berlusconi_due_02f36cb0-439d-11dd-bb33-00144f02aabc.shtml\n",
      "Disallow: /politica/08_giugno_26/intercettazioni_telefonata_deangelis_berlusconi_tre_61c6ac92-439e-11dd-bb33-00144f02aabc.shtml\n",
      "Disallow: /politica/08_giugno_26/intercettazioni_telefonata_sacca_berlusconi_16d8bd60-4399-11dd-bb33-00144f02aabc.shtml\n",
      "Disallow: /politica/08_giugno_26/intercettazioni_telefonata_sacca_berlusconi_due_e8d57f00-439a-11dd-bb33-00144f02aabc.shtml\n",
      "Disallow: /politica/08_giugno_26/intercettazioni_tutte_f9f653b6-439c-11dd-bb33-00144f02aabc.shtml\n",
      "Disallow: /cronache/08_luglio_27/andrea_precario_contento_flessibilita_marro_0bdc7910-5b8b-11dd-b836-00144f02aabc.shtml\n",
      "Disallow: /cronache/14_febbraio_20/crescina-contestata-indaga-guariniello-b84e1482-9a47-11e3-b6d7-4032582c678b.shtml\n",
      "Disallow: /cronache/10_aprile_04/lucca-omicidio-suicidio_9d215c6a-4027-11df-8d90-00144f02aabe.shtml\n",
      "Disallow: /cronache/10_luglio_21/caso-verdini-la-finanza-indaga-su-due-milioni-fiorenza-sarzanini_17590c68-9491-11df-91c3-00144f02aabe.shtml\n",
      "Disallow: /Primo_Piano/Cronache/2007/06_Giugno/26/interrogatorio_tavallini_droga.shtml\n",
      "Disallow: /Primo_Piano/Cronache/2007/06_Giugno/26/interrogatorio_tavallini_droga.html\n",
      "Disallow: /Primo_Piano/Sport/2002/12_Dicembre/10/bugno.shtml\n",
      "Disallow: /cronache/10_dicembre_22/nipote-reviglio-arresti-14-dicembre_4a3b9fb4-0e13-11e0-8558-00144f02aabc.shtml\n",
      "Disallow: /cronache/10_agosto_05/milano-cocaina-showgirl-santucci_08306886-a052-11df-bc17-00144f02aabe.shtml\n",
      "Disallow: /Primo_Piano/Cronache/2004/12_Dicembre/23/manager.shtml\n",
      "Disallow: /Primo_Piano/Cronache/2003/10_Ottobre/14/european_school.shtml\n",
      "Disallow: /economia/13_aprile_07/ginori-porcellana-crisi_ad24c478-9f4a-11e2-bce6-d212a8ef12b1.shtml\n",
      "Disallow: /Primo_Piano/Cronache/2005/10_Ottobre/25/droga.html\n",
      "Disallow: /Primo_Piano/Cronache/2005/10_Ottobre/25/droga.shtml\n",
      "Disallow: /cronache/08_marzo_15/lancini_arrestato_587263ee-f299-11dc-ae1f-0003ba99c667.shtml\n",
      "Disallow: /Primo_Piano/Cronache/2004/12_Dicembre/01/bambina.shtml\n",
      "Disallow: /cronache/09_luglio_23/banda_fdf91ed0-7749-11de-a20d-00144f02aabc.shtml\n",
      "Disallow: /Primo_Piano/Cronache/2006/03_Marzo/16/haver-marsiglia.html\n",
      "Disallow: /Primo_Piano/Cronache/2006/03_Marzo/16/haver-marsiglia.shtml\n",
      "Disallow: /Primo_Piano/Cronache/2006/05_Maggio/12/pop_indagati.shtml\n",
      "Disallow: /cronache/14_giugno_13/posti-barca-donne-finanzieri-sistema-aggiustare-controlli-4be678a0-f2b9-11e3-9109-f9f25fcc02f9.shtml\n",
      "Disallow: /Primo_Piano/Cronache/2006/12_Dicembre/31/lauree.html\n",
      "Disallow: /cronache/12_novembre_04/cosenza-madre-denuncia-figlio_1135d162-2671-11e2-8015-d7b141f471a2.shtml\n",
      "Disallow: /notizie-ultima-ora/Cronache_e_politica/Scomparsa-week-end-Romagna/19-03-2014/1-A_011472825.shtml\n",
      "Disallow: /Primo_Piano/Cronache/2007/04_Aprile/20/auto_incidentifinti_bologna_imarisio.html\n",
      "Disallow: /Primo_Piano/Cronache/2007/04_Aprile/20/auto_incidentifinti_bologna_imarisio.shtml \n",
      "Disallow: /economia/08_febbraio_28/wind_corruzione_887238f4-e61d-11dc-ab61-0003ba99c667.shtml\n",
      "Disallow: /cronache/14_gennaio_23/rimini-risarcito-barbone-bruciato-ma-suo-avvocato-prosciuga-conto-232fb234-845d-11e3-a32e-831830ba1aa5.shtml\n",
      "Disallow: /politica/12_aprile_12/fondi-all-estero-cosi-il-carroccio-tento-di-coprire-tesoriere-fiorenza-sarzanini_8245d858-8468-11e1-8bd9-25a08dbe0046.shtml\n",
      "Disallow: /cronache/12_ottobre_05/tasse-rubate-saggese_606fb92a-0eaa-11e2-8205-e823db4485d4.shtml\n",
      "Disallow: /cultura/12_dicembre_19/frignani-truffa-nome-modigliani_d1c07518-49e4-11e2-8f39-57d26b118e07.shtml\n",
      "Disallow: /notizie-ultima-ora/Cronache/Petrolio-condannato-sen-Margiotta/11-12-2014/1-A_015317166.shtml\n",
      "Disallow: /cronache/13_gennaio_31/maenza-indagato-abusi-sessuali-su-minori_507e2eae-6bc3-11e2-bfdf-0d9d15b9395f.shtml\n",
      "Disallow: /politica/09_novembre_01/sarzanini-carte-marrazzo_d7edba10-c6d7-11de-b8db-00144f02aabc.shtml\n",
      "Disallow: /Primo_Piano/Cronache/2006/07_Luglio/29/hav3r.html\n",
      "Disallow: /Primo_Piano/Cronache/2006/07_Luglio/29/hav3r.shtml\n",
      "Disallow: /Primo_Piano/Cronache/2007/05_Maggio/08/perugia_arresti_cassazione.html\n",
      "Disallow: /Primo_Piano/Cronache/2007/05_Maggio/08/perugia_arresti_cassazione.shtml\n",
      "Disallow: /cronache/08_febbraio_04/genova_arrestato_presidente_porto_6ce48218-d344-11dc-8916-0003ba99c667.shtml\n",
      "Disallow: /spettacoli/10_ottobre_28/baby-sky-tv_96993302-e259-11df-8440-00144f02aabc.shtml\n",
      "Disallow: /economia/trovolavoro/12_dicembre_07/consigliere-startup-iniziare-donne_03104550-405b-11e2-abcd-38132480d58e.shtml\n",
      "Disallow: /notizie-ultima-ora/Cronache_e_politica/Corruzione-indagati-vertici-Gdf-AP/28-02-2014/1-A_011152497.shtml\n",
      "Disallow: /cronache/08_dicembre_17/woodcock_indagato_chiave_fiorenza_sarzanini_140878bc-cc03-11dd-bd86-00144f02aabc.shtml\n",
      "Disallow: /cronache/15_ottobre_06/torino-uomo-precipita-settimo-piano-lite-una-donna-e2cc8c66-6c0f-11e5-8623-fefb598d5187.shtml\n",
      "Disallow: /cronache/12_marzo_20/reggio-calabria-arresto-infermiere-furti-pazienti_dbdb74fc-7281-11e1-a140-d2a8d972d17a.shtml\n",
      "Disallow: /Primo_Piano/Cronache/2007/04_Aprile/20/auto_incidentifinti_bologna_imarisio.shtml\n",
      "Disallow: /cultura/dai-cittadini-per-i-cittadini/lettere-d-amore/gallery.shtml\n",
      "Disallow: /Primo_Piano/Cronache/2003/06_Giugno/06/sequestro.shtml\n",
      "Disallow: /Primo_Piano/Cronache/2006/07_Luglio/07/scandalo.html\n",
      "Disallow: /politica/speciali/2012/elezioni-amministrative/notizie/liste-elettorali-belluno_ec09c338-84bf-11e1-8bd9-25a08dbe0046.shtml\n",
      "Disallow: /sette/13_luglio_29/2013-31-fiaschetti-falsi-autori_9becf36c-f84e-11e2-a59e-96a502746665.shtml\n",
      "Disallow: /Primo_Piano/Cronache/2006/03_Marzo/08/videopoker.shtml\n",
      "Disallow: /Primo_Piano/Cronache/2006/03_Marzo/08/videopoker.html\n",
      "Disallow: /cronache/08_febbraio_04/genova_arrestato_presidente_porto_6ce48218-d344-11dc-8916-0003ba99c667.shtml\n",
      "Disallow: /politica/07_dicembre_23/intercettazioni_vittime_colloqui_laterali_0b01ba62-b133-11dc-9f4d-0003ba99c53b.shtml\n",
      "Disallow: /Primo_Piano/Cronache/2006/09_Settembre/22/bille.html\n",
      "Disallow: /Primo_Piano/Cronache/2006/09_Settembre/22/bille.shtml\n",
      "Disallow: /politica/09_novembre_01/sarzanini-carte-marrazzo_d7edba10-c6d7-11de-b8db-00144f02aabc.shtml\n",
      "Disallow: /politica/16_luglio_08/gara-camera-manovre-pizza-bene-c-marotta-inchiesta-tiap-549f4872-4484-11e6-a4dc-8aa8f57c2afd.shtml\n",
      "Disallow: /cronache/12_luglio_12/con-amico-lelemora-in-cella-farina-condannato-per-falso_0649516c-cbdf-11e1-b65b-6f476fc4c4c1.shtml\n",
      "Disallow: /cronache/13_febbraio_17/mps-interrogatorio-sarzanini_53d10ac4-78dc-11e2-a28b-a2fa92ae99be.shtml\n",
      "Disallow: /cronache/12_settembre_18/dellutri-indagata-moglie-palermo_f8508d56-0170-11e2-a63e-daa4ff219e76.shtml\n",
      "Disallow: /Primo_Piano/Cronache/2007/06_Giugno/18/perquisizioni_catanzaro.html\n",
      "Disallow: /cronache/10_settembre_23/imprenditori-arrestati-torino_6dbdeb30-c6f2-11df-ad8a-00144f02aabe.shtml\n",
      "Disallow: /politica/12_aprile_06/sarzanini-ora-i-soldi-a-calderoli_ad49dee4-7fab-11e1-8090-7ef417050996.shtml\n",
      "Disallow: /politica/12_aprile_06/sarzanini-ora-i-soldi-a-calderoli_ad49dee4-7fab-11e1-8090-7ef417050996_print.html\n",
      "Disallow: /Primo_Piano/Economia/2007/05_Maggio/21/sicilia.html\n",
      "Disallow: /Primo_Piano/Cronache/2003/12_Dicembre/19/stella.shtml\n",
      "Disallow: /notizie-ultima-ora/Cronache/Trani-sfruttamento-della-prostituzione-due-arresti/22-09-2009/1-A_000048745.shtml\n",
      "Disallow: /Primo_Piano/Cronache/2007/07_Luglio/25/tanzi_rinviato_giudizio.html\n",
      "Disallow: /notizie-ultima-ora/Cronache_e_politica/Beni-mln-sequestrati-cosche/04-11-2014/1-A_015082704.shtml\n",
      "Disallow: /Primo_Piano/Cronache/2003/05_Maggio/05/spari.shtml\n",
      "Disallow: /politica/12_maggio_15/sottosegretario-zoppini-indagato-si-dimette_c396ceaa-9eb4-11e1-96f0-f194789fe706.shtml\n",
      "Disallow: /cronache/10_novembre_19/arresto-errani-pilota-rally-evasione-fiscale_cc284ce8-f3b5-11df-91ce-00144f02aabc.shtml\n",
      "Disallow: /Primo_Piano/Cronache/2006/06_Giugno/17/biancon1-sarzanin1.shtml\n",
      "Disallow: /Primo_Piano/Cronache/2006/06_Giugno/17/biancon1-sarzanin1.html\n",
      "Disallow: /Primo_Piano/Economia/2006/12_Dicembre/18/carige.html\n",
      "Disallow: /Primo_Piano/Economia/2006/12_Dicembre/18/carige.shtml\n",
      "Disallow: /Primo_Piano/Economia/2006/10_Ottobre/23/gerevini.shtml\n",
      "Disallow: /Primo_Piano/Economia/2006/10_Ottobre/23/gerevini.html\n",
      "Disallow: /cronache/13_novembre_27/ecco-manager-politici-corrotti-fondi-neri-a43e5264-572f-11e3-a452-4c48221dc3be.shtml\n",
      "Disallow: /cronache/08_febbraio_11/ricucci_rcs_rinvio_giudizio_a2d14564-d8b7-11dc-94be-0003ba99c667.shtml\n",
      "Disallow: /inchieste/reportime/societa/enpam-indagato-anche-super-consulente/77a7036a-898e-11e1-a8e9-f84c50c7f614.shtml\n"
     ]
    }
   ],
   "source": [
    "f = open(\"robots.txt\",\"r\") \n",
    "print(f.read())"
   ]
  },
  {
   "cell_type": "markdown",
   "id": "8446b35f",
   "metadata": {},
   "source": [
    "## ESERCIZIO 2\n",
    "Crea un array di numpy che contenga tutti i numeri interi tra 2 e 1000 (estremi inclusi), ma nel quale tutti i numeri divisibili per 7 sono sostituiti da uno 0. Infine crea un array contenente tutti i numeri interi tra 2 e 1000 (estremi inclusi) ma privo di tutti i numeri divisibili per 7."
   ]
  },
  {
   "cell_type": "code",
   "execution_count": 95,
   "id": "dd7a28bb",
   "metadata": {},
   "outputs": [
    {
     "data": {
      "text/plain": [
       "array([    2,     3,     4, ...,  9998,  9999, 10000])"
      ]
     },
     "execution_count": 95,
     "metadata": {},
     "output_type": "execute_result"
    }
   ],
   "source": [
    "import numpy as np\n",
    "array = np.arange(2,10001)\n",
    "array"
   ]
  },
  {
   "cell_type": "code",
   "execution_count": 46,
   "id": "f1a4a6c0",
   "metadata": {},
   "outputs": [
    {
     "name": "stdout",
     "output_type": "stream",
     "text": [
      "[  5  12  19  26  33  40  47  54  61  68  75  82  89  96 103 110 117 124\n",
      " 131 138 145 152 159 166 173 180 187 194 201 208 215 222 229 236 243 250\n",
      " 257 264 271 278 285 292 299 306 313 320 327 334 341 348 355 362 369 376\n",
      " 383 390 397 404 411 418 425 432 439 446 453 460 467 474 481 488 495 502\n",
      " 509 516 523 530 537 544 551 558 565 572 579 586 593 600 607 614 621 628\n",
      " 635 642 649 656 663 670 677 684 691 698 705 712 719 726 733 740 747 754\n",
      " 761 768 775 782 789 796 803 810 817 824 831 838 845 852 859 866 873 880\n",
      " 887 894 901 908 915 922 929 936 943 950 957 964 971 978 985 992]\n"
     ]
    }
   ],
   "source": [
    "array2 = np.arange(5,997,7)\n",
    "print(array2)"
   ]
  },
  {
   "cell_type": "code",
   "execution_count": 100,
   "id": "5146284c",
   "metadata": {},
   "outputs": [
    {
     "data": {
      "text/plain": [
       "array([2, 3, 4, ..., 5, 5, 5])"
      ]
     },
     "execution_count": 100,
     "metadata": {},
     "output_type": "execute_result"
    }
   ],
   "source": [
    "array=np.clip(array, 0, 7)\n",
    "array"
   ]
  },
  {
   "cell_type": "markdown",
   "id": "67ec09e9",
   "metadata": {},
   "source": [
    "## ESERCIZIO 3\n",
    "Dato `n`numero intero dispari maggiore o uguale a 5 crea una matrice di numpy che abbia la struttura seguente esemplificata, per il caso `n=7`. \n",
    "\n",
    "`[[0.35012821 0.13462121 0.38492916 0.51293425 0.25255366 0.85166111 0.59550361]\n",
    " [0.47468085 0.         0.         1.         0.         0.         0.18300893]\n",
    " [0.23703845 0.         0.         1.         0.         0.         0.89905447]\n",
    " [0.52372585 1.         1.         1.         1.         1.         0.95780342]\n",
    " [0.51881137 0.         0.         1.         0.         0.         0.03430885]\n",
    " [0.09985312 0.         0.         1.         0.         0.         0.78938087]\n",
    " [0.37453082 0.21909742 0.6154127  0.89541758 0.79158936 0.68202705 0.82876577]`\n",
    " \n",
    "La cornice della matrice deve essere composta di numeri pseudocasuali compresi tra 0 e 1, mentre l'interno deve essere riempito di 0 tranne nella riga e nella colonna mediane, le quali conterrano degli 1.\n",
    " "
   ]
  },
  {
   "cell_type": "code",
   "execution_count": 88,
   "id": "d68acae7",
   "metadata": {},
   "outputs": [
    {
     "data": {
      "text/plain": [
       "array([[4.06699688, 0.60605929, 4.55446302, 2.23283418, 0.96672336,\n",
       "        3.00513199, 6.82819737],\n",
       "       [5.04003347, 2.70764373, 6.75801141, 5.46892086, 0.87057371,\n",
       "        4.82808536, 2.7063135 ],\n",
       "       [2.41064703, 4.28197088, 6.96794893, 1.82761028, 6.38439412,\n",
       "        0.12561834, 4.00155225],\n",
       "       [0.63460948, 0.93499775, 3.56094198, 0.69772427, 0.42782484,\n",
       "        2.64186528, 4.11035452],\n",
       "       [5.70604523, 2.27165011, 5.20910747, 6.53397601, 6.9822119 ,\n",
       "        0.16886393, 5.334528  ],\n",
       "       [1.6191444 , 5.0182199 , 1.88676254, 5.84175804, 1.59948482,\n",
       "        3.45696412, 2.49316464],\n",
       "       [4.70512133, 2.26118766, 1.05168576, 3.78871073, 1.66830716,\n",
       "        1.7837807 , 5.30146364]])"
      ]
     },
     "execution_count": 88,
     "metadata": {},
     "output_type": "execute_result"
    }
   ],
   "source": [
    "matrice= np.random.uniform(0.,7.,(7,7))\n",
    "matrice"
   ]
  },
  {
   "cell_type": "code",
   "execution_count": 93,
   "id": "08eb53b2",
   "metadata": {},
   "outputs": [
    {
     "data": {
      "text/plain": [
       "array([[4.06699688, 0.60605929, 4.55446302, 2.23283418, 0.96672336,\n",
       "        3.00513199, 6.82819737],\n",
       "       [5.04003347, 1.        , 1.        , 1.        , 1.        ,\n",
       "        1.        , 2.7063135 ],\n",
       "       [2.41064703, 1.        , 1.        , 1.        , 1.        ,\n",
       "        1.        , 4.00155225],\n",
       "       [0.63460948, 1.        , 1.        , 1.        , 1.        ,\n",
       "        1.        , 4.11035452],\n",
       "       [5.70604523, 1.        , 1.        , 1.        , 1.        ,\n",
       "        1.        , 5.334528  ],\n",
       "       [1.6191444 , 1.        , 1.        , 1.        , 1.        ,\n",
       "        1.        , 2.49316464],\n",
       "       [4.70512133, 2.26118766, 1.05168576, 3.78871073, 1.66830716,\n",
       "        1.7837807 , 5.30146364]])"
      ]
     },
     "execution_count": 93,
     "metadata": {},
     "output_type": "execute_result"
    }
   ],
   "source": [
    "matrice[1:6,1:6]=1 \n",
    "matrice"
   ]
  },
  {
   "cell_type": "code",
   "execution_count": null,
   "id": "a1ec9112",
   "metadata": {},
   "outputs": [],
   "source": []
  }
 ],
 "metadata": {
  "kernelspec": {
   "display_name": "Python 3 (ipykernel)",
   "language": "python",
   "name": "python3"
  },
  "language_info": {
   "codemirror_mode": {
    "name": "ipython",
    "version": 3
   },
   "file_extension": ".py",
   "mimetype": "text/x-python",
   "name": "python",
   "nbconvert_exporter": "python",
   "pygments_lexer": "ipython3",
   "version": "3.9.12"
  }
 },
 "nbformat": 4,
 "nbformat_minor": 5
}
