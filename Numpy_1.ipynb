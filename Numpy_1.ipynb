{
 "cells": [
  {
   "cell_type": "code",
   "execution_count": 1,
   "id": "9dd2e5fc",
   "metadata": {},
   "outputs": [],
   "source": [
    "import numpy as np"
   ]
  },
  {
   "cell_type": "code",
   "execution_count": 2,
   "id": "d8942b19",
   "metadata": {},
   "outputs": [],
   "source": [
    "lista = [1, 2, 3, 4]"
   ]
  },
  {
   "cell_type": "code",
   "execution_count": 3,
   "id": "4a6cea70",
   "metadata": {},
   "outputs": [
    {
     "data": {
      "text/plain": [
       "list"
      ]
     },
     "execution_count": 3,
     "metadata": {},
     "output_type": "execute_result"
    }
   ],
   "source": [
    "type(lista)"
   ]
  },
  {
   "cell_type": "code",
   "execution_count": 4,
   "id": "ed5d4290",
   "metadata": {},
   "outputs": [],
   "source": [
    "array = np.array(lista)"
   ]
  },
  {
   "cell_type": "code",
   "execution_count": 5,
   "id": "a7aae9c1",
   "metadata": {},
   "outputs": [
    {
     "data": {
      "text/plain": [
       "array([1, 2, 3, 4])"
      ]
     },
     "execution_count": 5,
     "metadata": {},
     "output_type": "execute_result"
    }
   ],
   "source": [
    "array"
   ]
  },
  {
   "cell_type": "code",
   "execution_count": 6,
   "id": "4051f93b",
   "metadata": {},
   "outputs": [
    {
     "data": {
      "text/plain": [
       "numpy.ndarray"
      ]
     },
     "execution_count": 6,
     "metadata": {},
     "output_type": "execute_result"
    }
   ],
   "source": [
    "type(array)"
   ]
  },
  {
   "cell_type": "code",
   "execution_count": 7,
   "id": "0675a2c8",
   "metadata": {},
   "outputs": [
    {
     "data": {
      "text/plain": [
       "array([ 3,  6,  9, 12])"
      ]
     },
     "execution_count": 7,
     "metadata": {},
     "output_type": "execute_result"
    }
   ],
   "source": [
    "3*array"
   ]
  },
  {
   "cell_type": "code",
   "execution_count": 8,
   "id": "3b9673b5",
   "metadata": {},
   "outputs": [
    {
     "data": {
      "text/plain": [
       "[1, 2, 3, 4, 1, 2, 3, 4, 1, 2, 3, 4]"
      ]
     },
     "execution_count": 8,
     "metadata": {},
     "output_type": "execute_result"
    }
   ],
   "source": [
    "3*lista"
   ]
  },
  {
   "cell_type": "code",
   "execution_count": 9,
   "id": "020f2b39",
   "metadata": {},
   "outputs": [
    {
     "data": {
      "text/plain": [
       "array([11, 12, 13, 14])"
      ]
     },
     "execution_count": 9,
     "metadata": {},
     "output_type": "execute_result"
    }
   ],
   "source": [
    "10 + array"
   ]
  },
  {
   "cell_type": "code",
   "execution_count": 10,
   "id": "62c99d91",
   "metadata": {},
   "outputs": [
    {
     "data": {
      "text/plain": [
       "array([1, 2, 3, 4])"
      ]
     },
     "execution_count": 10,
     "metadata": {},
     "output_type": "execute_result"
    }
   ],
   "source": [
    "array"
   ]
  },
  {
   "cell_type": "code",
   "execution_count": 11,
   "id": "0989db57",
   "metadata": {},
   "outputs": [],
   "source": [
    "a = array.copy()"
   ]
  },
  {
   "cell_type": "code",
   "execution_count": 12,
   "id": "7a231cc8",
   "metadata": {},
   "outputs": [
    {
     "data": {
      "text/plain": [
       "array([1, 2, 3, 4])"
      ]
     },
     "execution_count": 12,
     "metadata": {},
     "output_type": "execute_result"
    }
   ],
   "source": [
    "a"
   ]
  },
  {
   "cell_type": "code",
   "execution_count": 13,
   "id": "0f8dfd78",
   "metadata": {},
   "outputs": [
    {
     "data": {
      "text/plain": [
       "array([4, 3, 2, 1])"
      ]
     },
     "execution_count": 13,
     "metadata": {},
     "output_type": "execute_result"
    }
   ],
   "source": [
    "b = np.array(lista[::-1])\n",
    "b"
   ]
  },
  {
   "cell_type": "code",
   "execution_count": 14,
   "id": "bd6e9f83",
   "metadata": {},
   "outputs": [
    {
     "data": {
      "text/plain": [
       "array([5, 5, 5, 5])"
      ]
     },
     "execution_count": 14,
     "metadata": {},
     "output_type": "execute_result"
    }
   ],
   "source": [
    "a+b"
   ]
  },
  {
   "cell_type": "code",
   "execution_count": 15,
   "id": "5d4ca9a5",
   "metadata": {},
   "outputs": [
    {
     "data": {
      "text/plain": [
       "array([0, 0, 0, 0, 0, 0, 0, 0, 0, 0], dtype=int8)"
      ]
     },
     "execution_count": 15,
     "metadata": {},
     "output_type": "execute_result"
    }
   ],
   "source": [
    "zeri = np.zeros(10, dtype = np.int8)\n",
    "zeri"
   ]
  },
  {
   "cell_type": "code",
   "execution_count": 16,
   "id": "70b01929",
   "metadata": {},
   "outputs": [
    {
     "data": {
      "text/plain": [
       "array([1., 1., 1., 1., 1., 1., 1., 1., 1., 1.])"
      ]
     },
     "execution_count": 16,
     "metadata": {},
     "output_type": "execute_result"
    }
   ],
   "source": [
    "uni = np.ones(10)\n",
    "uni"
   ]
  },
  {
   "cell_type": "code",
   "execution_count": 17,
   "id": "2c7371dd",
   "metadata": {},
   "outputs": [
    {
     "data": {
      "text/plain": [
       "array([0.07163847, 0.49619894, 0.81434635, 0.30827558, 0.9136189 ,\n",
       "       0.15898564, 0.3509203 , 0.96128211, 0.27878405, 0.1406625 ])"
      ]
     },
     "execution_count": 17,
     "metadata": {},
     "output_type": "execute_result"
    }
   ],
   "source": [
    "np.random.uniform(size=10)"
   ]
  },
  {
   "cell_type": "code",
   "execution_count": 21,
   "id": "1e2aa7e9",
   "metadata": {},
   "outputs": [],
   "source": [
    "alice = np.random.randint(1, 7, 10)"
   ]
  },
  {
   "cell_type": "code",
   "execution_count": 22,
   "id": "d1fad0dd",
   "metadata": {},
   "outputs": [],
   "source": [
    "bob = np.random.randint(1, 7, 10)"
   ]
  },
  {
   "cell_type": "code",
   "execution_count": 23,
   "id": "8c0ce0da",
   "metadata": {},
   "outputs": [
    {
     "name": "stdout",
     "output_type": "stream",
     "text": [
      "Lanci di Alice: [3 5 4 1 1 4 2 4 3 6]\n",
      "Lanci di Bob: [3 4 4 3 1 5 2 2 1 1]\n"
     ]
    }
   ],
   "source": [
    "print(f\"Lanci di Alice: {alice}\")\n",
    "print(f\"Lanci di Bob: {bob}\")"
   ]
  },
  {
   "cell_type": "code",
   "execution_count": 25,
   "id": "a5df5ebb",
   "metadata": {},
   "outputs": [
    {
     "data": {
      "text/plain": [
       "dtype('int32')"
      ]
     },
     "execution_count": 25,
     "metadata": {},
     "output_type": "execute_result"
    }
   ],
   "source": [
    "alice.dtype"
   ]
  },
  {
   "cell_type": "code",
   "execution_count": null,
   "id": "1a2d3adc",
   "metadata": {},
   "outputs": [],
   "source": []
  },
  {
   "cell_type": "code",
   "execution_count": 27,
   "id": "2cf3a43d",
   "metadata": {},
   "outputs": [],
   "source": [
    "alice_vince = alice > bob"
   ]
  },
  {
   "cell_type": "code",
   "execution_count": 28,
   "id": "4a1a9434",
   "metadata": {},
   "outputs": [
    {
     "data": {
      "text/plain": [
       "array([False,  True, False, False, False, False, False,  True,  True,\n",
       "        True])"
      ]
     },
     "execution_count": 28,
     "metadata": {},
     "output_type": "execute_result"
    }
   ],
   "source": [
    "alice_vince"
   ]
  },
  {
   "cell_type": "code",
   "execution_count": 29,
   "id": "5301356e",
   "metadata": {},
   "outputs": [
    {
     "data": {
      "text/plain": [
       "numpy.ndarray"
      ]
     },
     "execution_count": 29,
     "metadata": {},
     "output_type": "execute_result"
    }
   ],
   "source": [
    "type(alice_vince)"
   ]
  },
  {
   "cell_type": "code",
   "execution_count": 30,
   "id": "fb8e33ec",
   "metadata": {},
   "outputs": [
    {
     "data": {
      "text/plain": [
       "dtype('bool')"
      ]
     },
     "execution_count": 30,
     "metadata": {},
     "output_type": "execute_result"
    }
   ],
   "source": [
    "alice_vince.dtype"
   ]
  },
  {
   "cell_type": "code",
   "execution_count": 31,
   "id": "fb6943ab",
   "metadata": {},
   "outputs": [
    {
     "data": {
      "text/plain": [
       "array([5, 4, 3, 6])"
      ]
     },
     "execution_count": 31,
     "metadata": {},
     "output_type": "execute_result"
    }
   ],
   "source": [
    "alice[alice_vince] # indicizzazione booleana"
   ]
  },
  {
   "cell_type": "code",
   "execution_count": 32,
   "id": "64545606",
   "metadata": {},
   "outputs": [
    {
     "data": {
      "text/plain": [
       "array([4, 2, 1, 1])"
      ]
     },
     "execution_count": 32,
     "metadata": {},
     "output_type": "execute_result"
    }
   ],
   "source": [
    "bob[alice_vince]"
   ]
  },
  {
   "cell_type": "code",
   "execution_count": 34,
   "id": "4ff345cc",
   "metadata": {},
   "outputs": [
    {
     "data": {
      "text/plain": [
       "array([ 3,  6,  9, 12, 15, 18])"
      ]
     },
     "execution_count": 34,
     "metadata": {},
     "output_type": "execute_result"
    }
   ],
   "source": [
    "np.arange(3, 20, 3)"
   ]
  },
  {
   "cell_type": "code",
   "execution_count": 35,
   "id": "cf6dbe72",
   "metadata": {},
   "outputs": [
    {
     "data": {
      "text/plain": [
       "array([ 0,  1,  2,  3,  4,  5,  6,  7,  8,  9, 10, 11, 12, 13, 14, 15, 16,\n",
       "       17, 18, 19])"
      ]
     },
     "execution_count": 35,
     "metadata": {},
     "output_type": "execute_result"
    }
   ],
   "source": [
    "np.arange(20)"
   ]
  },
  {
   "cell_type": "code",
   "execution_count": 40,
   "id": "c822c154",
   "metadata": {},
   "outputs": [
    {
     "data": {
      "text/plain": [
       "array([0. , 0.5, 1. , 1.5, 2. , 2.5, 3. , 3.5, 4. , 4.5, 5. ])"
      ]
     },
     "execution_count": 40,
     "metadata": {},
     "output_type": "execute_result"
    }
   ],
   "source": [
    "np.linspace(0.0, 5.0, 11)"
   ]
  },
  {
   "cell_type": "code",
   "execution_count": 43,
   "id": "0570f60f",
   "metadata": {},
   "outputs": [
    {
     "data": {
      "text/plain": [
       "array([0.80974479, 5.2176617 , 6.87449485, 1.21102889, 8.44922127])"
      ]
     },
     "execution_count": 43,
     "metadata": {},
     "output_type": "execute_result"
    }
   ],
   "source": [
    "np.random.uniform(0., 10., 5) # reale"
   ]
  },
  {
   "cell_type": "code",
   "execution_count": 44,
   "id": "667c7c82",
   "metadata": {},
   "outputs": [
    {
     "data": {
      "text/plain": [
       "array([3, 6, 2, 5, 4])"
      ]
     },
     "execution_count": 44,
     "metadata": {},
     "output_type": "execute_result"
    }
   ],
   "source": [
    "np.random.randint(1, 7, 5)"
   ]
  },
  {
   "cell_type": "code",
   "execution_count": 47,
   "id": "b516ce86",
   "metadata": {},
   "outputs": [
    {
     "data": {
      "text/plain": [
       "array(['Croce', 'Croce', 'Testa', 'Testa', 'Croce', 'Testa', 'Croce',\n",
       "       'Croce', 'Croce', 'Testa', 'Testa', 'Testa', 'Croce', 'Testa',\n",
       "       'Testa', 'Croce', 'Testa', 'Croce', 'Testa', 'Croce'], dtype='<U5')"
      ]
     },
     "execution_count": 47,
     "metadata": {},
     "output_type": "execute_result"
    }
   ],
   "source": [
    "np.random.choice([\"Testa\", \"Croce\"], 20)"
   ]
  },
  {
   "cell_type": "code",
   "execution_count": 48,
   "id": "bbb53626",
   "metadata": {},
   "outputs": [
    {
     "data": {
      "text/plain": [
       "array(['Testa', 'Testa', 'Testa', 'Testa', 'Croce', 'Testa', 'Croce',\n",
       "       'Testa', 'Testa', 'Croce'], dtype='<U5')"
      ]
     },
     "execution_count": 48,
     "metadata": {},
     "output_type": "execute_result"
    }
   ],
   "source": [
    "np.random.choice([\"2\", \"Croce\"], 10, p = [0.7, 0.3])"
   ]
  },
  {
   "cell_type": "code",
   "execution_count": 49,
   "id": "38b20674",
   "metadata": {},
   "outputs": [
    {
     "data": {
      "text/plain": [
       "array([2.31925354, 0.74105422, 1.38690355, 0.71008991, 1.08372122,\n",
       "       2.60680683, 2.10567858, 2.00480251, 0.71654503, 2.43585891])"
      ]
     },
     "execution_count": 49,
     "metadata": {},
     "output_type": "execute_result"
    }
   ],
   "source": [
    "np.random.normal(1., 1., 10)"
   ]
  },
  {
   "cell_type": "code",
   "execution_count": null,
   "id": "7e14530e",
   "metadata": {},
   "outputs": [],
   "source": []
  }
 ],
 "metadata": {
  "kernelspec": {
   "display_name": "Python 3 (ipykernel)",
   "language": "python",
   "name": "python3"
  },
  "language_info": {
   "codemirror_mode": {
    "name": "ipython",
    "version": 3
   },
   "file_extension": ".py",
   "mimetype": "text/x-python",
   "name": "python",
   "nbconvert_exporter": "python",
   "pygments_lexer": "ipython3",
   "version": "3.9.12"
  }
 },
 "nbformat": 4,
 "nbformat_minor": 5
}
