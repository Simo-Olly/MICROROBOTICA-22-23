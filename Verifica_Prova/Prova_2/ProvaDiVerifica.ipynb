{
 "cells": [
  {
   "cell_type": "code",
   "execution_count": 1,
   "id": "a4ae9fe9",
   "metadata": {},
   "outputs": [],
   "source": [
    "import numpy as np\n",
    "import matplotlib.pyplot as plt"
   ]
  },
  {
   "cell_type": "markdown",
   "id": "de801a19",
   "metadata": {},
   "source": [
    "### Esercizio 1\n",
    "Nel file `covid-19_gen1.txt` è presente l'RNA di un virus SARS-COV-2. L'RNA è una sequenza in cui si alternano 4 simboli (detti nucleotidi): A, T, C, G.\n",
    "L'RNA del  virus SARS-COV-2 contiene 29903 nucleotidi. Leggi il file e crea un array di Numpy contenente i 29903 elementi, uno per ogni nucleotide secondo l'ordine contenuto nel file.\n",
    "\n",
    "Utilizza Numpy per:\n",
    "1. calcolare la frequenza assoluta di ogni nucleotide;\n",
    "2. calcolare la frequenza assoluta della sequenza A,T,G;\n",
    "4. sapendo che la sequenza A,T,G,T,T,T,G,T,T,T,T,T sta all'inzio del segmento di RNA che codifica la proteina spike, individuare se la proteina spike è presente nell'RNA: in caso affermativo ottenere la posizione iniziale della proteina spike all'interno dell'array. *SUGGERIMENTO*: costruisci la matrice contenente tutte le possibili sequenze di 12 nucleotidi, nella quale ogni riga rappresenta una sequenza consecutiva di 12 nucleotidi."
   ]
  },
  {
   "cell_type": "code",
   "execution_count": 2,
   "id": "8d416971",
   "metadata": {},
   "outputs": [
    {
     "name": "stdout",
     "output_type": "stream",
     "text": [
      "['A' 'T' 'T' ... 'A' 'A' 'A']\n"
     ]
    }
   ],
   "source": [
    "lista = []\n",
    "with open(\"covid-19_gen1.txt\", \"r\") as f:\n",
    "    righe = f.readlines()\n",
    "    for r in righe:\n",
    "        for i in r[:-1]:\n",
    "            lista.append(i)\n",
    "    array = np.array(lista)\n",
    "    print(array)"
   ]
  },
  {
   "cell_type": "code",
   "execution_count": 3,
   "id": "928ad944",
   "metadata": {},
   "outputs": [
    {
     "name": "stdout",
     "output_type": "stream",
     "text": [
      "(8954,) (5492,) (5863,) (9594,)\n"
     ]
    }
   ],
   "source": [
    "array_A = array[array == 'A']\n",
    "array_T = array[array == 'T']\n",
    "array_C = array[array == 'C']\n",
    "array_G = array[array == \"G\"]\n",
    "print(array_A.shape, array_C.shape, array_G.shape, array_T.shape)"
   ]
  },
  {
   "cell_type": "code",
   "execution_count": 4,
   "id": "79699509",
   "metadata": {},
   "outputs": [
    {
     "data": {
      "text/plain": [
       "array([False, False, False, ..., False, False, False])"
      ]
     },
     "execution_count": 4,
     "metadata": {},
     "output_type": "execute_result"
    }
   ],
   "source": [
    "#sequenza = np.array(['A', 'T', 'G'])\n",
    "sequenza = np.logical_and(array == 'A', np.roll(array, -1) == 'T')\n",
    "sequenza = np.logical_and(sequenza, np.roll(array, -2) == 'G')\n",
    "sequenza"
   ]
  },
  {
   "cell_type": "code",
   "execution_count": 5,
   "id": "579aecfe",
   "metadata": {},
   "outputs": [
    {
     "data": {
      "text/plain": [
       "(725,)"
      ]
     },
     "execution_count": 5,
     "metadata": {},
     "output_type": "execute_result"
    }
   ],
   "source": [
    "lunghezza = array.shape[0]\n",
    "array_posizioni = np.arange(0, lunghezza)\n",
    "array_posizioni[sequenza].shape"
   ]
  },
  {
   "cell_type": "code",
   "execution_count": null,
   "id": "c95cd9fa",
   "metadata": {},
   "outputs": [],
   "source": []
  },
  {
   "cell_type": "markdown",
   "id": "de8c9dd9",
   "metadata": {},
   "source": [
    "### Esercizio 2\n",
    "Il file `prezzi.cvs` contiene le serie storiche mensili dei prezzi di alcuni generi alimentari dal Settembre 2011 a Dicembre 2016. Caricare all'interno di opportuni array di Numpy soltanto le serie dei prezzi utili a rispondere alle domande seguenti.\n",
    "\n",
    "1. Per il periodo Settembre 2011 - Dicembre 2016 calcola il prezzo di una spesa composta da:\n",
    "    - 5kg di Farina di frumento\n",
    "    - 1 l di Latte fresco\n",
    "    - 1 kg di Caffè tostato\n",
    "    - 0.5 kg di Parmigiano Reggiano\n",
    "2. Per la spesa del punto 1 calcola se ci sono dei minimi locali nel prezzo e se si quando (anno, mese).\n",
    "\n",
    "3. Traccia un grafico che mostri l'andamento del prezzo del Caffè tostato (gr. 1000).\n",
    "\n",
    "4. Calcola un array con le variazioni di prezzo mensile per il Caffè tostato (gr. 1000).\n",
    "\n",
    "5. Calcola un array con le variazioni di prezzo mensile per il Burro (gr. 1000).\n",
    "\n",
    "6. Traccia un grafico a dispersione che mostri la variazione di prezzo mensile per il Caffè tostato (gr. 1000) rispetto a quella del Burro (gr. 1000)."
   ]
  },
  {
   "cell_type": "code",
   "execution_count": 56,
   "id": "507163d4",
   "metadata": {
    "scrolled": true
   },
   "outputs": [],
   "source": [
    "f = open(\"prezzi.csv\")\n",
    "righe = f.readlines()\n",
    "dati = {\"anno\":[], \"mese\":[], \"farina\":[], \"latte\":[], \"caffe\":[], \"parmigiano\":[], \"burro\":[]}"
   ]
  },
  {
   "cell_type": "code",
   "execution_count": 57,
   "id": "c36bb2cc",
   "metadata": {
    "scrolled": true
   },
   "outputs": [
    {
     "data": {
      "text/plain": [
       "{'anno': array([2011, 2011, 2011, 2011, 2012, 2012, 2012, 2012, 2012, 2012, 2012,\n",
       "        2012, 2012, 2012, 2012, 2013, 2013, 2013, 2013, 2013, 2013, 2013,\n",
       "        2013, 2013, 2013, 2013, 2013, 2014, 2014, 2014, 2014, 2014, 2014,\n",
       "        2014, 2014, 2015, 2015, 2015, 2015, 2015, 2015, 2015, 2015, 2015,\n",
       "        2015, 2015, 2015, 2016, 2016, 2016, 2016, 2016, 2016, 2016, 2016,\n",
       "        2016, 2016, 2016, 2016]),\n",
       " 'mese': array(['Settembre', 'Ottobre', 'Novembre', 'Dicembre', 'Gennaio',\n",
       "        'Febbraio', 'Marzo', 'Aprile', 'Maggio', 'Giugno', 'Luglio',\n",
       "        'Agosto', 'Settembre', 'Ottobre', 'Dicembre', 'Gennaio',\n",
       "        'Febbraio', 'Marzo', 'Aprile', 'Maggio', 'Giugno', 'Luglio',\n",
       "        'Agosto', 'Settembre', 'Ottobre', 'Novembre', 'Dicembre',\n",
       "        'Gennaio', 'Febbraio', 'Marzo', 'Aprile', 'Maggio', 'Giugno',\n",
       "        'Luglio', 'Agosto', 'Gennaio', 'Febbraio', 'Marzo', 'Aprile',\n",
       "        'Maggio', 'Giugno', 'Luglio', 'Agosto', 'Settembre', 'Ottobre',\n",
       "        'Novembre', 'Dicembre', 'Gennaio', 'Febbraio', 'Marzo', 'Aprile',\n",
       "        'Maggio', 'Giugno', 'Luglio', 'Agosto', 'Settembre', 'Ottobre',\n",
       "        'Novembre', 'Dicembre'], dtype='<U9'),\n",
       " 'farina': array([0.81, 0.82, 0.81, 0.8 , 0.8 , 0.81, 0.82, 0.81, 0.81, 0.82, 0.81,\n",
       "        0.8 , 0.81, 0.81, 0.8 , 0.8 , 0.81, 0.82, 0.81, 0.81, 0.82, 0.81,\n",
       "        0.8 , 0.81, 0.81, 0.82, 0.82, 0.82, 0.82, 0.82, 0.83, 0.83, 0.83,\n",
       "        0.83, 0.83, 0.87, 0.83, 0.83, 0.83, 0.8 , 0.8 , 0.8 , 0.78, 0.78,\n",
       "        0.78, 0.79, 0.79, 0.75, 0.79, 0.78, 0.75, 0.75, 0.75, 0.75, 0.73,\n",
       "        0.76, 0.76, 0.75, 0.75]),\n",
       " 'latte': array([1.75, 1.75, 1.65, 1.62, 1.61, 1.6 , 1.56, 1.56, 1.58, 1.61, 1.59,\n",
       "        1.58, 1.57, 1.58, 1.62, 1.61, 1.6 , 1.56, 1.56, 1.58, 1.61, 1.59,\n",
       "        1.58, 1.57, 1.58, 1.59, 1.59, 1.66, 1.66, 1.67, 1.67, 1.69, 1.69,\n",
       "        1.69, 1.69, 1.64, 1.64, 1.64, 1.64, 1.64, 1.63, 1.62, 1.62, 1.62,\n",
       "        1.62, 1.62, 1.62, 1.49, 1.49, 1.49, 1.49, 1.48, 1.48, 1.47, 1.46,\n",
       "        1.45, 1.46, 1.46, 1.46]),\n",
       " 'caffe': array([13.12, 13.06, 13.42, 13.65, 13.65, 13.7 , 13.78, 13.81, 13.91,\n",
       "        14.  , 13.91, 14.07, 14.06, 14.06, 13.65, 13.65, 13.7 , 13.78,\n",
       "        13.81, 13.91, 14.  , 13.91, 14.07, 14.06, 14.06, 14.02, 13.91,\n",
       "        14.01, 14.03, 13.98, 13.96, 13.39, 13.39, 13.19, 13.18, 13.4 ,\n",
       "        13.83, 13.8 , 13.86, 14.05, 14.06, 13.84, 13.84, 13.86, 13.84,\n",
       "        14.03, 14.32, 14.09, 13.89, 13.96, 13.32, 13.32, 13.34, 13.43,\n",
       "        13.24, 13.4 , 13.4 , 13.04, 13.04]),\n",
       " 'parmigiano': array([19.44, 19.46, 19.34, 19.24, 19.47, 19.44, 19.63, 19.53, 19.76,\n",
       "        19.9 , 19.9 , 19.9 , 19.9 , 19.58, 19.24, 19.47, 19.44, 19.63,\n",
       "        19.53, 19.76, 19.9 , 19.9 , 19.9 , 19.9 , 19.58, 19.58, 19.58,\n",
       "        19.86, 19.3 , 19.58, 19.8 , 19.86, 19.67, 20.18, 19.54, 19.93,\n",
       "        19.93, 19.93, 19.87, 19.87, 19.78, 19.38, 19.41, 19.41, 19.44,\n",
       "        19.38, 19.45, 19.01, 18.95, 18.99, 18.84, 18.84, 18.86, 18.86,\n",
       "        18.51, 18.92, 18.86, 19.05, 18.99]),\n",
       " 'burro': array([10.03,  9.95,  9.93, 10.12, 10.19, 10.17, 10.32, 10.2 , 10.26,\n",
       "        10.38, 10.51, 10.55, 10.66, 10.68, 10.12, 10.19, 10.17, 10.32,\n",
       "        10.2 , 10.26, 10.38, 10.51, 10.55, 10.66, 10.68, 10.59, 10.67,\n",
       "        10.72, 11.06, 11.21, 11.34, 11.34, 11.34, 11.18, 11.24, 10.88,\n",
       "        10.68, 10.87, 10.91, 10.91, 10.81, 10.74, 10.74, 10.85, 10.86,\n",
       "        11.18, 10.87, 10.65, 10.93, 10.82, 10.46, 10.54, 10.55, 10.44,\n",
       "        10.11, 10.23, 10.12, 10.15, 10.07])}"
      ]
     },
     "execution_count": 57,
     "metadata": {},
     "output_type": "execute_result"
    }
   ],
   "source": [
    "for elemento in righe[1:]:\n",
    "    lista = elemento[:-1].split(\";\")\n",
    "    dati[\"anno\"].append(int(lista[0]))\n",
    "    dati[\"mese\"].append(lista[1])\n",
    "    dati[\"burro\"].append(float(lista[5]))\n",
    "    dati[\"caffe\"].append(float(lista[6]))\n",
    "    dati[\"farina\"].append(float(lista[9]))\n",
    "    dati[\"latte\"].append(float(lista[11]))\n",
    "    dati[\"parmigiano\"].append(float(lista[17]))\n",
    "    \n",
    "for nome, d in dati.items():\n",
    "    dati[nome] = np.array(d)\n",
    "dati"
   ]
  },
  {
   "cell_type": "code",
   "execution_count": 58,
   "id": "03fd7972",
   "metadata": {},
   "outputs": [
    {
     "data": {
      "text/plain": [
       "array([4519.2168    , 4558.772575  , 4335.9869025 , 4254.5412    ,\n",
       "       4278.82455   , 4314.5136    , 4325.317386  , 4260.0583935 ,\n",
       "       4397.098446  , 4597.5965    , 4456.27888875, 4423.8894    ,\n",
       "       4447.6753725 , 4404.028563  , 4254.5412    , 4278.82455   ,\n",
       "       4314.5136    , 4325.317386  , 4260.0583935 , 4397.098446  ,\n",
       "       4597.5965    , 4456.27888875, 4423.8894    , 4447.6753725 ,\n",
       "       4404.028563  , 4473.852801  , 4438.7512455 , 4734.229779  ,\n",
       "       4607.304685  , 4685.545887  , 4789.11411   , 4662.66948225,\n",
       "       4618.06186888, 4667.03187925, 4515.5928805 , 4763.05077   ,\n",
       "       4689.8767785 , 4679.70351   , 4685.900373  , 4578.4454    ,\n",
       "       4533.14084   , 4345.15104   , 4243.080348  , 4249.211967  ,\n",
       "       4249.638432  , 4349.7426465 , 4455.68769   , 3741.54225937,\n",
       "       3872.88706312, 3851.246061  , 3505.44105   , 3481.9146    ,\n",
       "       3490.84455   , 3490.65005625, 3264.977049  , 3492.3482    ,\n",
       "       3505.28188   , 3400.13925   , 3389.43015   ])"
      ]
     },
     "execution_count": 58,
     "metadata": {},
     "output_type": "execute_result"
    }
   ],
   "source": [
    "costo_spesa = np.array(dati[\"caffe\"] * dati[\"farina\"] * 5 * dati[\"latte\"] * 5 * dati[\"parmigiano\"] / 2)\n",
    "costo_spesa"
   ]
  },
  {
   "cell_type": "code",
   "execution_count": 59,
   "id": "d9b87653",
   "metadata": {},
   "outputs": [
    {
     "data": {
      "text/plain": [
       "array([False, False, False,  True, False, False, False,  True, False,\n",
       "       False, False,  True, False, False,  True, False, False, False,\n",
       "        True, False, False, False,  True, False,  True, False,  True,\n",
       "       False,  True, False, False, False,  True, False,  True, False,\n",
       "       False,  True, False, False, False, False,  True, False, False,\n",
       "       False, False,  True, False, False, False,  True, False, False,\n",
       "        True, False, False, False,  True])"
      ]
     },
     "execution_count": 59,
     "metadata": {},
     "output_type": "execute_result"
    }
   ],
   "source": [
    "minimi_locali = np.logical_and(np.roll(costo_spesa, 1) > costo_spesa, np.roll(costo_spesa, -1) > costo_spesa)\n",
    "minimi_locali"
   ]
  },
  {
   "cell_type": "code",
   "execution_count": 60,
   "id": "7344c100",
   "metadata": {},
   "outputs": [
    {
     "data": {
      "text/plain": [
       "array([ 3,  7, 11, 14, 18, 22, 24, 26, 28, 32, 34, 37, 42, 47, 51, 54, 58])"
      ]
     },
     "execution_count": 60,
     "metadata": {},
     "output_type": "execute_result"
    }
   ],
   "source": [
    "array_posizioni = np.arange(0, minimi_locali.shape[0])\n",
    "array_posizioni[minimi_locali]"
   ]
  },
  {
   "cell_type": "code",
   "execution_count": 61,
   "id": "ff086bfe",
   "metadata": {
    "scrolled": true
   },
   "outputs": [
    {
     "name": "stdout",
     "output_type": "stream",
     "text": [
      "Settembre 2011\n",
      "Ottobre 2011\n",
      "Novembre 2011\n",
      "Dicembre 2011\n",
      "Gennaio 2012\n",
      "Febbraio 2012\n",
      "Marzo 2012\n",
      "Aprile 2012\n",
      "Maggio 2012\n",
      "Giugno 2012\n",
      "Luglio 2012\n",
      "Agosto 2012\n",
      "Settembre 2012\n",
      "Ottobre 2012\n",
      "Dicembre 2012\n",
      "Gennaio 2013\n",
      "Febbraio 2013\n",
      "Marzo 2013\n",
      "Aprile 2013\n",
      "Maggio 2013\n",
      "Giugno 2013\n",
      "Luglio 2013\n",
      "Agosto 2013\n",
      "Settembre 2013\n",
      "Ottobre 2013\n",
      "Novembre 2013\n",
      "Dicembre 2013\n",
      "Gennaio 2014\n",
      "Febbraio 2014\n",
      "Marzo 2014\n",
      "Aprile 2014\n",
      "Maggio 2014\n",
      "Giugno 2014\n",
      "Luglio 2014\n",
      "Agosto 2014\n",
      "Gennaio 2015\n",
      "Febbraio 2015\n",
      "Marzo 2015\n",
      "Aprile 2015\n",
      "Maggio 2015\n",
      "Giugno 2015\n",
      "Luglio 2015\n",
      "Agosto 2015\n",
      "Settembre 2015\n",
      "Ottobre 2015\n",
      "Novembre 2015\n",
      "Dicembre 2015\n",
      "Gennaio 2016\n",
      "Febbraio 2016\n",
      "Marzo 2016\n",
      "Aprile 2016\n",
      "Maggio 2016\n",
      "Giugno 2016\n",
      "Luglio 2016\n",
      "Agosto 2016\n",
      "Settembre 2016\n",
      "Ottobre 2016\n",
      "Novembre 2016\n",
      "Dicembre 2016\n"
     ]
    }
   ],
   "source": [
    "mesi = dati[\"mese\"][array_posizioni]\n",
    "anni = dati[\"anno\"][array_posizioni]\n",
    "for i, j in enumerate(mesi):\n",
    "    print(mesi[i], anni[i])"
   ]
  },
  {
   "cell_type": "code",
   "execution_count": 62,
   "id": "8ec8ab56",
   "metadata": {},
   "outputs": [
    {
     "data": {
      "image/png": "[encoded data removed]",
      "text/plain": [
       "<Figure size 576x216 with 1 Axes>"
      ]
     },
     "metadata": {
      "needs_background": "light"
     },
     "output_type": "display_data"
    }
   ],
   "source": [
    "fig, ax = plt.subplots(figsize = (8, 3))\n",
    "ax.plot(dati[\"caffe\"])\n",
    "ax.set_title(\"Andamento del prezzo del Caffè\")\n",
    "plt.show()"
   ]
  },
  {
   "cell_type": "code",
   "execution_count": 63,
   "id": "a199c6ad",
   "metadata": {},
   "outputs": [
    {
     "data": {
      "text/plain": [
       "array([-0.08,  0.06, -0.36, -0.23,  0.  , -0.05, -0.08, -0.03, -0.1 ,\n",
       "       -0.09,  0.09, -0.16,  0.01,  0.  ,  0.41,  0.  , -0.05, -0.08,\n",
       "       -0.03, -0.1 , -0.09,  0.09, -0.16,  0.01,  0.  ,  0.04,  0.11,\n",
       "       -0.1 , -0.02,  0.05,  0.02,  0.57,  0.  ,  0.2 ,  0.01, -0.22,\n",
       "       -0.43,  0.03, -0.06, -0.19, -0.01,  0.22,  0.  , -0.02,  0.02,\n",
       "       -0.19, -0.29,  0.23,  0.2 , -0.07,  0.64,  0.  , -0.02, -0.09,\n",
       "        0.19, -0.16,  0.  ,  0.36,  0.  ])"
      ]
     },
     "execution_count": 63,
     "metadata": {},
     "output_type": "execute_result"
    }
   ],
   "source": [
    "variazione_prezzo_caffe = np.array(np.roll(dati[\"caffe\"], 1) - dati[\"caffe\"])\n",
    "variazione_prezzo_caffe"
   ]
  },
  {
   "cell_type": "code",
   "execution_count": 64,
   "id": "056999d2",
   "metadata": {},
   "outputs": [
    {
     "data": {
      "text/plain": [
       "array([ 0.04,  0.08,  0.02, -0.19, -0.07,  0.02, -0.15,  0.12, -0.06,\n",
       "       -0.12, -0.13, -0.04, -0.11, -0.02,  0.56, -0.07,  0.02, -0.15,\n",
       "        0.12, -0.06, -0.12, -0.13, -0.04, -0.11, -0.02,  0.09, -0.08,\n",
       "       -0.05, -0.34, -0.15, -0.13,  0.  ,  0.  ,  0.16, -0.06,  0.36,\n",
       "        0.2 , -0.19, -0.04,  0.  ,  0.1 ,  0.07,  0.  , -0.11, -0.01,\n",
       "       -0.32,  0.31,  0.22, -0.28,  0.11,  0.36, -0.08, -0.01,  0.11,\n",
       "        0.33, -0.12,  0.11, -0.03,  0.08])"
      ]
     },
     "execution_count": 64,
     "metadata": {},
     "output_type": "execute_result"
    }
   ],
   "source": [
    "variazione_prezzo_burro = np.array(np.roll(dati[\"burro\"], 1) - dati[\"burro\"])\n",
    "variazione_prezzo_burro"
   ]
  },
  {
   "cell_type": "code",
   "execution_count": 74,
   "id": "2d14dbd7",
   "metadata": {},
   "outputs": [
    {
     "data": {
      "image/png": "[encoded data removed]",
      "text/plain": [
       "<Figure size 576x288 with 1 Axes>"
      ]
     },
     "metadata": {
      "needs_background": "light"
     },
     "output_type": "display_data"
    }
   ],
   "source": [
    "fig, ax = plt.subplots(figsize = (8, 4))\n",
    "ax.scatter(variazione_prezzo_caffe, variazione_prezzo_burro, s = 60, c = \"orange\", edgecolors='black')\n",
    "ax.set_xlabel(\"Variazione prezzo caffè\")\n",
    "ax.set_ylabel(\"Variazione prezzo burro\")\n",
    "ax.set_title(\"Rapporto variazione prezzo caffè e burro\")\n",
    "plt.show()"
   ]
  },
  {
   "cell_type": "markdown",
   "id": "77a2f62b",
   "metadata": {},
   "source": [
    "### Esercizio 3\n",
    "L'array `array_punti` è un array di Numpy come quello sottostante, contenente quattro coppie di coordinate spaziali intere scelte a caso, che rappresentano quattro punti nel piano. Essi sono i quattro vertici di una figura geometrica piana, letti in verso anti-orario. Facendo uso di Numpy:\n",
    "1. crea una funzione che verifichi se la figura geometrica è un quadrilatero, un triangolo, un segmento oppure un punto;\n",
    "2. crea una funzione che calcoli il perimetro della figura."
   ]
  },
  {
   "cell_type": "code",
   "execution_count": 2,
   "id": "e98fa22a",
   "metadata": {},
   "outputs": [
    {
     "data": {
      "image/png": "[encoded data removed]",
      "text/plain": [
       "<Figure size 288x288 with 1 Axes>"
      ]
     },
     "metadata": {
      "needs_background": "light"
     },
     "output_type": "display_data"
    }
   ],
   "source": [
    "array_punti = np.random.randint(0., 5, (4, 2))\n",
    "fig, ax = plt.subplots(figsize = (4, 4))\n",
    "ax.scatter(array_punti[:, 0], array_punti[:, 1])\n",
    "plt.show()"
   ]
  },
  {
   "cell_type": "code",
   "execution_count": null,
   "id": "67608424",
   "metadata": {},
   "outputs": [],
   "source": [
    "def segmento(array):\n",
    "    if "
   ]
  },
  {
   "cell_type": "code",
   "execution_count": 4,
   "id": "607d0a4b",
   "metadata": {},
   "outputs": [],
   "source": [
    "def definisci_figura(array):\n",
    "    if np.allclose(array_punti[:, 0], array_punti[0, 0]) and np.allclose(array_punti[:, 1], array_punti[0, 1]):\n",
    "        return \"Punto\"\n",
    "    elif "
   ]
  },
  {
   "cell_type": "markdown",
   "id": "d3801817",
   "metadata": {},
   "source": [
    "### Esercizio 4 (BONUS)\n",
    "Usa Numpy per calcolare una approssimazione dell'integrale definito della funzione f(x) = exp(-x^2) da 0 a 1. Suddividi l'intervallo [0,1] in n sotto-intervalli e per ogni sotto-intervallo approssima l'area sottesa dalla funzione con l'area del corrispondente rettangolo.\n",
    "![rettangoli](rettangolo.png)\n",
    "Calcola il risultato per n=10, 100, 10000, 100000."
   ]
  },
  {
   "cell_type": "code",
   "execution_count": 12,
   "id": "e130dcf8",
   "metadata": {},
   "outputs": [],
   "source": [
    "from sympy import *\n",
    "from sympy.abc import *"
   ]
  },
  {
   "cell_type": "code",
   "execution_count": 13,
   "id": "aa4b2a3b",
   "metadata": {},
   "outputs": [],
   "source": [
    "init_printing()"
   ]
  },
  {
   "cell_type": "code",
   "execution_count": 15,
   "id": "14aafc9b",
   "metadata": {},
   "outputs": [],
   "source": [
    "f = exp(-x**2)"
   ]
  },
  {
   "cell_type": "code",
   "execution_count": 16,
   "id": "e0f9acd0",
   "metadata": {},
   "outputs": [
    {
     "data": {
      "image/png": "[encoded data removed]",
      "text/latex": [
       "$\\displaystyle e^{- x^{2}}$"
      ],
      "text/plain": [
       "   2\n",
       " -x \n",
       "ℯ   "
      ]
     },
     "execution_count": 16,
     "metadata": {},
     "output_type": "execute_result"
    }
   ],
   "source": [
    "f"
   ]
  },
  {
   "cell_type": "code",
   "execution_count": 18,
   "id": "9eb80a36",
   "metadata": {},
   "outputs": [
    {
     "data": {
      "image/png": "[encoded data removed]",
      "text/latex": [
       "$\\displaystyle \\int\\limits_{0}^{1} e^{- x^{2}}\\, dx$"
      ],
      "text/plain": [
       "1        \n",
       "⌠        \n",
       "⎮    2   \n",
       "⎮  -x    \n",
       "⎮ ℯ    dx\n",
       "⌡        \n",
       "0        "
      ]
     },
     "execution_count": 18,
     "metadata": {},
     "output_type": "execute_result"
    }
   ],
   "source": [
    "Integral(f, (x, 0, 1))"
   ]
  },
  {
   "cell_type": "code",
   "execution_count": 19,
   "id": "1decf358",
   "metadata": {},
   "outputs": [
    {
     "data": {
      "image/png": "[encoded data removed]",
      "text/latex": [
       "$\\displaystyle \\frac{\\sqrt{\\pi} \\operatorname{erf}{\\left(1 \\right)}}{2}$"
      ],
      "text/plain": [
       "√π⋅erf(1)\n",
       "─────────\n",
       "    2    "
      ]
     },
     "execution_count": 19,
     "metadata": {},
     "output_type": "execute_result"
    }
   ],
   "source": [
    "integrate(f, (x, 0, 1))"
   ]
  },
  {
   "cell_type": "code",
   "execution_count": 20,
   "id": "61f7dbc7",
   "metadata": {},
   "outputs": [
    {
     "data": {
      "image/png": "[encoded data removed]",
      "text/plain": [
       "<Figure size 432x288 with 1 Axes>"
      ]
     },
     "metadata": {
      "needs_background": "light"
     },
     "output_type": "display_data"
    },
    {
     "data": {
      "text/plain": [
       "<sympy.plotting.plot.Plot at 0xb2ae670>"
      ]
     },
     "execution_count": 20,
     "metadata": {},
     "output_type": "execute_result"
    }
   ],
   "source": [
    "plot(f, (x, 0, 1))"
   ]
  },
  {
   "cell_type": "code",
   "execution_count": null,
   "id": "c818051a",
   "metadata": {},
   "outputs": [],
   "source": []
  }
 ],
 "metadata": {
  "kernelspec": {
   "display_name": "Python 3 (ipykernel)",
   "language": "python",
   "name": "python3"
  },
  "language_info": {
   "codemirror_mode": {
    "name": "ipython",
    "version": 3
   },
   "file_extension": ".py",
   "mimetype": "text/x-python",
   "name": "python",
   "nbconvert_exporter": "python",
   "pygments_lexer": "ipython3",
   "version": "3.9.12"
  }
 },
 "nbformat": 4,
 "nbformat_minor": 5
}
