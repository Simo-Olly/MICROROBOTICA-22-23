{
 "cells": [
  {
   "cell_type": "markdown",
   "id": "0fd96616",
   "metadata": {},
   "source": [
    "# Esercizio 1\n",
    "Creare un notebook jupyter che a partire dal testo contenuto nel file ___\"J_Verne_girodelmondoin80giorni.txt\"___:\n",
    "\n",
    "1. crei un dizionario delle frequenze per ciascun carattere (**line feed escluso**); \n",
    "2. crei il dizionario delle adiacenze per ciascun carattere (**line feed escluso**);\n",
    "3. **[FACOLTATIVO]** crei un indice dei capitoli. Ogni capitolo inizia riportando il numero romano del capitolo e il suo titolo in questo modo:\n",
    "\n",
    ">CAPITOLO XXIX.\n",
    ">\n",
    ">Nel quale si narrano cose che capitano unicamente sulle ferrovie\n",
    ">americane."
   ]
  },
  {
   "cell_type": "code",
   "execution_count": 56,
   "id": "571b1521",
   "metadata": {},
   "outputs": [],
   "source": [
    "file = open (\"./J_Verne_girodelmondoin80giorni.txt\")\n",
    "righe = file.readlines()\n",
    "file.close()\n",
    "dizionari = {}"
   ]
  },
  {
   "cell_type": "markdown",
   "id": "98c57cb3",
   "metadata": {},
   "source": [
    "# Esercizio 2\n",
    "Dato `n`numero intero maggiore o uguale a 2 crea una matrice di numpy che abbia la struttura seguente esemplificata, per il caso `n=7`. \n",
    "\n",
    "`[[1 2 1 2 1 2 1]\n",
    " [ 2 1 2 1 2 1 2]\n",
    " [ 1 2 1 2 1 2 1]\n",
    " [ 2 1 2 1 2 1 2]\n",
    " [ 1 2 1 2 1 2 1]\n",
    " [ 2 1 2 1 2 1 2]\n",
    " [ 1 2 1 2 1 2 1]]`\n",
    " "
   ]
  },
  {
   "cell_type": "code",
   "execution_count": 61,
   "id": "7d862071",
   "metadata": {},
   "outputs": [],
   "source": [
    "import numpy as np"
   ]
  },
  {
   "cell_type": "code",
   "execution_count": 67,
   "id": "544733ee",
   "metadata": {
    "scrolled": true
   },
   "outputs": [
    {
     "data": {
      "text/plain": [
       "array([[1., 1., 1., 1., 1., 1., 1.],\n",
       "       [1., 1., 1., 1., 1., 1., 1.],\n",
       "       [1., 1., 1., 1., 1., 1., 1.],\n",
       "       [1., 1., 1., 1., 1., 1., 1.],\n",
       "       [1., 1., 1., 1., 1., 1., 1.],\n",
       "       [1., 1., 1., 1., 1., 1., 1.],\n",
       "       [1., 1., 1., 1., 1., 1., 1.]])"
      ]
     },
     "execution_count": 67,
     "metadata": {},
     "output_type": "execute_result"
    }
   ],
   "source": [
    "n= 7\n",
    "matrice= np.ones((n,n))\n",
    "matrice"
   ]
  },
  {
   "cell_type": "code",
   "execution_count": 69,
   "id": "b8d68c86",
   "metadata": {},
   "outputs": [
    {
     "data": {
      "text/plain": [
       "array([[2., 1., 2., 1., 2., 1., 2.],\n",
       "       [2., 1., 2., 1., 2., 1., 2.],\n",
       "       [2., 1., 2., 1., 2., 1., 2.],\n",
       "       [2., 1., 2., 1., 2., 1., 2.],\n",
       "       [2., 1., 2., 1., 2., 1., 2.],\n",
       "       [2., 1., 2., 1., 2., 1., 2.],\n",
       "       [2., 1., 2., 1., 2., 1., 2.]])"
      ]
     },
     "execution_count": 69,
     "metadata": {},
     "output_type": "execute_result"
    }
   ],
   "source": [
    "matrice[1::2,::2] = 2\n",
    "matrice[0::2,::2] = 2\n",
    "matrice"
   ]
  },
  {
   "cell_type": "code",
   "execution_count": null,
   "id": "791ae380",
   "metadata": {},
   "outputs": [],
   "source": []
  },
  {
   "cell_type": "markdown",
   "id": "a65b9c86",
   "metadata": {},
   "source": [
    "# Esercizio 3\n",
    "Crea un array unidimensionale di numpy lungo 21 elementi i cui valori sono 1,2 e 3 alernatici ciclicamente (`[1,2,3,1,2,3,.....]`)."
   ]
  },
  {
   "cell_type": "code",
   "execution_count": 58,
   "id": "5a1cc6ee",
   "metadata": {},
   "outputs": [],
   "source": [
    "import numpy as np"
   ]
  },
  {
   "cell_type": "code",
   "execution_count": 71,
   "id": "7ba55fd5",
   "metadata": {},
   "outputs": [
    {
     "data": {
      "text/plain": [
       "array([1., 1., 1., 1., 1., 1., 1., 1., 1., 1., 1., 1., 1., 1., 1., 1., 1.,\n",
       "       1., 1., 1., 1.])"
      ]
     },
     "execution_count": 71,
     "metadata": {},
     "output_type": "execute_result"
    }
   ],
   "source": [
    "n = 21\n",
    "array = np.ones(n)\n",
    "array"
   ]
  },
  {
   "cell_type": "code",
   "execution_count": 74,
   "id": "fa173744",
   "metadata": {},
   "outputs": [
    {
     "data": {
      "text/plain": [
       "array([1., 2., 3., 1., 2., 3., 1., 2., 3., 3., 2., 3., 1., 2., 3., 1., 2.,\n",
       "       3., 1., 2., 3.])"
      ]
     },
     "execution_count": 74,
     "metadata": {},
     "output_type": "execute_result"
    }
   ],
   "source": [
    "array[1::3] = 2\n",
    "array[2::3] = 3\n",
    "array"
   ]
  },
  {
   "cell_type": "code",
   "execution_count": null,
   "id": "cb69cfd6",
   "metadata": {},
   "outputs": [],
   "source": []
  }
 ],
 "metadata": {
  "kernelspec": {
   "display_name": "Python 3 (ipykernel)",
   "language": "python",
   "name": "python3"
  },
  "language_info": {
   "codemirror_mode": {
    "name": "ipython",
    "version": 3
   },
   "file_extension": ".py",
   "mimetype": "text/x-python",
   "name": "python",
   "nbconvert_exporter": "python",
   "pygments_lexer": "ipython3",
   "version": "3.9.12"
  }
 },
 "nbformat": 4,
 "nbformat_minor": 5
}
