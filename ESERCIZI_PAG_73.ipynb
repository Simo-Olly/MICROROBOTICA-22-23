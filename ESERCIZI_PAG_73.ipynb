{
 "cells": [
  {
   "cell_type": "markdown",
   "id": "b7d8a443",
   "metadata": {},
   "source": [
    "# ES 3"
   ]
  },
  {
   "cell_type": "code",
   "execution_count": 1,
   "id": "13e5f9c0",
   "metadata": {},
   "outputs": [
    {
     "data": {
      "text/plain": [
       "15"
      ]
     },
     "execution_count": 1,
     "metadata": {},
     "output_type": "execute_result"
    }
   ],
   "source": [
    "n=2\n",
    "def somma(a,b):\n",
    "    return a+b\n",
    "\n",
    "def sottrazione(a,b):\n",
    "    return a-b\n",
    "\n",
    "def moltiplicazione(a,b):\n",
    "    return a*b\n",
    "\n",
    "def divisione(a,b):\n",
    "    return a/b\n",
    "\n",
    "d={0:somma, 1:sottrazione, 2:moltiplicazione, 3:moltiplicazione}\n",
    "\n",
    "d[n](3,5)"
   ]
  },
  {
   "cell_type": "markdown",
   "id": "7e86d1fd",
   "metadata": {},
   "source": [
    "# ES 13"
   ]
  },
  {
   "cell_type": "code",
   "execution_count": 2,
   "id": "b5e18e82",
   "metadata": {},
   "outputs": [],
   "source": [
    "class Robot:\n",
    "    def __init__(self,nome,tipolgia,massa):\n",
    "        self.nome=nome\n",
    "        self.tipolgia=tipolgia\n",
    "        self.massa=massa\n",
    "        \n",
    "    def stampaNome(self):\n",
    "        print(self.nome)\n",
    "        \n",
    "    def ePericoloso(self):\n",
    "        if self.tipologia==True and self.massa>100:\n",
    "            return True"
   ]
  },
  {
   "cell_type": "markdown",
   "id": "439def26",
   "metadata": {},
   "source": [
    "# ES 18"
   ]
  },
  {
   "cell_type": "code",
   "execution_count": 3,
   "id": "00bd68d9",
   "metadata": {},
   "outputs": [
    {
     "data": {
      "text/plain": [
       "[1, 9, 25, 49, 81, 121, 169]"
      ]
     },
     "execution_count": 3,
     "metadata": {},
     "output_type": "execute_result"
    }
   ],
   "source": [
    "n=200\n",
    "L=[i*i for i in range(0,n) if i%2 != 0 and i*i<n]\n",
    "L"
   ]
  },
  {
   "cell_type": "markdown",
   "id": "ee635c29",
   "metadata": {},
   "source": [
    "# ES 19"
   ]
  },
  {
   "cell_type": "code",
   "execution_count": 5,
   "id": "8d2c20fb",
   "metadata": {},
   "outputs": [
    {
     "ename": "ModuleNotFoundError",
     "evalue": "No module named 'randrange'",
     "output_type": "error",
     "traceback": [
      "\u001b[1;31m---------------------------------------------------------------------------\u001b[0m",
      "\u001b[1;31mModuleNotFoundError\u001b[0m                       Traceback (most recent call last)",
      "Input \u001b[1;32mIn [5]\u001b[0m, in \u001b[0;36m<cell line: 1>\u001b[1;34m()\u001b[0m\n\u001b[1;32m----> 1\u001b[0m \u001b[38;5;28;01mimport\u001b[39;00m \u001b[38;5;21;01mrandrange\u001b[39;00m\n\u001b[0;32m      2\u001b[0m \u001b[38;5;28;01mimport\u001b[39;00m \u001b[38;5;21;01mcsv\u001b[39;00m\n\u001b[0;32m      4\u001b[0m file\u001b[38;5;241m=\u001b[39m\u001b[38;5;28mopen\u001b[39m(\u001b[38;5;124m\"\u001b[39m\u001b[38;5;124mdadi.txt\u001b[39m\u001b[38;5;124m\"\u001b[39m, \u001b[38;5;124m\"\u001b[39m\u001b[38;5;124mw\u001b[39m\u001b[38;5;124m\"\u001b[39m)\n",
      "\u001b[1;31mModuleNotFoundError\u001b[0m: No module named 'randrange'"
     ]
    }
   ],
   "source": [
    "import randrange\n",
    "import csv\n",
    "\n",
    "file=open(\"dadi.txt\", \"w\")\n",
    "Alice=[randrange(1, 6)  for _ in range(0, 10)]\n",
    "Bob=[randrange(1, 6)  for _ in range(0, 10)]\n",
    "Bob, Alice\n",
    "def create_file():\n",
    "    with open('dadi.csv', 'w') as filecsv:\n",
    "        writer= csv.writer (file, w)\n",
    "        writer.writerpw([lanciAlice, lanciBob])\n",
    "\n",
    "def to_file(lanciAlice, lanciBob):\n",
    "    with open('dadi.csv', 'a') as filecsv:\n",
    "        writer= csv.writer (filecsv)\n",
    "        dati=(lanciAlice, lanciBob)\n",
    "        writer.writerow(dati)\n",
    "        \n",
    "for a,b in zip(Alice, Bob):\n",
    "    to_file(a,b)"
   ]
  },
  {
   "cell_type": "markdown",
   "id": "f841a807",
   "metadata": {},
   "source": [
    "# ES 20"
   ]
  },
  {
   "cell_type": "code",
   "execution_count": 8,
   "id": "330819b6",
   "metadata": {},
   "outputs": [
    {
     "data": {
      "text/plain": [
       "[[1, 2, 3, 4, 5, 6, 7, 8, 9, 10],\n",
       " [2, 4, 6, 8, 10, 12, 14, 16, 18, 20],\n",
       " [3, 6, 9, 12, 15, 18, 21, 24, 27, 30],\n",
       " [4, 8, 12, 16, 20, 24, 28, 32, 36, 40],\n",
       " [5, 10, 15, 20, 25, 30, 35, 40, 45, 50],\n",
       " [6, 12, 18, 24, 30, 36, 42, 48, 54, 60],\n",
       " [7, 14, 21, 28, 35, 42, 49, 56, 63, 70],\n",
       " [8, 16, 24, 32, 40, 48, 56, 64, 72, 80],\n",
       " [9, 18, 27, 36, 45, 54, 63, 72, 81, 90]]"
      ]
     },
     "execution_count": 8,
     "metadata": {},
     "output_type": "execute_result"
    }
   ],
   "source": [
    "n=9\n",
    "L=[[i*j for i in range(1,11)]for j in range(1,10)]\n",
    "L"
   ]
  },
  {
   "cell_type": "markdown",
   "id": "17bebbc5",
   "metadata": {},
   "source": [
    "# ES 21"
   ]
  },
  {
   "cell_type": "code",
   "execution_count": 6,
   "id": "d48b4cca",
   "metadata": {},
   "outputs": [
    {
     "name": "stdout",
     "output_type": "stream",
     "text": [
      "Inserisci una parola: GG\n"
     ]
    },
    {
     "data": {
      "text/plain": [
       "'GG'"
      ]
     },
     "execution_count": 6,
     "metadata": {},
     "output_type": "execute_result"
    }
   ],
   "source": [
    "parola=input(\"Inserisci una parola: \")\n",
    "parola=[c for c in parola if (c != 'a' and c != 'e' and c != 'i' and c != 'o' and c != 'u') ]\n",
    "str=\"\".join(parola)\n",
    "str"
   ]
  },
  {
   "cell_type": "code",
   "execution_count": 7,
   "id": "662f8de4",
   "metadata": {},
   "outputs": [
    {
     "name": "stdout",
     "output_type": "stream",
     "text": [
      "Inserisci una parola: HH\n"
     ]
    },
    {
     "data": {
      "text/plain": [
       "['H', 'H']"
      ]
     },
     "execution_count": 7,
     "metadata": {},
     "output_type": "execute_result"
    }
   ],
   "source": [
    "vocali=['a', 'e', 'i', 'o', 'u']\n",
    "parola=input(\"Inserisci una parola: \")\n",
    "lista= [lettera for lettera in parola if lettera not in vocali]\n",
    "lista"
   ]
  },
  {
   "cell_type": "code",
   "execution_count": null,
   "id": "0f296651",
   "metadata": {},
   "outputs": [],
   "source": []
  }
 ],
 "metadata": {
  "kernelspec": {
   "display_name": "Python 3 (ipykernel)",
   "language": "python",
   "name": "python3"
  },
  "language_info": {
   "codemirror_mode": {
    "name": "ipython",
    "version": 3
   },
   "file_extension": ".py",
   "mimetype": "text/x-python",
   "name": "python",
   "nbconvert_exporter": "python",
   "pygments_lexer": "ipython3",
   "version": "3.9.12"
  }
 },
 "nbformat": 4,
 "nbformat_minor": 5
}
