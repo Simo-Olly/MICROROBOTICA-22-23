{
 "cells": [
  {
   "cell_type": "code",
   "execution_count": 1,
   "id": "a919754f",
   "metadata": {},
   "outputs": [],
   "source": [
    "import numpy as np"
   ]
  },
  {
   "cell_type": "markdown",
   "id": "9f27e718",
   "metadata": {},
   "source": [
    "# ES3"
   ]
  },
  {
   "cell_type": "code",
   "execution_count": 2,
   "id": "b1c19229",
   "metadata": {},
   "outputs": [
    {
     "data": {
      "text/plain": [
       "array([[0, 0, 0, ..., 0, 1, 1],\n",
       "       [0, 1, 1, ..., 1, 1, 1],\n",
       "       [1, 1, 0, ..., 0, 1, 1],\n",
       "       ...,\n",
       "       [0, 1, 1, ..., 0, 1, 1],\n",
       "       [1, 1, 1, ..., 0, 1, 1],\n",
       "       [0, 1, 1, ..., 1, 1, 0]])"
      ]
     },
     "execution_count": 2,
     "metadata": {},
     "output_type": "execute_result"
    }
   ],
   "source": [
    "n_partite = 10000\n",
    "n_lanci = 1000\n",
    "lanci = np.random.randint(0, 2, (n_partite, n_lanci))\n",
    "lanci"
   ]
  },
  {
   "cell_type": "code",
   "execution_count": 3,
   "id": "b2a1866e",
   "metadata": {},
   "outputs": [
    {
     "name": "stdout",
     "output_type": "stream",
     "text": [
      "442\n",
      "447\n",
      "443\n",
      "445\n",
      "447\n",
      "449\n",
      "449\n",
      "443\n",
      "447\n",
      "448\n",
      "449\n",
      "447\n"
     ]
    },
    {
     "data": {
      "text/plain": [
       "12"
      ]
     },
     "execution_count": 3,
     "metadata": {},
     "output_type": "execute_result"
    }
   ],
   "source": [
    "lanci_croce = 0\n",
    "\n",
    "for lancio in lanci:\n",
    "    if np.count_nonzero(lancio) < 450:\n",
    "        lanci_croce += 1\n",
    "        print(np.count_nonzero(lancio))\n",
    "\n",
    "lanci_croce"
   ]
  },
  {
   "cell_type": "markdown",
   "id": "978f7d1b",
   "metadata": {},
   "source": [
    "# ES4"
   ]
  },
  {
   "cell_type": "code",
   "execution_count": 4,
   "id": "16f0e206",
   "metadata": {},
   "outputs": [
    {
     "data": {
      "text/plain": [
       "array([[ 54,   2, 185, ...,  96, 330, 305],\n",
       "       [333,  77, 200, ..., 167, 206,  37],\n",
       "       [235, 211, 266, ..., 232, 342, 289],\n",
       "       ...,\n",
       "       [282,   4, 246, ..., 348, 280,  93],\n",
       "       [133, 225, 135, ..., 344, 176, 273],\n",
       "       [284,  78, 137, ..., 118, 195,  39]])"
      ]
     },
     "execution_count": 4,
     "metadata": {},
     "output_type": "execute_result"
    }
   ],
   "source": [
    "n_alunni = 23\n",
    "classe = np.random.randint(1, 366, (1000, n_alunni))\n",
    "classe"
   ]
  },
  {
   "cell_type": "code",
   "execution_count": 5,
   "id": "420ff65e",
   "metadata": {},
   "outputs": [
    {
     "data": {
      "text/plain": [
       "array([[  2, 247, 224, ..., 124, 311, 121],\n",
       "       [  3,   5, 305, ..., 124, 239, 284],\n",
       "       [  3, 297, 153, ..., 200, 141, 273],\n",
       "       ...,\n",
       "       [365, 185,   7, ..., 287, 247, 173],\n",
       "       [365, 259, 227, ..., 133, 242,  57],\n",
       "       [365, 347, 173, ...,  33, 222, 322]])"
      ]
     },
     "execution_count": 5,
     "metadata": {},
     "output_type": "execute_result"
    }
   ],
   "source": [
    "np.unique(classe, axis=0)"
   ]
  },
  {
   "cell_type": "code",
   "execution_count": 6,
   "id": "5c1d4ac9",
   "metadata": {},
   "outputs": [
    {
     "data": {
      "text/plain": [
       "488"
      ]
     },
     "execution_count": 6,
     "metadata": {},
     "output_type": "execute_result"
    }
   ],
   "source": [
    "classi_con_almeno_doppione = 0\n",
    "for c in classe:\n",
    "    if np.unique(c).shape[0] < n_alunni:\n",
    "        classi_con_almeno_doppione += 1\n",
    "        \n",
    "classi_con_almeno_doppione"
   ]
  },
  {
   "cell_type": "markdown",
   "id": "33b54168",
   "metadata": {},
   "source": [
    "# ES5"
   ]
  },
  {
   "cell_type": "code",
   "execution_count": 22,
   "id": "d64bc190",
   "metadata": {},
   "outputs": [
    {
     "data": {
      "text/plain": [
       "array([4, 2, 1, 0, 3, 8, 9, 0, 5, 4])"
      ]
     },
     "execution_count": 22,
     "metadata": {},
     "output_type": "execute_result"
    }
   ],
   "source": [
    "array = np.random.randint(0, 10, 10)\n",
    "array"
   ]
  },
  {
   "cell_type": "code",
   "execution_count": 23,
   "id": "3db9b6bc",
   "metadata": {},
   "outputs": [
    {
     "data": {
      "text/plain": [
       "array([False, False, False, False, False, False,  True, False,  True,\n",
       "       False])"
      ]
     },
     "execution_count": 23,
     "metadata": {},
     "output_type": "execute_result"
    }
   ],
   "source": [
    "massimi_locali = np.logical_and(np.roll(array, 1) < array, np.roll(array, -1) < array)\n",
    "massimi_locali"
   ]
  },
  {
   "cell_type": "code",
   "execution_count": 24,
   "id": "3dc03c1f",
   "metadata": {},
   "outputs": [
    {
     "data": {
      "text/plain": [
       "array([6, 8])"
      ]
     },
     "execution_count": 24,
     "metadata": {},
     "output_type": "execute_result"
    }
   ],
   "source": [
    "array_posizioni = np.arange(0, 10)\n",
    "array_posizioni[massimi_locali]"
   ]
  },
  {
   "cell_type": "markdown",
   "id": "7161b40a",
   "metadata": {},
   "source": [
    "# ES6"
   ]
  },
  {
   "cell_type": "code",
   "execution_count": 17,
   "id": "275dcfbf",
   "metadata": {
    "scrolled": true
   },
   "outputs": [
    {
     "data": {
      "text/plain": [
       "array([0, 4, 6, 1, 2, 6, 5, 5, 9, 1, 9, 9, 2, 5, 7, 0, 7, 9, 4, 9, 6, 4,\n",
       "       3, 5, 5, 0, 8, 9, 6, 1, 8, 3, 5, 3, 8, 6, 9, 6, 6, 5, 0, 7, 7, 0,\n",
       "       8, 5, 2, 5, 8, 6, 9, 6, 6, 0, 1, 9, 6, 2, 1, 6, 3, 3, 3, 4, 9, 3,\n",
       "       5, 4, 0, 8, 2, 1, 5, 6, 6, 8, 6, 0, 8, 7, 9, 5, 8, 5, 1, 9, 4, 0,\n",
       "       1, 1, 5, 3, 3, 3, 9, 5, 1, 7, 9, 5, 4, 2, 0, 2, 1, 9, 3, 7, 0, 7,\n",
       "       6, 0, 5, 7, 9, 8, 6, 4, 0, 4, 8, 1, 7, 4, 0, 4, 5, 2, 0, 0, 0, 3,\n",
       "       2, 1, 1, 6, 1, 7, 7, 6, 3, 5, 3, 6, 2, 6, 4, 2, 7, 3, 9, 8, 7, 5,\n",
       "       0, 0, 3, 8, 3, 0, 9, 2, 5, 8, 5, 9, 3, 8, 7, 2, 3, 9, 8, 9, 7, 2,\n",
       "       9, 8, 7, 5, 1, 9, 1, 1, 9, 9, 9, 8, 6, 5, 0, 2, 3, 8, 5, 1, 9, 2,\n",
       "       6, 5, 5, 6, 1, 9, 9, 0, 1, 1, 7, 7, 3, 8, 6, 6, 6, 1, 6, 6, 3, 9,\n",
       "       1, 9, 4, 7, 2, 2, 1, 9, 5, 0, 0, 9, 5, 7, 0, 6, 8, 3, 5, 5, 0, 3,\n",
       "       8, 0, 8, 9, 9, 1, 1, 1, 9, 4, 8, 8, 9, 7, 2, 1, 1, 7, 0, 1, 2, 5,\n",
       "       1, 7, 2, 4, 8, 8, 1, 7, 5, 2, 1, 3, 4, 4, 0, 8, 3, 2, 6, 2, 4, 4,\n",
       "       8, 9, 4, 5, 1, 1, 8, 8, 4, 4, 6, 5, 8, 6, 9, 7, 4, 6, 6, 5, 1, 7,\n",
       "       9, 6, 2, 5, 3, 9, 3, 6, 6, 4, 3, 7, 6, 4, 5, 2, 4, 2, 5, 9, 0, 1,\n",
       "       4, 7, 7, 1, 1, 8, 8, 4, 7, 4, 2, 0, 4, 4, 3, 0, 3, 7, 7, 4, 5, 5,\n",
       "       8, 7, 5, 9, 4, 4, 6, 8, 4, 1, 6, 9, 8, 7, 1, 9, 4, 7, 0, 8, 6, 0,\n",
       "       3, 7, 6, 0, 5, 3, 0, 7, 5, 3, 5, 2, 0, 6, 2, 1, 2, 7, 7, 4, 5, 1,\n",
       "       2, 9, 6, 0, 6, 6, 6, 6, 8, 0, 6, 3, 7, 0, 7, 1, 6, 7, 2, 8, 6, 4,\n",
       "       8, 0, 7, 1, 5, 9, 1, 6, 2, 9, 1, 8, 1, 7, 4, 7, 1, 6, 2, 4, 3, 4,\n",
       "       5, 3, 9, 4, 3, 7, 8, 8, 0, 3, 7, 2, 3, 6, 6, 8, 2, 5, 3, 1, 9, 5,\n",
       "       6, 2, 1, 9, 1, 2, 6, 7, 1, 4, 4, 0, 5, 2, 5, 6, 2, 8, 3, 9, 5, 7,\n",
       "       4, 6, 7, 1, 3, 5, 4, 4, 0, 7, 9, 9, 1, 6, 1, 1, 5, 1, 8, 4, 2, 8,\n",
       "       5, 9, 8, 7, 7, 8, 8, 3, 3, 8, 9, 5, 3, 5, 4, 5, 8, 2, 5, 6, 4, 0,\n",
       "       1, 0, 4, 6, 3, 4, 9, 9, 8, 9, 2, 1, 6, 0, 3, 8, 6, 3, 3, 8, 7, 1,\n",
       "       3, 3, 1, 4, 7, 6, 3, 9, 1, 7, 6, 5, 1, 5, 4, 1, 7, 7, 0, 6, 6, 5,\n",
       "       7, 6, 6, 0, 6, 7, 2, 3, 7, 8, 6, 6, 8, 5, 0, 0, 7, 9, 9, 8, 3, 9,\n",
       "       0, 1, 1, 3, 0, 4, 5, 0, 3, 5, 2, 7, 8, 2, 8, 3, 5, 8, 4, 0, 0, 5,\n",
       "       9, 6, 6, 7, 5, 1, 6, 4, 6, 0, 4, 0, 3, 6, 2, 6, 5, 7, 8, 0, 1, 8,\n",
       "       7, 1, 2, 3, 0, 8, 8, 1, 2, 6, 8, 0, 0, 4, 3, 5, 7, 4, 5, 5, 1, 0,\n",
       "       8, 6, 6, 3, 0, 0, 1, 4, 5, 1, 2, 9, 4, 6, 3, 8, 8, 3, 0, 1, 7, 2,\n",
       "       3, 9, 2, 6, 5, 7, 6, 4, 6, 7, 7, 0, 2, 7, 1, 6, 0, 9, 4, 0, 9, 5,\n",
       "       9, 5, 1, 8, 4, 1, 6, 5, 4, 6, 6, 1, 2, 8, 9, 8, 9, 0, 9, 2, 3, 7,\n",
       "       5, 5, 6, 7, 6, 0, 4, 5, 6, 0, 4, 6, 5, 9, 0, 1, 7, 2, 2, 7, 6, 1,\n",
       "       5, 8, 7, 8, 9, 4, 8, 3, 5, 2, 5, 6, 2, 1, 4, 4, 9, 5, 9, 1, 2, 9,\n",
       "       3, 8, 6, 7, 5, 1, 6, 2, 0, 8, 4, 1, 5, 0, 6, 4, 2, 1, 7, 7, 9, 7,\n",
       "       7, 7, 4, 9, 7, 8, 6, 0, 6, 8, 5, 6, 5, 7, 4, 8, 1, 5, 3, 6, 0, 1,\n",
       "       4, 0, 2, 0, 1, 6, 3, 4, 3, 6, 7, 0, 3, 6, 0, 1, 3, 3, 2, 6, 3, 4,\n",
       "       8, 1, 8, 1, 5, 5, 9, 4, 3, 7, 5, 8, 8, 7, 2, 5, 7, 7, 9, 1, 8, 3,\n",
       "       4, 1, 8, 5, 1, 3, 3, 4, 9, 4, 1, 6, 5, 7, 2, 2, 8, 0, 6, 9, 2, 0,\n",
       "       4, 7, 8, 3, 5, 9, 6, 7, 1, 6, 9, 3, 1, 6, 2, 4, 9, 1, 3, 6, 3, 9,\n",
       "       5, 0, 2, 2, 7, 5, 9, 7, 5, 4, 0, 2, 2, 2, 0, 4, 7, 8, 9, 3, 1, 6,\n",
       "       6, 8, 7, 7, 0, 9, 4, 6, 5, 3, 3, 2, 8, 0, 6, 4, 0, 1, 9, 4, 9, 1,\n",
       "       4, 7, 0, 4, 2, 1, 9, 8, 0, 2, 1, 2, 0, 6, 3, 6, 2, 9, 4, 2, 6, 3,\n",
       "       1, 1, 1, 7, 7, 5, 6, 9, 9, 1, 3, 6, 4, 9, 7, 2, 8, 7, 7, 1, 4, 8,\n",
       "       1, 6, 2, 7, 4, 3, 2, 1, 0, 5])"
      ]
     },
     "execution_count": 17,
     "metadata": {},
     "output_type": "execute_result"
    }
   ],
   "source": [
    "n = 1000\n",
    "array = np.random.randint(0, 10, n)\n",
    "array"
   ]
  },
  {
   "cell_type": "code",
   "execution_count": 18,
   "id": "65e787b5",
   "metadata": {},
   "outputs": [
    {
     "data": {
      "text/plain": [
       "array([False, False, False,  True, False, False, False, False, False,\n",
       "        True, False, False, False, False, False, False, False, False,\n",
       "       False, False, False, False, False, False, False, False, False,\n",
       "       False, False,  True, False, False, False, False, False, False,\n",
       "       False, False, False, False, False, False, False, False, False,\n",
       "       False, False, False, False, False, False, False, False, False,\n",
       "        True, False, False, False,  True, False, False, False, False,\n",
       "       False, False, False, False, False, False, False, False,  True,\n",
       "       False, False, False, False, False, False, False, False, False,\n",
       "       False, False, False,  True, False, False, False,  True,  True,\n",
       "       False, False, False, False, False, False,  True, False, False,\n",
       "       False, False, False, False, False,  True, False, False, False,\n",
       "       False, False, False, False, False, False, False, False, False,\n",
       "       False, False, False, False,  True, False, False, False, False,\n",
       "       False, False, False, False, False, False, False,  True,  True,\n",
       "       False,  True, False, False, False, False, False, False, False,\n",
       "       False, False, False, False, False, False, False, False, False,\n",
       "       False, False, False, False, False, False, False, False, False,\n",
       "       False, False, False, False, False, False, False, False, False,\n",
       "       False, False, False, False, False, False, False, False, False,\n",
       "        True, False,  True,  True, False, False, False, False, False,\n",
       "       False, False, False, False, False, False,  True, False, False,\n",
       "       False, False, False, False,  True, False, False, False,  True,\n",
       "        True, False, False, False, False, False, False, False,  True,\n",
       "       False, False, False, False,  True, False, False, False, False,\n",
       "       False,  True, False, False, False, False, False, False, False,\n",
       "       False, False, False, False, False, False, False, False, False,\n",
       "       False, False, False, False,  True,  True,  True, False, False,\n",
       "       False, False, False, False, False,  True,  True, False, False,\n",
       "        True, False, False,  True, False, False, False, False, False,\n",
       "        True, False, False, False,  True, False, False, False, False,\n",
       "       False, False, False, False, False, False, False, False, False,\n",
       "       False, False,  True,  True, False, False, False, False, False,\n",
       "       False, False, False, False, False, False, False, False, False,\n",
       "        True, False, False, False, False, False, False, False, False,\n",
       "       False, False, False, False, False, False, False, False, False,\n",
       "       False, False, False, False, False,  True, False, False, False,\n",
       "        True,  True, False, False, False, False, False, False, False,\n",
       "       False, False, False, False, False, False, False, False, False,\n",
       "       False, False, False, False, False, False, False, False, False,\n",
       "       False,  True, False, False, False, False,  True, False, False,\n",
       "       False, False, False, False, False, False, False, False, False,\n",
       "       False, False, False, False, False, False, False, False, False,\n",
       "       False, False,  True, False, False, False, False, False,  True,\n",
       "       False, False, False, False, False, False, False, False, False,\n",
       "       False, False, False, False, False, False,  True, False, False,\n",
       "       False, False, False, False, False, False, False,  True, False,\n",
       "       False,  True, False, False, False,  True, False,  True, False,\n",
       "       False, False,  True, False, False, False, False, False, False,\n",
       "       False, False, False, False, False, False, False, False, False,\n",
       "       False, False, False, False, False, False, False, False, False,\n",
       "        True, False, False, False, False,  True, False,  True, False,\n",
       "       False, False,  True, False, False, False, False, False, False,\n",
       "       False, False, False, False, False, False, False, False, False,\n",
       "       False,  True, False, False, False, False, False, False, False,\n",
       "       False,  True, False,  True,  True, False,  True, False, False,\n",
       "       False, False, False, False, False, False, False, False, False,\n",
       "       False, False, False, False, False, False, False, False, False,\n",
       "       False, False, False, False, False, False,  True, False, False,\n",
       "       False, False, False, False, False, False, False, False,  True,\n",
       "       False, False, False, False, False, False, False, False, False,\n",
       "        True, False, False,  True, False, False, False, False, False,\n",
       "        True, False, False, False,  True, False, False,  True, False,\n",
       "       False, False, False, False, False, False, False, False, False,\n",
       "       False, False, False, False, False, False, False, False, False,\n",
       "       False, False, False, False, False, False, False, False, False,\n",
       "       False,  True,  True, False, False, False, False, False, False,\n",
       "       False, False, False, False, False, False, False, False, False,\n",
       "       False, False, False, False, False, False, False, False, False,\n",
       "        True, False, False, False, False, False, False, False, False,\n",
       "       False, False, False, False, False, False,  True, False, False,\n",
       "        True, False, False, False, False, False,  True, False, False,\n",
       "       False, False, False, False, False, False, False, False, False,\n",
       "       False,  True, False, False, False, False, False, False, False,\n",
       "        True, False, False,  True, False, False, False, False, False,\n",
       "       False, False, False, False,  True, False, False, False, False,\n",
       "       False, False, False, False, False, False, False, False, False,\n",
       "       False, False, False,  True, False, False, False, False, False,\n",
       "       False, False, False, False,  True, False, False,  True, False,\n",
       "       False, False, False, False,  True, False, False, False, False,\n",
       "       False, False, False, False, False, False, False, False, False,\n",
       "       False, False, False, False, False, False, False, False, False,\n",
       "       False, False, False,  True, False, False, False, False, False,\n",
       "        True, False, False, False, False, False, False, False, False,\n",
       "       False, False, False, False, False,  True, False, False, False,\n",
       "       False, False,  True, False, False, False, False, False, False,\n",
       "       False,  True, False, False, False, False, False,  True, False,\n",
       "       False, False, False, False,  True, False, False, False, False,\n",
       "       False, False, False, False, False, False, False, False, False,\n",
       "       False, False, False, False, False, False, False,  True, False,\n",
       "       False, False, False,  True, False, False, False, False,  True,\n",
       "       False, False, False, False, False, False, False, False, False,\n",
       "       False,  True, False, False, False, False, False, False, False,\n",
       "        True, False,  True, False, False, False, False, False, False,\n",
       "       False, False, False, False, False, False, False, False, False,\n",
       "        True, False, False, False,  True, False, False,  True, False,\n",
       "       False, False, False, False,  True, False, False, False, False,\n",
       "       False, False, False, False, False, False, False, False, False,\n",
       "       False, False, False, False, False, False,  True, False, False,\n",
       "       False,  True, False, False, False, False,  True, False, False,\n",
       "       False, False, False, False, False, False, False, False, False,\n",
       "       False, False, False, False, False, False, False, False, False,\n",
       "       False, False, False, False,  True, False, False, False, False,\n",
       "       False, False, False, False, False, False, False, False, False,\n",
       "       False, False, False, False, False,  True, False, False, False,\n",
       "        True, False, False, False, False, False,  True, False, False,\n",
       "       False, False,  True, False, False, False, False, False, False,\n",
       "       False, False, False, False, False,  True,  True,  True, False,\n",
       "       False, False, False, False, False,  True, False, False, False,\n",
       "       False, False, False, False, False, False,  True, False, False,\n",
       "        True, False, False, False, False, False, False,  True, False,\n",
       "       False])"
      ]
     },
     "execution_count": 18,
     "metadata": {},
     "output_type": "execute_result"
    }
   ],
   "source": [
    "array == 1"
   ]
  },
  {
   "cell_type": "code",
   "execution_count": 19,
   "id": "8603527c",
   "metadata": {},
   "outputs": [
    {
     "data": {
      "text/plain": [
       "array([False, False, False,  True, False, False, False, False, False,\n",
       "       False, False,  True, False, False, False, False, False, False,\n",
       "       False, False, False, False, False, False, False, False, False,\n",
       "       False, False, False, False, False, False, False, False, False,\n",
       "       False, False, False, False, False, False, False, False, False,\n",
       "        True, False, False, False, False, False, False, False, False,\n",
       "       False, False,  True, False, False, False, False, False, False,\n",
       "       False, False, False, False, False, False,  True, False, False,\n",
       "       False, False, False, False, False, False, False, False, False,\n",
       "       False, False, False, False, False, False, False, False, False,\n",
       "       False, False, False, False, False, False, False, False, False,\n",
       "       False,  True, False,  True, False, False, False, False, False,\n",
       "       False, False, False, False, False, False, False, False, False,\n",
       "       False, False, False, False, False, False, False, False, False,\n",
       "        True, False, False, False, False,  True, False, False, False,\n",
       "       False, False, False, False, False, False, False, False,  True,\n",
       "       False, False,  True, False, False, False, False, False, False,\n",
       "       False, False, False, False, False, False, False,  True, False,\n",
       "       False, False, False, False, False, False,  True, False, False,\n",
       "       False, False, False,  True, False, False, False, False, False,\n",
       "       False, False, False, False, False, False, False, False, False,\n",
       "       False,  True, False, False, False, False, False,  True, False,\n",
       "       False, False, False, False, False, False, False, False, False,\n",
       "       False, False, False, False, False, False, False, False, False,\n",
       "       False, False, False, False, False, False, False,  True,  True,\n",
       "       False, False, False, False, False, False, False, False, False,\n",
       "       False, False, False, False, False, False, False, False, False,\n",
       "       False, False, False, False, False, False, False, False, False,\n",
       "       False, False, False,  True, False, False, False, False, False,\n",
       "        True, False, False, False,  True, False, False, False, False,\n",
       "       False, False,  True, False, False, False, False, False, False,\n",
       "       False,  True, False,  True, False, False, False, False, False,\n",
       "       False, False, False, False, False, False, False, False, False,\n",
       "       False, False, False, False, False, False, False, False, False,\n",
       "       False, False, False,  True, False, False, False, False, False,\n",
       "       False, False, False, False, False, False, False,  True, False,\n",
       "        True, False, False, False, False, False, False, False, False,\n",
       "       False, False, False, False, False, False,  True, False, False,\n",
       "       False, False, False, False, False, False, False, False, False,\n",
       "       False, False, False, False, False, False, False, False, False,\n",
       "       False, False, False, False, False, False, False, False, False,\n",
       "       False, False, False, False, False, False, False, False, False,\n",
       "       False, False, False, False, False, False,  True, False, False,\n",
       "        True, False,  True, False, False, False, False, False,  True,\n",
       "       False, False, False, False, False, False, False, False, False,\n",
       "       False, False, False, False, False, False, False, False,  True,\n",
       "       False, False, False, False, False, False, False, False, False,\n",
       "       False, False,  True, False, False, False, False, False, False,\n",
       "       False, False, False,  True, False, False, False, False, False,\n",
       "       False, False, False, False, False, False, False, False, False,\n",
       "        True, False, False, False, False,  True, False, False, False,\n",
       "       False, False, False,  True, False, False, False,  True, False,\n",
       "       False, False, False, False, False, False,  True, False, False,\n",
       "        True, False, False, False, False, False, False, False, False,\n",
       "       False, False, False, False, False, False, False, False, False,\n",
       "       False, False, False, False, False, False, False, False,  True,\n",
       "       False, False, False, False, False, False, False, False, False,\n",
       "       False, False, False, False, False, False, False, False, False,\n",
       "        True, False, False, False, False, False, False, False, False,\n",
       "       False, False, False, False, False, False,  True, False, False,\n",
       "       False, False, False, False, False, False, False, False, False,\n",
       "       False, False, False, False, False, False, False, False, False,\n",
       "       False, False, False, False, False, False, False, False, False,\n",
       "       False, False, False, False, False, False, False, False, False,\n",
       "       False,  True, False, False, False, False, False, False, False,\n",
       "       False, False, False, False, False, False, False, False, False,\n",
       "       False, False, False, False, False, False, False, False, False,\n",
       "        True, False, False,  True, False, False, False, False, False,\n",
       "       False, False, False, False, False, False, False, False, False,\n",
       "       False, False, False, False, False, False, False, False,  True,\n",
       "       False, False, False, False, False, False, False, False, False,\n",
       "        True, False, False, False, False, False,  True, False, False,\n",
       "       False, False, False, False, False, False, False, False, False,\n",
       "       False, False, False, False, False, False, False, False, False,\n",
       "       False, False, False,  True, False, False, False, False, False,\n",
       "       False, False, False, False, False,  True, False, False,  True,\n",
       "       False, False, False, False, False, False, False, False, False,\n",
       "        True, False, False, False, False, False, False, False, False,\n",
       "       False, False, False, False, False, False, False, False, False,\n",
       "       False, False, False, False,  True, False, False, False, False,\n",
       "       False, False,  True, False, False, False, False, False, False,\n",
       "       False, False, False, False, False, False, False, False, False,\n",
       "       False, False, False, False,  True,  True, False, False, False,\n",
       "       False, False, False, False, False, False, False, False, False,\n",
       "        True, False, False,  True, False, False, False, False, False,\n",
       "       False, False,  True, False, False, False, False, False, False,\n",
       "       False, False,  True, False, False, False, False, False, False,\n",
       "       False, False,  True, False, False, False, False, False, False,\n",
       "       False, False, False, False, False, False, False, False, False,\n",
       "       False, False, False, False, False, False, False, False, False,\n",
       "       False, False, False, False, False,  True, False, False, False,\n",
       "       False, False, False, False, False, False, False, False, False,\n",
       "       False, False, False,  True, False, False, False, False, False,\n",
       "       False, False, False, False, False, False, False, False, False,\n",
       "       False, False, False,  True, False, False, False, False, False,\n",
       "       False, False, False, False, False, False, False, False, False,\n",
       "       False, False, False, False, False, False, False,  True,  True,\n",
       "       False, False, False, False,  True, False, False, False, False,\n",
       "       False, False, False, False, False, False, False, False, False,\n",
       "       False, False,  True, False, False, False, False, False, False,\n",
       "       False, False, False,  True,  True, False, False, False, False,\n",
       "       False, False, False,  True,  True,  True, False, False, False,\n",
       "       False, False, False, False, False, False, False, False, False,\n",
       "       False, False, False, False, False, False, False,  True, False,\n",
       "       False, False, False, False, False, False, False, False, False,\n",
       "       False, False, False, False,  True, False, False, False, False,\n",
       "        True, False,  True, False, False, False, False,  True, False,\n",
       "       False,  True, False, False, False, False, False, False, False,\n",
       "       False, False, False, False, False, False, False, False, False,\n",
       "       False,  True, False, False, False, False, False, False, False,\n",
       "       False,  True, False, False, False,  True, False, False, False,\n",
       "       False])"
      ]
     },
     "execution_count": 19,
     "metadata": {},
     "output_type": "execute_result"
    }
   ],
   "source": [
    "np.roll(array, -1) == 2"
   ]
  },
  {
   "cell_type": "code",
   "execution_count": 20,
   "id": "b2b75de8",
   "metadata": {},
   "outputs": [
    {
     "data": {
      "text/plain": [
       "array([False, False, False, False, False, False, False, False, False,\n",
       "       False, False, False, False, False, False, False, False, False,\n",
       "       False, False, False, False, False, False, False, False, False,\n",
       "       False, False, False, False, False, False, False, False, False,\n",
       "       False, False, False, False, False, False, False, False, False,\n",
       "       False, False, False, False, False, False, False, False, False,\n",
       "       False, False, False, False, False, False, False, False, False,\n",
       "       False, False, False, False, False, False, False, False, False,\n",
       "       False, False, False, False, False, False, False, False, False,\n",
       "       False, False, False, False, False, False, False, False, False,\n",
       "       False, False, False, False, False, False, False, False, False,\n",
       "       False, False, False, False, False, False, False, False, False,\n",
       "       False, False, False, False, False, False, False, False, False,\n",
       "       False, False, False, False, False, False, False, False, False,\n",
       "       False, False, False, False, False, False, False, False, False,\n",
       "       False, False, False, False, False, False, False, False, False,\n",
       "       False, False, False, False, False, False, False, False, False,\n",
       "       False, False, False, False, False, False, False, False, False,\n",
       "       False, False, False, False, False, False, False, False, False,\n",
       "       False, False, False, False, False, False, False, False, False,\n",
       "       False, False, False, False, False, False, False, False, False,\n",
       "       False, False, False, False, False, False, False, False, False,\n",
       "       False, False, False, False, False, False, False, False, False,\n",
       "       False, False, False, False, False, False, False, False, False,\n",
       "       False, False, False, False, False, False, False, False, False,\n",
       "       False, False, False, False, False, False, False, False, False,\n",
       "       False, False, False, False, False, False, False, False, False,\n",
       "       False, False, False, False, False, False, False, False, False,\n",
       "       False, False, False, False, False, False, False, False, False,\n",
       "       False, False, False, False, False, False, False, False, False,\n",
       "       False, False, False, False, False, False, False, False, False,\n",
       "       False, False, False, False, False, False, False, False, False,\n",
       "       False, False, False, False, False, False, False, False, False,\n",
       "       False, False, False, False, False, False, False, False, False,\n",
       "       False, False, False, False, False, False, False, False, False,\n",
       "       False, False, False, False, False, False, False, False, False,\n",
       "       False, False, False, False, False, False, False, False, False,\n",
       "       False, False, False, False, False, False, False, False, False,\n",
       "       False, False, False, False, False, False, False, False, False,\n",
       "       False, False, False, False, False, False, False, False, False,\n",
       "       False, False, False, False, False, False, False, False, False,\n",
       "       False, False, False, False, False, False, False, False, False,\n",
       "       False, False, False, False, False, False, False, False, False,\n",
       "       False, False, False, False, False, False, False, False, False,\n",
       "       False, False, False, False, False, False, False, False, False,\n",
       "       False, False, False, False, False, False, False, False, False,\n",
       "       False, False, False, False, False, False, False, False, False,\n",
       "       False, False, False, False, False, False, False, False, False,\n",
       "       False, False, False, False, False, False, False, False, False,\n",
       "       False, False, False, False, False, False, False, False, False,\n",
       "       False, False, False, False, False, False, False, False, False,\n",
       "       False, False, False, False, False, False, False, False, False,\n",
       "       False, False, False, False, False, False, False, False, False,\n",
       "       False, False, False, False, False, False, False, False, False,\n",
       "       False, False, False, False, False, False, False, False, False,\n",
       "       False, False, False, False, False, False, False, False, False,\n",
       "       False, False, False, False, False, False, False, False, False,\n",
       "       False, False, False, False, False, False, False, False, False,\n",
       "       False, False, False, False, False, False, False, False, False,\n",
       "       False, False, False, False, False, False, False, False, False,\n",
       "       False, False, False, False, False, False, False, False, False,\n",
       "       False, False, False, False, False, False, False, False, False,\n",
       "       False, False, False, False, False, False, False, False, False,\n",
       "       False, False, False, False, False, False, False, False, False,\n",
       "       False, False, False, False, False, False, False, False, False,\n",
       "       False, False, False, False, False, False, False, False, False,\n",
       "       False, False, False, False, False, False, False, False, False,\n",
       "       False, False, False, False, False, False, False, False, False,\n",
       "       False, False, False, False, False, False, False, False, False,\n",
       "       False, False, False, False, False, False, False, False, False,\n",
       "       False, False, False, False, False, False, False, False, False,\n",
       "        True, False, False, False, False, False, False, False, False,\n",
       "       False, False, False, False, False, False, False, False, False,\n",
       "       False, False, False, False, False, False, False, False, False,\n",
       "       False, False, False, False, False, False, False, False, False,\n",
       "       False, False, False, False, False, False, False, False, False,\n",
       "       False, False, False, False, False, False, False, False, False,\n",
       "       False, False, False, False, False, False, False, False, False,\n",
       "       False, False, False, False, False, False, False, False, False,\n",
       "       False, False, False, False, False, False, False, False, False,\n",
       "       False, False, False, False, False, False, False, False, False,\n",
       "       False, False, False, False, False, False, False, False, False,\n",
       "       False, False, False, False, False, False, False, False, False,\n",
       "       False, False, False, False, False, False, False, False, False,\n",
       "       False, False, False, False, False, False, False, False, False,\n",
       "       False, False, False, False, False, False, False, False, False,\n",
       "       False, False, False, False, False, False, False, False, False,\n",
       "       False, False, False, False, False, False, False, False, False,\n",
       "       False, False, False, False, False, False, False, False, False,\n",
       "       False, False, False, False, False, False, False, False, False,\n",
       "       False, False, False, False, False, False, False, False, False,\n",
       "       False, False, False, False, False, False, False, False, False,\n",
       "       False, False, False, False, False, False, False, False, False,\n",
       "       False, False, False, False, False, False, False, False, False,\n",
       "       False, False, False, False, False, False, False, False, False,\n",
       "       False, False, False, False, False, False, False, False, False,\n",
       "       False, False, False, False, False, False, False, False, False,\n",
       "       False, False, False, False, False, False, False, False, False,\n",
       "       False, False, False, False, False, False, False, False, False,\n",
       "       False, False, False, False, False, False, False, False, False,\n",
       "       False, False, False, False, False, False, False, False, False,\n",
       "       False, False, False, False, False, False, False, False, False,\n",
       "       False, False, False, False, False, False, False, False, False,\n",
       "       False, False, False, False, False, False, False, False, False,\n",
       "       False, False, False, False, False, False, False, False, False,\n",
       "       False, False, False, False, False, False, False, False, False,\n",
       "       False, False, False, False, False, False, False, False, False,\n",
       "       False, False, False, False, False, False, False, False, False,\n",
       "       False, False, False, False, False, False, False, False, False,\n",
       "       False, False, False, False, False, False, False, False, False,\n",
       "       False, False, False, False, False, False, False, False, False,\n",
       "       False])"
      ]
     },
     "execution_count": 20,
     "metadata": {},
     "output_type": "execute_result"
    }
   ],
   "source": [
    "sequenza_uno_due = np.logical_and(array == 1, np.roll(array, -1) == 2)\n",
    "sequenza_uno_due_tre = np.logical_and(sequenza_uno_due, np.roll(array, -2) == 3)\n",
    "sequenza_uno_due_tre"
   ]
  },
  {
   "cell_type": "code",
   "execution_count": 21,
   "id": "4df02392",
   "metadata": {},
   "outputs": [
    {
     "data": {
      "text/plain": [
       "array([639])"
      ]
     },
     "execution_count": 21,
     "metadata": {},
     "output_type": "execute_result"
    }
   ],
   "source": [
    "array_posizioni = np.arange(0, n)\n",
    "array_posizioni[sequenza_uno_due_tre]"
   ]
  },
  {
   "cell_type": "markdown",
   "id": "e5e4996d",
   "metadata": {},
   "source": [
    "# ES7"
   ]
  },
  {
   "cell_type": "code",
   "execution_count": 36,
   "id": "31774112",
   "metadata": {
    "scrolled": true
   },
   "outputs": [
    {
     "data": {
      "text/plain": [
       "array([   1,    2,    3,    5,    7,   11,   13,   17,   19,   23,   29,\n",
       "         31,   37,   41,   43,   47,   53,   59,   61,   67,   71,   73,\n",
       "         79,   83,   89,   97,  101,  103,  107,  109,  113,  127,  131,\n",
       "        137,  139,  149,  151,  157,  163,  167,  173,  179,  181,  191,\n",
       "        193,  197,  199,  211,  223,  227,  229,  233,  239,  241,  251,\n",
       "        257,  263,  269,  271,  277,  281,  283,  293,  307,  311,  313,\n",
       "        317,  331,  337,  347,  349,  353,  359,  367,  373,  379,  383,\n",
       "        389,  397,  401,  409,  419,  421,  431,  433,  439,  443,  449,\n",
       "        457,  461,  463,  467,  479,  487,  491,  499,  503,  509,  521,\n",
       "        523,  541,  547,  557,  563,  569,  571,  577,  587,  593,  599,\n",
       "        601,  607,  613,  617,  619,  631,  641,  643,  647,  653,  659,\n",
       "        661,  673,  677,  683,  691,  701,  709,  719,  727,  733,  739,\n",
       "        743,  751,  757,  761,  769,  773,  787,  797,  809,  811,  821,\n",
       "        823,  827,  829,  839,  853,  857,  859,  863,  877,  881,  883,\n",
       "        887,  907,  911,  919,  929,  937,  941,  947,  953,  967,  971,\n",
       "        977,  983,  991,  997, 1009, 1013, 1019, 1021, 1031, 1033, 1039,\n",
       "       1049, 1051, 1061, 1063, 1069, 1087, 1091, 1093, 1097, 1103, 1109,\n",
       "       1117, 1123, 1129, 1151, 1153, 1163, 1171, 1181, 1187, 1193, 1201,\n",
       "       1213, 1217, 1223, 1229, 1231, 1237, 1249, 1259, 1277, 1279, 1283,\n",
       "       1289, 1291, 1297, 1301, 1303, 1307, 1319, 1321, 1327, 1361, 1367,\n",
       "       1373, 1381, 1399, 1409, 1423, 1427, 1429, 1433, 1439, 1447, 1451,\n",
       "       1453, 1459, 1471, 1481, 1483, 1487, 1489, 1493, 1499, 1511, 1523,\n",
       "       1531, 1543, 1549, 1553, 1559, 1567, 1571, 1579, 1583, 1597, 1601,\n",
       "       1607, 1609, 1613, 1619, 1621, 1627, 1637, 1657, 1663, 1667, 1669,\n",
       "       1693, 1697, 1699, 1709, 1721, 1723, 1733, 1741, 1747, 1753, 1759,\n",
       "       1777, 1783, 1787, 1789, 1801, 1811, 1823, 1831, 1847, 1861, 1867,\n",
       "       1871, 1873, 1877, 1879, 1889, 1901, 1907, 1913, 1931, 1933, 1949,\n",
       "       1951, 1973, 1979, 1987, 1993, 1997, 1999, 2003, 2011, 2017, 2027,\n",
       "       2029, 2039, 2053, 2063, 2069, 2081, 2083, 2087, 2089, 2099, 2111,\n",
       "       2113, 2129, 2131, 2137, 2141, 2143, 2153, 2161, 2179, 2203, 2207,\n",
       "       2213, 2221, 2237, 2239, 2243, 2251, 2267, 2269, 2273, 2281, 2287,\n",
       "       2293, 2297, 2309, 2311, 2333, 2339, 2341, 2347, 2351, 2357, 2371,\n",
       "       2377, 2381, 2383, 2389, 2393, 2399, 2411, 2417, 2423, 2437, 2441,\n",
       "       2447, 2459, 2467, 2473, 2477, 2503, 2521, 2531, 2539, 2543, 2549,\n",
       "       2551, 2557, 2579, 2591, 2593, 2609, 2617, 2621, 2633, 2647, 2657,\n",
       "       2659, 2663, 2671, 2677, 2683, 2687, 2689, 2693, 2699, 2707, 2711,\n",
       "       2713, 2719, 2729, 2731, 2741, 2749, 2753, 2767, 2777, 2789, 2791,\n",
       "       2797, 2801, 2803, 2819, 2833, 2837, 2843, 2851, 2857, 2861, 2879,\n",
       "       2887, 2897, 2903, 2909, 2917, 2927, 2939, 2953, 2957, 2963, 2969,\n",
       "       2971, 2999, 3001, 3011, 3019, 3023, 3037, 3041, 3049, 3061, 3067,\n",
       "       3079, 3083, 3089, 3109, 3119, 3121, 3137, 3163, 3167, 3169, 3181,\n",
       "       3187, 3191, 3203, 3209, 3217, 3221, 3229, 3251, 3253, 3257, 3259,\n",
       "       3271, 3299, 3301, 3307, 3313, 3319, 3323, 3329, 3331, 3343, 3347,\n",
       "       3359, 3361, 3371, 3373, 3389, 3391, 3407, 3413, 3433, 3449, 3457,\n",
       "       3461, 3463, 3467, 3469, 3491, 3499, 3511, 3517, 3527, 3529, 3533,\n",
       "       3539, 3541, 3547, 3557, 3559, 3571, 3581, 3583, 3593, 3607, 3613,\n",
       "       3617, 3623, 3631, 3637, 3643, 3659, 3671, 3673, 3677, 3691, 3697,\n",
       "       3701, 3709, 3719, 3727, 3733, 3739, 3761, 3767, 3769, 3779, 3793,\n",
       "       3797, 3803, 3821, 3823, 3833, 3847, 3851, 3853, 3863, 3877, 3881,\n",
       "       3889, 3907, 3911, 3917, 3919, 3923, 3929, 3931, 3943, 3947, 3967,\n",
       "       3989, 4001, 4003, 4007, 4013, 4019, 4021, 4027, 4049, 4051, 4057,\n",
       "       4073, 4079, 4091, 4093, 4099, 4111, 4127, 4129, 4133, 4139, 4153,\n",
       "       4157, 4159, 4177, 4201, 4211, 4217, 4219, 4229, 4231, 4241, 4243,\n",
       "       4253, 4259, 4261, 4271, 4273, 4283, 4289, 4297, 4327, 4337, 4339,\n",
       "       4349, 4357, 4363, 4373, 4391, 4397, 4409, 4421, 4423, 4441, 4447,\n",
       "       4451, 4457, 4463, 4481, 4483, 4493, 4507, 4513, 4517, 4519, 4523,\n",
       "       4547, 4549, 4561, 4567, 4583, 4591, 4597, 4603, 4621, 4637, 4639,\n",
       "       4643, 4649, 4651, 4657, 4663, 4673, 4679, 4691, 4703, 4721, 4723,\n",
       "       4729, 4733, 4751, 4759, 4783, 4787, 4789, 4793, 4799, 4801, 4813,\n",
       "       4817, 4831, 4861, 4871, 4877, 4889, 4903, 4909, 4919, 4931, 4933,\n",
       "       4937, 4943, 4951, 4957, 4967, 4969, 4973, 4987, 4993, 4999, 5003,\n",
       "       5009, 5011, 5021, 5023, 5039, 5051, 5059, 5077, 5081, 5087, 5099,\n",
       "       5101, 5107, 5113, 5119, 5147, 5153, 5167, 5171, 5179, 5189, 5197,\n",
       "       5209, 5227, 5231, 5233, 5237, 5261, 5273, 5279, 5281, 5297, 5303,\n",
       "       5309, 5323, 5333, 5347, 5351, 5381, 5387, 5393, 5399, 5407, 5413,\n",
       "       5417, 5419, 5431, 5437, 5441, 5443, 5449, 5471, 5477, 5479, 5483,\n",
       "       5501, 5503, 5507, 5519, 5521, 5527, 5531, 5557, 5563, 5569, 5573,\n",
       "       5581, 5591, 5623, 5639, 5641, 5647, 5651, 5653, 5657, 5659, 5669,\n",
       "       5683, 5689, 5693, 5701, 5711, 5717, 5737, 5741, 5743, 5749, 5779,\n",
       "       5783, 5791, 5801, 5807, 5813, 5821, 5827, 5839, 5843, 5849, 5851,\n",
       "       5857, 5861, 5867, 5869, 5879, 5881, 5897, 5903, 5923, 5927, 5939,\n",
       "       5953, 5981, 5987, 6007, 6011, 6029, 6037, 6043, 6047, 6053, 6067,\n",
       "       6073, 6079, 6089, 6091, 6101, 6113, 6121, 6131, 6133, 6143, 6151,\n",
       "       6163, 6173, 6197, 6199, 6203, 6211, 6217, 6221, 6229, 6247, 6257,\n",
       "       6263, 6269, 6271, 6277, 6287, 6299, 6301, 6311, 6317, 6323, 6329,\n",
       "       6337, 6343, 6353, 6359, 6361, 6367, 6373, 6379, 6389, 6397, 6421,\n",
       "       6427, 6449, 6451, 6469, 6473, 6481, 6491, 6521, 6529, 6547, 6551,\n",
       "       6553, 6563, 6569, 6571, 6577, 6581, 6599, 6607, 6619, 6637, 6653,\n",
       "       6659, 6661, 6673, 6679, 6689, 6691, 6701, 6703, 6709, 6719, 6733,\n",
       "       6737, 6761, 6763, 6779, 6781, 6791, 6793, 6803, 6823, 6827, 6829,\n",
       "       6833, 6841, 6857, 6863, 6869, 6871, 6883, 6899, 6907, 6911, 6917,\n",
       "       6947, 6949, 6959, 6961, 6967, 6971, 6977, 6983, 6991, 6997, 7001,\n",
       "       7013, 7019, 7027, 7039, 7043, 7057, 7069, 7079, 7103, 7109, 7121,\n",
       "       7127, 7129, 7151, 7159, 7177, 7187, 7193, 7207, 7211, 7213, 7219,\n",
       "       7229, 7237, 7243, 7247, 7253, 7283, 7297, 7307, 7309, 7321, 7331,\n",
       "       7333, 7349, 7351, 7369, 7393, 7411, 7417, 7433, 7451, 7457, 7459,\n",
       "       7477, 7481, 7487, 7489, 7499, 7507, 7517, 7523, 7529, 7537, 7541,\n",
       "       7547, 7549, 7559, 7561, 7573, 7577, 7583, 7589, 7591, 7603, 7607,\n",
       "       7621, 7639, 7643, 7649, 7669, 7673, 7681, 7687, 7691, 7699, 7703,\n",
       "       7717, 7723, 7727, 7741, 7753, 7757, 7759, 7789, 7793, 7817, 7823,\n",
       "       7829, 7841, 7853, 7867, 7873, 7877, 7879, 7883, 7901, 7907])"
      ]
     },
     "execution_count": 36,
     "metadata": {},
     "output_type": "execute_result"
    }
   ],
   "source": [
    "n=0\n",
    "i=0\n",
    "l = []\n",
    "while n < 1000:\n",
    "    i += 1\n",
    "    count = 1\n",
    "    for j in range(2, i):\n",
    "        if i % j == 0:\n",
    "            count = 0\n",
    "            break\n",
    "    if count == 1:\n",
    "        l.append(i)\n",
    "        n += 1\n",
    "array = np.array(l)\n",
    "array"
   ]
  },
  {
   "cell_type": "code",
   "execution_count": 37,
   "id": "7f07e743",
   "metadata": {},
   "outputs": [],
   "source": [
    "array =  np.array([x for x in range(0, n) if all(x % y != 0 for y in range(2, x))])"
   ]
  },
  {
   "cell_type": "code",
   "execution_count": 38,
   "id": "0a01ecaa",
   "metadata": {
    "scrolled": true
   },
   "outputs": [
    {
     "data": {
      "text/plain": [
       "array([False, False, False, False,  True,  True, False,  True, False,\n",
       "        True, False, False,  True, False, False,  True, False, False,\n",
       "       False,  True, False, False,  True, False, False, False, False,\n",
       "       False,  True, False,  True, False, False, False, False,  True,\n",
       "       False,  True, False, False, False, False, False,  True, False,\n",
       "        True, False,  True, False, False, False,  True, False, False,\n",
       "        True, False, False, False, False,  True, False, False,  True,\n",
       "       False, False, False,  True, False, False, False, False,  True,\n",
       "       False, False, False, False, False, False, False, False, False,\n",
       "       False, False,  True, False,  True, False, False, False, False,\n",
       "       False,  True, False, False, False, False, False, False, False,\n",
       "       False,  True, False, False, False, False, False,  True, False,\n",
       "       False, False, False,  True, False, False, False,  True, False,\n",
       "       False,  True, False, False, False,  True, False, False, False,\n",
       "       False, False, False, False, False, False, False, False, False,\n",
       "       False, False, False, False, False, False, False,  True, False,\n",
       "        True, False,  True, False, False, False,  True, False, False,\n",
       "       False,  True, False, False, False, False, False, False, False,\n",
       "       False, False, False, False, False, False, False, False])"
      ]
     },
     "execution_count": 38,
     "metadata": {},
     "output_type": "execute_result"
    }
   ],
   "source": [
    "confronto = array - np.roll(array, 1) == 2\n",
    "confronto"
   ]
  },
  {
   "cell_type": "code",
   "execution_count": 39,
   "id": "be5280d9",
   "metadata": {},
   "outputs": [
    {
     "data": {
      "text/plain": [
       "array([  5,   7,  13,  19,  31,  43,  61,  73, 103, 109, 139, 151, 181,\n",
       "       193, 199, 229, 241, 271, 283, 313, 349, 421, 433, 463, 523, 571,\n",
       "       601, 619, 643, 661, 811, 823, 829, 859, 883])"
      ]
     },
     "execution_count": 39,
     "metadata": {},
     "output_type": "execute_result"
    }
   ],
   "source": [
    "array[confronto]"
   ]
  },
  {
   "cell_type": "code",
   "execution_count": 40,
   "id": "127f6c0d",
   "metadata": {},
   "outputs": [
    {
     "data": {
      "text/plain": [
       "array([  3,   5,  11,  17,  29,  41,  59,  71, 101, 107, 137, 149, 179,\n",
       "       191, 197, 227, 239, 269, 281, 311, 347, 419, 431, 461, 521, 569,\n",
       "       599, 617, 641, 659, 809, 821, 827, 857, 881])"
      ]
     },
     "execution_count": 40,
     "metadata": {},
     "output_type": "execute_result"
    }
   ],
   "source": [
    "array[np.roll(confronto, -1)]"
   ]
  },
  {
   "cell_type": "markdown",
   "id": "1e7a3377",
   "metadata": {},
   "source": [
    "# ES9"
   ]
  },
  {
   "cell_type": "code",
   "execution_count": 45,
   "id": "7bec6d0d",
   "metadata": {},
   "outputs": [
    {
     "data": {
      "text/plain": [
       "array([4, 6, 6, 4, 2, 1, 1, 6, 1, 6])"
      ]
     },
     "execution_count": 45,
     "metadata": {},
     "output_type": "execute_result"
    }
   ],
   "source": [
    "n_partite = 10\n",
    "n_lanci = 1000\n",
    "lanci_g1 = np.random.randint(1, 7, (n_partite, n_lanci))\n",
    "#lanci_g2 = np.random.randint(1, 7, (n_partite, n_lanci))\n",
    "lanci_g2 = np.random.choice([1, 2, 3, 4, 5, 6], 10, p = [1 / 8, 1 / 8, 1 / 8, 1 / 8, 1 / 4, 1 / 4])\n",
    "lanci_g2"
   ]
  },
  {
   "cell_type": "code",
   "execution_count": 46,
   "id": "39dacf7d",
   "metadata": {},
   "outputs": [
    {
     "ename": "IndexError",
     "evalue": "too many indices for array: array is 1-dimensional, but 2 were indexed",
     "output_type": "error",
     "traceback": [
      "\u001b[1;31m---------------------------------------------------------------------------\u001b[0m",
      "\u001b[1;31mIndexError\u001b[0m                                Traceback (most recent call last)",
      "Input \u001b[1;32mIn [46]\u001b[0m, in \u001b[0;36m<cell line: 3>\u001b[1;34m()\u001b[0m\n\u001b[0;32m      3\u001b[0m \u001b[38;5;28;01mfor\u001b[39;00m i \u001b[38;5;129;01min\u001b[39;00m \u001b[38;5;28mrange\u001b[39m(n_partite):\n\u001b[0;32m      4\u001b[0m     \u001b[38;5;28;01mfor\u001b[39;00m j \u001b[38;5;129;01min\u001b[39;00m \u001b[38;5;28mrange\u001b[39m(n_lanci):\n\u001b[1;32m----> 5\u001b[0m         \u001b[38;5;28;01mif\u001b[39;00m lanci_g1[i, j] \u001b[38;5;241m>\u001b[39m \u001b[43mlanci_g2\u001b[49m\u001b[43m[\u001b[49m\u001b[43mi\u001b[49m\u001b[43m,\u001b[49m\u001b[43m \u001b[49m\u001b[43mj\u001b[49m\u001b[43m]\u001b[49m:\n\u001b[0;32m      6\u001b[0m             g1 \u001b[38;5;241m+\u001b[39m\u001b[38;5;241m=\u001b[39m \u001b[38;5;241m1.\u001b[39m\n\u001b[0;32m      7\u001b[0m         \u001b[38;5;28;01melif\u001b[39;00m lanci_g1[i, j] \u001b[38;5;241m<\u001b[39m lanci_g2[i, j]:\n",
      "\u001b[1;31mIndexError\u001b[0m: too many indices for array: array is 1-dimensional, but 2 were indexed"
     ]
    }
   ],
   "source": [
    "g1 = 0.\n",
    "g2 = 0.\n",
    "for i in range(n_partite):\n",
    "    for j in range(n_lanci):\n",
    "        if lanci_g1[i, j] > lanci_g2[i, j]:\n",
    "            g1 += 1.\n",
    "        elif lanci_g1[i, j] < lanci_g2[i, j]:\n",
    "            g2 += 1.\n",
    "        else:\n",
    "            g1 += 0.5\n",
    "            g2 += 0.5\n",
    "print(g1, g2)"
   ]
  },
  {
   "cell_type": "code",
   "execution_count": 47,
   "id": "a7a6bdd3",
   "metadata": {},
   "outputs": [],
   "source": [
    "lanci_g1 = np.random.randint(1, 7, n_lanci * n_partite)\n",
    "lanci_g2 = np.random.randint(1, 7, n_lanci * n_partite)\n",
    "pareggio = lanci_g1 == lanci_g2"
   ]
  },
  {
   "cell_type": "markdown",
   "id": "c20516ab",
   "metadata": {},
   "source": [
    "# ES 10"
   ]
  },
  {
   "cell_type": "code",
   "execution_count": 49,
   "id": "08130343",
   "metadata": {},
   "outputs": [
    {
     "data": {
      "text/plain": [
       "array([1.95061360e+01, 2.25452760e+01, 2.17245373e+01, 1.85717672e+01,\n",
       "       9.99990000e+03, 2.59250776e+01, 2.00261829e+01, 8.42883524e+00,\n",
       "       1.75845293e+01, 1.59691580e+01, 1.56964684e+01, 2.26314500e+01,\n",
       "       2.73633452e+01, 9.99990000e+03, 2.23018464e+01, 2.67633105e+01,\n",
       "       1.98527743e+01, 2.28987446e+01, 2.02069437e+01, 1.00004395e+01,\n",
       "       1.63228535e+01, 1.85362098e+01, 1.65717231e+01, 2.22304204e+01,\n",
       "       1.46079223e+01, 1.48121661e+01, 9.07735901e+00, 9.99990000e+03,\n",
       "       1.27773816e+01, 2.04884937e+01, 1.99345772e+01, 2.08902668e+01,\n",
       "       2.01560648e+01, 1.60915738e+01, 1.76049347e+01, 1.83463726e+01,\n",
       "       1.61012527e+01, 1.23057979e+01, 2.23319359e+01, 2.46264231e+01,\n",
       "       1.95404929e+01, 1.61136314e+01, 8.02859741e+00, 2.87704313e+01,\n",
       "       2.06864901e+01, 1.01366269e+01, 1.12902875e+01, 2.35227219e+01,\n",
       "       1.34585495e+01, 1.87673388e+01, 2.56942455e+01, 1.69895384e+01,\n",
       "       2.36662784e+01, 1.79329831e+01, 1.80771591e+01, 1.82319389e+01,\n",
       "       1.20311422e+01, 2.47647734e+01, 1.55478280e+01, 2.00877611e+01,\n",
       "       8.19119116e+00, 1.88532114e+01, 1.52963008e+01, 1.95724566e+01,\n",
       "       1.84498564e+01, 1.39749355e+01, 1.42827277e+01, 1.91703065e+01,\n",
       "       1.62943229e+01, 1.88594243e+01, 1.84574209e+01, 2.49708496e+01,\n",
       "       1.33044433e+01, 9.99990000e+03, 2.36670845e+01, 1.33504471e+01,\n",
       "       1.04411778e+01, 1.94303623e+01, 1.83680218e+01, 2.25592705e+01,\n",
       "       9.99990000e+03, 2.16696327e+01, 1.41679395e+01, 1.52088850e+01,\n",
       "       2.83848402e+01, 1.26807979e+01, 2.41201487e+01, 1.55819517e+01,\n",
       "       2.75940974e+01, 1.71747886e+01, 1.98878373e+01, 9.99990000e+03,\n",
       "       1.01323707e+01, 2.04714043e+01, 1.58556098e+01, 1.47282524e+01,\n",
       "       2.23598313e+01, 9.84328454e+00, 2.53608768e+01, 1.91045458e+01,\n",
       "       1.82555219e+01, 2.62722240e+01, 1.52172043e+01, 1.99849149e+01,\n",
       "       2.53332844e+01, 2.16190404e+01, 1.78752735e+01, 1.70673962e+01,\n",
       "       2.52249040e+01, 1.76911383e+01, 1.46071850e+01, 9.35681540e+00,\n",
       "       2.81149279e+01, 2.10771088e+01, 1.56377417e+01, 2.66689814e+01,\n",
       "       1.62623353e+01, 1.57387624e+01, 2.28458981e+01, 1.48475893e+01,\n",
       "       1.92567337e+01, 3.00838503e+01, 2.22715338e+01, 2.55600756e+01,\n",
       "       1.66240482e+01, 2.32576343e+01, 1.55132589e+01, 1.81379033e+01,\n",
       "       1.87921968e+01, 1.16665839e+01, 1.57266721e+01, 1.35367607e+01,\n",
       "       1.14823970e+01, 2.17998330e+01, 2.35048937e+01, 9.55495349e+00,\n",
       "       2.32646543e+01, 2.07581150e+01, 2.56476399e+01, 2.01017771e+01,\n",
       "       1.68783492e+01, 1.39066339e+01, 1.70678610e+01, 1.35194102e+01,\n",
       "       1.38528095e+01, 2.10258128e+01, 1.11751274e+01, 2.28602085e+01,\n",
       "       1.97200150e+01, 2.16304318e+01, 2.43386365e+01, 1.73599860e+01,\n",
       "       1.97521111e+01, 1.68596388e+01, 2.11841415e+01, 1.97675783e+01,\n",
       "       1.70538971e+01, 2.51673640e+01, 1.58842201e+01, 2.03801030e+01,\n",
       "       1.03336062e+01, 2.16571738e+01, 1.91425067e+01, 7.67545277e+00,\n",
       "       2.97581563e+01, 1.77281093e+01, 1.93780025e+01, 1.29912626e+01,\n",
       "       1.16582028e+01, 1.73446682e+01, 1.71864236e+01, 2.00701668e+01,\n",
       "       2.32322883e+01, 2.03360243e+01, 1.86518417e+01, 1.59287883e+01,\n",
       "       1.51099174e+01, 2.34677202e+01, 1.86005581e+01, 1.92104941e+01,\n",
       "       1.73094822e+01, 2.07479715e+01, 1.00232765e+01, 9.99990000e+03,\n",
       "       2.53417795e+01, 1.51836559e+01, 2.11153280e+01, 1.73320444e+01,\n",
       "       1.73648752e+01, 1.41800845e+01, 2.85775581e+01, 1.27347172e+01,\n",
       "       2.26982820e+01, 2.06821725e+01, 1.90799007e+01, 1.80773397e+01,\n",
       "       1.91973365e+01, 1.59911974e+01, 1.60971227e+01, 8.80106674e+00,\n",
       "       1.85714164e+01, 2.66800722e+01, 2.49453431e+01, 2.02663009e+01,\n",
       "       2.06161103e+01, 2.56296548e+01, 1.85781328e+01, 9.99990000e+03,\n",
       "       2.11090024e+01, 1.74266101e+01, 1.35727225e+01, 1.99995717e+01,\n",
       "       1.97676377e+01, 1.73046779e+01, 2.05695141e+01, 2.36703370e+01,\n",
       "       1.87555430e+01, 1.65194231e+01, 1.79333412e+01, 2.15279329e+01,\n",
       "       1.51531479e+01, 2.60359280e+01, 2.12397343e+01, 1.59451317e+01,\n",
       "       2.42625392e+01, 1.53576994e+01, 1.49549239e+01, 1.98040076e+01,\n",
       "       2.08735412e+01, 1.37902925e+01, 2.09632715e+01, 2.06790397e+01,\n",
       "       1.92623121e+01, 1.84455166e+01, 1.47739743e+01, 1.54116222e+01,\n",
       "       2.43851866e+01, 2.15596510e+01, 2.18245957e+01, 2.49819262e+01,\n",
       "       1.24899732e+01, 2.58768096e+01, 9.99990000e+03, 2.01466757e+01,\n",
       "       2.16884512e+01, 2.10652246e+01, 1.40999538e+01, 2.43033443e+01,\n",
       "       1.72572205e+01, 1.75484793e+01, 1.71168904e+01, 2.06852949e+01,\n",
       "       8.82514840e+00, 1.89242921e+01, 2.21136953e+01, 1.64581027e+01,\n",
       "       2.00135635e+01, 1.66079802e+01, 2.91247079e+01, 1.10943312e+01,\n",
       "       2.32896994e+01, 2.37971251e+01, 2.05394180e+01, 2.88487849e+01,\n",
       "       9.83733819e+00, 1.89722686e+01, 1.96315520e+01, 1.19169911e+01,\n",
       "       1.40851168e+01, 2.03723231e+01, 1.94497970e+01, 1.82959297e+01,\n",
       "       1.73336606e+01, 2.12786781e+01, 1.58743689e+01, 1.67000788e+01,\n",
       "       1.09452692e+01, 2.61338237e+01, 2.12357581e+01, 2.29190925e+01,\n",
       "       2.06332029e+01, 2.44066894e+01, 1.47099912e+01, 1.49213190e+01,\n",
       "       2.42028384e+01, 1.36097077e+01, 1.82108524e+01, 1.95709954e+01,\n",
       "       2.25294091e+01, 2.07132165e+01, 1.57768679e+01, 2.29151193e+01,\n",
       "       1.05952745e+01, 2.12496271e+01, 1.33135310e+01, 1.13646075e-01,\n",
       "       1.67991666e+01, 1.76230053e+01, 1.77235900e+01, 7.40537706e+00,\n",
       "       2.21272124e+01, 1.57923513e+01, 2.57140159e+01, 2.01418528e+01,\n",
       "       2.54348132e+01, 1.88714705e+01, 1.22250117e+01, 2.90123843e+01,\n",
       "       1.30142978e+01, 2.02947692e+01, 2.88640214e+01, 1.86016604e+01,\n",
       "       1.45872791e+01, 1.52010174e+01, 1.39692519e+01, 1.96182927e+01,\n",
       "       1.52928592e+01, 1.86096423e+01, 2.05482331e+01, 2.29975010e+01,\n",
       "       1.59682470e+01, 2.41034117e+01, 2.15073641e+01, 1.61007629e+01,\n",
       "       1.81078194e+01, 1.33327014e+01, 2.86231408e+01, 1.72054543e+01,\n",
       "       2.22515648e+01, 2.12409648e+01, 1.69383393e+01, 1.84886789e+01,\n",
       "       2.06211711e+01, 1.75489731e+01, 7.12178853e+00, 1.42203266e+01,\n",
       "       1.83755091e+01, 2.01944841e+01, 2.62833897e+01, 2.45651715e+01,\n",
       "       2.06619287e+01, 2.27029572e+01, 1.73951065e+01, 2.08837677e+01,\n",
       "       1.15554798e+01, 1.88848197e+01, 1.70834251e+01, 1.78106219e+01,\n",
       "       2.02614024e+01, 2.13548868e+01, 2.41380632e+01, 1.09640994e+01,\n",
       "       2.85430945e+01, 1.92766450e+01, 1.69011831e+01, 2.71977667e+01,\n",
       "       1.84142214e+01, 2.16156931e+01, 2.07087768e+01, 2.49969642e+01,\n",
       "       2.39358561e+01, 2.30531332e+01, 1.42661602e+01, 2.24091217e+01,\n",
       "       1.91040513e+01, 8.72814140e+00, 2.14722988e+01, 1.82936941e+01,\n",
       "       1.52714417e+01, 1.44680829e+01, 1.34433097e+01, 1.17821906e+01,\n",
       "       1.21762350e+01, 1.23186642e+01, 1.63911121e+01, 1.94562781e+01,\n",
       "       1.68335606e+01, 1.14395403e+01, 1.80005289e+01, 2.57603652e+01,\n",
       "       2.01502670e+01, 2.82801910e+01, 2.64779998e+01, 1.43824380e+01,\n",
       "       2.08909493e+01, 2.91643853e+01, 2.43967865e+01, 2.19074070e+01,\n",
       "       2.34525727e+01, 1.91311136e+01, 2.42716062e+01, 1.33742799e+01,\n",
       "       2.38243686e+01, 2.08750841e+01, 2.66137147e+01, 1.54713841e+01,\n",
       "       1.67976063e+01, 1.99966342e+01, 2.55255538e+01, 2.60575020e+01,\n",
       "       8.30481456e+00, 2.12725681e+01, 2.20399422e+01, 1.34161414e+01,\n",
       "       1.47466323e+01, 1.82983350e+01, 6.69674497e+00, 6.88608206e+00,\n",
       "       2.34865952e+01, 1.32855409e+01, 2.14676924e+01, 2.50366248e+01,\n",
       "       1.83794165e+01, 1.97460409e+01, 1.19997163e+01, 2.81791825e+01,\n",
       "       1.49492876e+01, 1.81873880e+01, 2.07789827e+01, 1.74880074e+01,\n",
       "       2.44733790e+01, 2.97545860e+01, 2.36179669e+01, 1.80947899e+01,\n",
       "       1.90697702e+01, 1.75356382e+01, 9.99990000e+03, 2.42709461e+01,\n",
       "       1.98798753e+01, 1.51418844e+01, 2.05545507e+01, 1.83389322e+01,\n",
       "       2.60596108e+01, 2.35435781e+01, 1.20919401e+01, 2.22978875e+01,\n",
       "       1.79016057e+01, 2.85498747e+01, 1.19006221e+01, 2.04498309e+01,\n",
       "       1.46410665e+01, 1.64138672e+01, 1.73879826e+01, 2.70963219e+01,\n",
       "       1.77038915e+01, 2.67427452e+01, 1.38778739e+01, 1.87763090e+01,\n",
       "       2.60296539e+01, 1.98718950e+01, 1.59178473e+01, 1.45901196e+01,\n",
       "       1.62106227e+01, 2.73876503e+01, 2.22541804e+01, 2.39694373e+01,\n",
       "       1.39748827e+01, 1.91636118e+01, 1.32908777e+01, 1.35073154e+01,\n",
       "       2.04645765e+01, 2.08138885e+01, 2.00557363e+01, 2.36452538e+01,\n",
       "       1.90160236e+01, 2.14124179e+01, 1.34573002e+01, 2.12261213e+01,\n",
       "       2.31636935e+01, 2.31476874e+01, 2.42867694e+01, 1.08517455e+01,\n",
       "       1.39001168e+01, 2.51393868e+01, 2.15810389e+01, 1.98230275e+01,\n",
       "       2.13885275e+01, 1.83686181e+01, 2.11934970e+01, 1.85515479e+01,\n",
       "       2.72706208e+01, 2.27022840e+01, 1.95269559e+01, 2.48516151e+01,\n",
       "       2.28703726e+01, 2.25705267e+01, 1.52123906e+01, 2.01652456e+01,\n",
       "       1.82133950e+01, 9.11526798e+00, 2.33231926e+01, 2.06479587e+01,\n",
       "       2.15107844e+01, 2.56098113e+01, 2.09107645e+01, 2.95635194e+01,\n",
       "       1.97221675e+01, 5.99926686e+00, 1.31563742e+01, 1.60094411e+01,\n",
       "       1.35551866e+01, 1.39617519e+01, 1.70072535e+01, 2.01915759e+01,\n",
       "       1.64479904e+01, 2.82300954e+01, 1.95586076e+01, 1.26693116e+01,\n",
       "       2.21571006e+01, 1.40972572e+01, 9.99990000e+03, 1.96934050e+01,\n",
       "       2.39875515e+01, 1.79242630e+01, 1.70051897e+01, 1.03221925e+01,\n",
       "       1.65512014e+01, 1.32520019e+01, 1.35164567e+01, 2.09598943e+01,\n",
       "       1.66293407e+01, 1.72534075e+01, 1.50325293e+01, 1.22298953e+01,\n",
       "       2.14435761e+01, 2.02935006e+01, 2.08256541e+01, 2.07555086e+01,\n",
       "       1.54965933e+01, 2.09460527e+01, 2.48375563e+01, 1.75879228e+01,\n",
       "       1.52985198e+01, 5.06305783e+00, 2.79821677e+01, 1.43063797e+01,\n",
       "       2.21134579e+01, 1.78186533e+01, 2.58519524e+01, 2.10437300e+01,\n",
       "       1.44656880e+01, 1.39661977e+01, 1.82361631e+01, 2.51547820e+01,\n",
       "       2.28063960e+01, 1.34389934e+01, 1.48980478e+01, 2.00343419e+01,\n",
       "       2.32012186e+01, 1.91070635e+01, 2.07763294e+01, 1.77258844e+01,\n",
       "       1.71799453e+01, 2.36888423e+01, 1.57429206e+01, 2.36846925e+01,\n",
       "       1.02966794e+01, 2.05817693e+01, 2.50543259e+01, 2.81011327e+01,\n",
       "       2.10235797e+01, 1.89306443e+01, 1.46994953e+01, 2.24949848e+01,\n",
       "       1.94642465e+01, 2.46469665e+01, 1.93950211e+01, 1.98846143e+01,\n",
       "       2.45137166e+01, 2.68078505e+01, 1.64546474e+01, 1.78537018e+01,\n",
       "       2.52241256e+01, 1.13709400e+01, 1.48006871e+01, 2.16169813e+01,\n",
       "       1.95658534e+01, 2.16289909e+01, 1.49080249e+01, 2.00522433e+01,\n",
       "       2.15723849e+01, 1.16980123e+01, 1.38107138e+01, 6.43294796e+00,\n",
       "       2.38110717e+01, 1.97469597e+01, 2.38201695e+01, 1.66965194e+01,\n",
       "       1.79170256e+01, 1.83128777e+01, 2.31581935e+01, 2.24735148e+01,\n",
       "       1.43382295e+01, 1.48368833e+01, 1.37147129e+01, 1.41781169e+01,\n",
       "       2.52170800e+01, 2.04281900e+01, 1.53063135e+01, 2.21122528e+01,\n",
       "       1.70553234e+01, 1.29166312e+01, 2.09567374e+01, 1.81174425e+01,\n",
       "       1.80864063e+01, 2.60913370e+01, 2.37303812e+01, 2.01947248e+01,\n",
       "       2.08702862e+01, 1.26154015e+01, 1.76973038e+01, 7.25839089e+00,\n",
       "       1.78190248e+01, 1.88201647e+01, 2.42300276e+01, 2.12565951e+01,\n",
       "       1.88838962e+01, 2.07974849e+01, 1.55406682e+01, 1.26334317e+01,\n",
       "       3.03610941e+01, 1.11250237e+01, 2.26115829e+01, 2.14138491e+01,\n",
       "       1.53937951e+01, 1.63985790e+01, 1.39306062e+01, 1.61647102e+01,\n",
       "       1.73009255e+01, 2.39883882e+01, 2.69789324e+01, 2.14869043e+01,\n",
       "       1.97861224e+01, 1.41051046e+01, 1.53810203e+01, 2.69411821e+01,\n",
       "       2.10060459e+01, 1.71212158e+01, 2.87815366e+01, 1.48676470e+01,\n",
       "       2.67315497e+01, 2.15655016e+01, 1.48800941e+01, 1.70903449e+01,\n",
       "       1.91601988e+01, 1.96503197e+01, 2.45727911e+01, 2.03321743e+01,\n",
       "       8.08410693e+00, 1.91685586e+01, 2.59556752e+01, 1.31349694e+01,\n",
       "       1.90612831e+01, 1.87576248e+01, 1.73702552e+01, 1.72810463e+01,\n",
       "       1.25627709e+01, 2.22755085e+01, 2.19656881e+01, 1.44239550e+01,\n",
       "       1.51934111e+01, 2.09327723e+01, 1.78255973e+01, 1.67068254e+01,\n",
       "       2.11161441e+01, 1.82381302e+01, 1.88246523e+01, 2.02503755e+01,\n",
       "       1.20392537e+01, 2.27999836e+01, 1.42688738e+01, 2.05788995e+01,\n",
       "       2.19977117e+01, 9.99990000e+03, 1.88246722e+01, 2.07315114e+01,\n",
       "       2.61931926e+01, 2.54286303e+01, 2.89497305e+01, 9.99990000e+03,\n",
       "       2.72562403e+01, 2.22451580e+01, 1.86176794e+01, 1.09790107e+01,\n",
       "       1.96484029e+01, 1.51115335e+01, 1.91717780e+01, 1.57540228e+01,\n",
       "       2.20564928e+01, 1.66959997e+01, 2.49364637e+01, 2.30999905e+01,\n",
       "       2.46529683e+01, 1.71552818e+01, 2.00376867e+01, 2.87843038e+01,\n",
       "       1.36279629e+01, 1.67849533e+01, 2.68263848e+01, 2.19731200e+01,\n",
       "       2.04601545e+01, 1.02551944e+01, 6.39696950e+00, 1.83137355e+01,\n",
       "       5.32194392e+00, 1.67090042e+01, 9.99990000e+03, 1.95720753e+01,\n",
       "       2.17775648e+01, 2.13912418e+01, 1.77841854e+01, 2.28937515e+01,\n",
       "       2.77856798e+01, 1.44967116e+01, 1.31230725e+01, 1.91158161e+01,\n",
       "       1.69391089e+01, 2.97746224e+01, 6.60990020e+00, 2.47137411e+01,\n",
       "       1.59163008e+01, 5.92314512e+00, 1.50250504e+01, 1.37737516e+01,\n",
       "       9.99990000e+03, 1.58467102e+01, 2.99500495e+01, 1.69404557e+01,\n",
       "       1.99057257e+01, 2.05896610e+01, 1.70858000e+01, 1.53639416e+01,\n",
       "       2.13165436e+01, 2.40715521e+01, 1.62904821e+01, 9.99990000e+03,\n",
       "       2.38158909e+01, 2.01018538e+01, 2.22127044e+01, 1.89824947e+01,\n",
       "       1.51028690e+01, 1.32691710e+01, 3.06200122e+01, 1.56583025e+01,\n",
       "       1.38198672e+01, 2.23394561e+01, 1.89756479e+01, 1.79140704e+01,\n",
       "       1.74540030e+01, 2.17132035e+01, 2.08359480e+01, 1.31973353e+01,\n",
       "       1.21861130e+01, 2.67912555e+01, 1.45932706e+01, 2.28385502e+01,\n",
       "       1.53015983e+01, 2.42726621e+01, 1.92637576e+01, 1.38204568e+01,\n",
       "       1.40277804e+01, 2.24659842e+01, 9.99990000e+03, 2.72832942e+01,\n",
       "       2.16909265e+01, 1.99127924e+01, 1.73792825e+01, 2.18832236e+01,\n",
       "       2.35459016e+01, 1.70294469e+01, 1.26378613e+01, 1.71574614e+01,\n",
       "       1.90908618e+01, 1.36538996e+01, 1.52462646e+01, 1.17004578e+01,\n",
       "       1.67056061e+01, 1.98931143e+01, 2.14633452e+01, 2.28896195e+01,\n",
       "       2.00046815e+01, 2.16098821e+01, 2.88851762e+01, 1.86743213e+01,\n",
       "       1.69165003e+01, 1.14064080e+01, 2.07995522e+01, 1.76466862e+01,\n",
       "       1.88765623e+01, 8.85002475e+00, 1.45042628e+01, 1.20179386e+01,\n",
       "       2.01489048e+01, 1.79216431e+01, 2.35623181e+01, 1.50890587e+01,\n",
       "       2.27980021e+01, 1.52884033e+01, 2.08751705e+01, 1.21877038e+01,\n",
       "       2.62001014e+01, 3.04658317e+01, 1.40935481e+01, 1.57799219e+01,\n",
       "       2.67628615e+01, 1.98511251e+01, 2.80414324e+01, 2.33109601e+01,\n",
       "       1.66589902e+01, 9.99990000e+03, 1.87502851e+01, 2.03629869e+01,\n",
       "       1.80823647e+01, 1.81480246e+01, 2.57921843e+01, 2.04377578e+01,\n",
       "       2.52570630e+01, 2.53917482e+01, 2.15671584e+01, 2.40858999e+01,\n",
       "       2.22888929e+01, 1.46735435e+01, 8.87504353e+00, 1.90271158e+01,\n",
       "       1.96408373e+01, 2.12006302e+01, 1.55554640e+01, 1.88725077e+01,\n",
       "       2.87661505e+01, 1.46439962e+01, 1.20848711e+01, 1.93296058e+01,\n",
       "       2.31918040e+01, 1.06193102e+01, 9.99990000e+03, 1.94650026e+01,\n",
       "       1.65082177e+01, 2.13951967e+01, 1.95999840e+01, 1.91952509e+01,\n",
       "       1.60060754e+01, 2.16645207e+01, 1.47226505e+01, 3.01053345e+01,\n",
       "       1.91047917e+01, 2.75569139e+01, 2.03192538e+01, 1.90014749e+01,\n",
       "       1.97349566e+01, 2.84088768e+01, 1.83276489e+01, 1.90490799e+01,\n",
       "       2.53820423e+01, 2.73523435e+01, 2.19238831e+01, 3.33177940e+01,\n",
       "       1.53718725e+01, 1.96776273e+01, 2.96478347e+01, 1.21949162e+01,\n",
       "       1.89815857e+01, 1.00438997e+01, 1.75703326e+01, 2.37765480e+01,\n",
       "       2.26139354e+01, 1.64760044e+01, 1.13758298e+01, 1.86121491e+01,\n",
       "       2.88750205e+01, 2.33655681e+01, 1.97858939e+01, 2.25522265e+01,\n",
       "       1.57524746e+01, 1.52425812e+01, 1.65937882e+01, 1.89634106e+01,\n",
       "       1.70216629e+01, 2.03809945e+01, 2.35383610e+01, 1.10131420e+01,\n",
       "       1.68657380e+01, 1.32737649e+01, 1.85822892e+01, 1.77221451e+01,\n",
       "       2.26695573e+01, 2.21038037e+01, 1.43927962e+01, 2.09485019e+01,\n",
       "       3.10571498e+01, 2.43419511e+01, 1.97990012e+01, 1.20896878e+01,\n",
       "       2.85218548e+01, 2.57741248e+01, 2.51795239e+01, 1.40071553e+01,\n",
       "       2.55890178e+01, 1.88836382e+01, 2.01955360e+01, 1.00068763e+01,\n",
       "       1.52420569e+01, 2.55145273e+01, 2.50987027e+01, 2.20881262e+01,\n",
       "       2.23852977e+01, 1.69793876e+01, 1.47453589e+01, 2.28640012e+01,\n",
       "       1.35421403e+01, 1.93564778e+01, 1.55040003e+01, 2.86765339e+01,\n",
       "       1.81096251e+01, 2.28679566e+01, 2.15187488e+01, 2.11059071e+01,\n",
       "       1.71414313e+01, 1.97577563e+01, 1.91140349e+01, 2.51264924e+01,\n",
       "       2.58500583e+01, 1.81828204e+01, 2.60931520e+01, 1.65854589e+01,\n",
       "       2.63283249e+01, 9.39213996e+00, 1.91013485e+01, 1.66515900e+01,\n",
       "       1.84606971e+01, 1.77738623e+01, 1.74380998e+01, 2.19790035e+01,\n",
       "       1.94583085e+01, 1.88751135e+01, 1.05665196e+01, 2.62287258e+01,\n",
       "       2.20083868e+01, 1.83503248e+01, 2.17749836e+01, 2.83455859e+01,\n",
       "       1.42200554e+01, 2.35488761e+01, 1.37134999e+01, 2.54338216e+01,\n",
       "       2.86438915e+01, 2.26855222e+01, 2.71861837e+01, 2.24312384e+01,\n",
       "       1.24277984e+01, 2.33296807e+01, 2.34168314e+01, 1.39522825e+01,\n",
       "       2.13999807e+01, 2.22441067e+01, 2.06842771e+01, 1.07459754e+01,\n",
       "       2.47525074e+01, 2.35427224e+01, 2.88592802e+01, 2.53083632e+01,\n",
       "       2.03116326e+01, 2.80724101e+01, 1.85998892e+01, 1.61786002e+01,\n",
       "       1.00769218e+01, 2.05515029e+01, 3.01458301e+01, 2.30751620e+01,\n",
       "       2.22358677e+01, 1.69519276e+01, 2.15956812e+01, 2.23378767e+01,\n",
       "       2.89090114e+01, 1.36655287e+01, 1.23571091e+01, 2.07877722e+01,\n",
       "       6.74543284e+00, 1.72381973e+01, 2.41725371e+01, 2.74937137e+01,\n",
       "       1.83225279e+01, 1.99991100e+01, 1.64690045e+01, 1.91145969e+01,\n",
       "       9.99990000e+03, 1.93152839e+01, 1.38803527e+01, 3.17138738e+01,\n",
       "       1.58853513e+01, 1.39180144e+01, 9.94327324e+00, 2.14085377e+01,\n",
       "       2.05511756e+01, 1.92385640e+01, 1.56506565e+01, 2.42238050e+01,\n",
       "       1.81929185e+01, 2.60482756e+01, 8.38813217e+00, 1.51986182e+01])"
      ]
     },
     "execution_count": 49,
     "metadata": {},
     "output_type": "execute_result"
    }
   ],
   "source": [
    "misurazioni = np.random.normal(19, 5, 1000)\n",
    "indici = np.random.randint(0, 1000, 20)\n",
    "misurazioni[indici] = 9999.9\n",
    "misurazioni"
   ]
  },
  {
   "cell_type": "code",
   "execution_count": 50,
   "id": "13f8711e",
   "metadata": {},
   "outputs": [],
   "source": [
    "dati = []\n",
    "for i in range(0, 1000, 5):\n",
    "    dati = array[i:i + 5] = 9999.9\n",
    "    if np.count_nonzero(dati) > 1:\n",
    "        print(f\"Ci sono almeno {np.count_nonzero(dati)} misuarazioni errate\")"
   ]
  },
  {
   "cell_type": "code",
   "execution_count": 51,
   "id": "ff6a928d",
   "metadata": {},
   "outputs": [
    {
     "data": {
      "text/plain": [
       "array([19.50613604, 22.545276  , 21.7245373 , 18.57176721, 25.92507762,\n",
       "       20.02618293,  8.42883524, 17.58452931, 15.96915799, 15.6964684 ,\n",
       "       22.63144999, 27.36334517, 22.30184641, 26.76331054, 19.85277434,\n",
       "       22.89874459, 20.20694367, 10.00043946, 16.32285348, 18.53620982,\n",
       "       16.57172306, 22.23042038, 14.60792225, 14.81216608,  9.07735901,\n",
       "       12.77738164, 20.48849367, 19.93457718, 20.89026681, 20.15606484,\n",
       "       16.09157379, 17.60493474, 18.34637258, 16.10125267, 12.30579786,\n",
       "       22.33193591, 24.62642308, 19.54049292, 16.11363135,  8.02859741,\n",
       "       28.77043125, 20.68649008, 10.13662689, 11.29028755, 23.52272186,\n",
       "       13.45854947, 18.76733883, 25.69424554, 16.98953845, 23.66627835,\n",
       "       17.9329831 , 18.07715905, 18.23193891, 12.03114219, 24.76477338,\n",
       "       15.54782798, 20.08776112,  8.19119116, 18.85321137, 15.29630085,\n",
       "       19.57245658, 18.44985644, 13.97493548, 14.2827277 , 19.17030651,\n",
       "       16.29432293, 18.85942434, 18.4574209 , 24.97084961, 13.30444332,\n",
       "       23.66708452, 13.35044713, 10.44117782, 19.43036229, 18.36802175,\n",
       "       22.5592705 , 21.66963266, 14.16793954, 15.20888496, 28.38484023,\n",
       "       12.6807979 , 24.12014875, 15.58195167, 27.5940974 , 17.1747886 ,\n",
       "       19.8878373 , 10.13237067, 20.47140428, 15.85560981, 14.72825243,\n",
       "       22.35983127,  9.84328454, 25.36087683, 19.10454583, 18.25552195,\n",
       "       26.27222397, 15.2172043 , 19.9849149 , 25.33328437, 21.61904044,\n",
       "       17.87527348, 17.06739615, 25.224904  , 17.69113827, 14.60718497,\n",
       "        9.3568154 , 28.1149279 , 21.07710879, 15.63774166, 26.66898139,\n",
       "       16.26233525, 15.7387624 , 22.84589811, 14.84758932, 19.2567337 ,\n",
       "       30.08385034, 22.27153376, 25.56007555, 16.62404819, 23.25763428,\n",
       "       15.51325886, 18.13790334, 18.79219677, 11.66658389, 15.72667208,\n",
       "       13.53676065, 11.48239703, 21.79983296, 23.50489366,  9.55495349,\n",
       "       23.26465431, 20.75811496, 25.64763995, 20.10177712, 16.87834916,\n",
       "       13.90663389, 17.06786097, 13.51941017, 13.85280952, 21.02581278,\n",
       "       11.17512744, 22.8602085 , 19.72001496, 21.6304318 , 24.33863652,\n",
       "       17.35998596, 19.75211107, 16.85963879, 21.18414147, 19.76757834,\n",
       "       17.05389709, 25.16736395, 15.8842201 , 20.38010298, 10.3336062 ,\n",
       "       21.65717379, 19.1425067 ,  7.67545277, 29.75815628, 17.72810926,\n",
       "       19.37800249, 12.99126258, 11.65820281, 17.34466818, 17.18642358,\n",
       "       20.07016679, 23.23228835, 20.33602432, 18.65184172, 15.92878826,\n",
       "       15.10991737, 23.46772022, 18.60055808, 19.2104941 , 17.30948217,\n",
       "       20.74797147, 10.02327653, 25.34177946, 15.18365595, 21.11532796,\n",
       "       17.33204441, 17.36487518, 14.18008452, 28.57755805, 12.73471725,\n",
       "       22.69828197, 20.68217255, 19.07990071, 18.07733969, 19.19733652,\n",
       "       15.99119744, 16.09712268,  8.80106674, 18.57141641, 26.68007217,\n",
       "       24.94534312, 20.26630086, 20.61611026, 25.62965484, 18.57813279,\n",
       "       21.10900239, 17.42661011, 13.57272246, 19.99957171, 19.76763769,\n",
       "       17.30467787, 20.56951412, 23.67033701, 18.755543  , 16.51942311,\n",
       "       17.93334121, 21.52793286, 15.15314792, 26.03592797, 21.23973427,\n",
       "       15.94513169, 24.26253922, 15.35769939, 14.95492392, 19.80400762,\n",
       "       20.87354124, 13.79029254, 20.96327148, 20.67903974, 19.26231212,\n",
       "       18.44551656, 14.77397429, 15.41162225, 24.3851866 , 21.55965099,\n",
       "       21.82459575, 24.98192622, 12.48997318, 25.87680958, 20.14667569,\n",
       "       21.6884512 , 21.06522456, 14.09995383, 24.30334425, 17.25722053,\n",
       "       17.54847929, 17.11689044, 20.68529488,  8.8251484 , 18.92429208,\n",
       "       22.1136953 , 16.4581027 , 20.0135635 , 16.60798019, 29.12470793,\n",
       "       11.09433123, 23.28969943, 23.7971251 , 20.53941801, 28.84878492,\n",
       "        9.83733819, 18.97226861, 19.63155197, 11.91699112, 14.08511676,\n",
       "       20.37232306, 19.44979697, 18.29592969, 17.33366062, 21.27867814,\n",
       "       15.87436894, 16.70007883, 10.94526924, 26.13382365, 21.23575812,\n",
       "       22.91909251, 20.63320293, 24.40668942, 14.70999118, 14.921319  ,\n",
       "       24.20283836, 13.60970774, 18.21085238, 19.57099543, 22.52940913,\n",
       "       20.71321651, 15.77686789, 22.91511935, 10.59527452, 21.24962711,\n",
       "       13.31353096,  0.11364607, 16.79916656, 17.62300534, 17.72358998,\n",
       "        7.40537706, 22.12721235, 15.79235127, 25.71401588, 20.1418528 ,\n",
       "       25.43481321, 18.87147047, 12.22501171, 29.01238429, 13.01429776,\n",
       "       20.29476922, 28.86402143, 18.6016604 , 14.5872791 , 15.20101738,\n",
       "       13.9692519 , 19.61829274, 15.29285921, 18.60964233, 20.54823315,\n",
       "       22.99750097, 15.96824702, 24.10341171, 21.50736409, 16.10076288,\n",
       "       18.10781936, 13.33270143, 28.62314082, 17.20545433, 22.25156482,\n",
       "       21.24096476, 16.93833934, 18.4886789 , 20.62117107, 17.54897307,\n",
       "        7.12178853, 14.2203266 , 18.3755091 , 20.19448414, 26.28338966,\n",
       "       24.56517145, 20.66192873, 22.70295722, 17.39510654, 20.8837677 ,\n",
       "       11.55547976, 18.8848197 , 17.08342511, 17.81062191, 20.26140241,\n",
       "       21.35488684, 24.13806315, 10.96409941, 28.54309451, 19.27664499,\n",
       "       16.90118312, 27.19776675, 18.41422141, 21.61569313, 20.7087768 ,\n",
       "       24.99696416, 23.93585606, 23.05313321, 14.26616024, 22.40912171,\n",
       "       19.10405132,  8.7281414 , 21.47229878, 18.29369413, 15.27144169,\n",
       "       14.46808288, 13.44330967, 11.7821906 , 12.17623504, 12.31866418,\n",
       "       16.39111212, 19.45627812, 16.83356059, 11.43954029, 18.00052891,\n",
       "       25.76036521, 20.150267  , 28.28019101, 26.47799983, 14.38243804,\n",
       "       20.89094934, 29.16438528, 24.39678648, 21.907407  , 23.45257271,\n",
       "       19.13111357, 24.27160619, 13.37427992, 23.82436863, 20.87508408,\n",
       "       26.61371466, 15.47138414, 16.79760625, 19.99663423, 25.52555379,\n",
       "       26.057502  ,  8.30481456, 21.27256811, 22.03994223, 13.41614136,\n",
       "       14.74663234, 18.29833505,  6.69674497,  6.88608206, 23.48659518,\n",
       "       13.28554086, 21.46769242, 25.03662475, 18.37941653, 19.74604091,\n",
       "       11.99971629, 28.17918251, 14.94928765, 18.18738799, 20.77898266,\n",
       "       17.48800742, 24.47337903, 29.75458596, 23.61796686, 18.09478988,\n",
       "       19.06977023, 17.53563818, 24.27094612, 19.87987526, 15.14188443,\n",
       "       20.55455074, 18.33893216, 26.05961084, 23.54357806, 12.09194008,\n",
       "       22.29788749, 17.90160566, 28.54987471, 11.90062206, 20.44983091,\n",
       "       14.64106653, 16.41386722, 17.38798258, 27.09632191, 17.70389153,\n",
       "       26.74274523, 13.87787391, 18.776309  , 26.02965395, 19.87189502,\n",
       "       15.91784731, 14.59011964, 16.21062269, 27.38765029, 22.25418039,\n",
       "       23.9694373 , 13.97488272, 19.16361179, 13.29087774, 13.50731538,\n",
       "       20.46457648, 20.81388847, 20.05573631, 23.6452538 , 19.01602357,\n",
       "       21.41241789, 13.45730015, 21.22612129, 23.1636935 , 23.14768743,\n",
       "       24.2867694 , 10.85174548, 13.90011683, 25.13938682, 21.58103892,\n",
       "       19.82302751, 21.38852749, 18.36861805, 21.19349697, 18.55154788,\n",
       "       27.2706208 , 22.70228404, 19.52695591, 24.85161505, 22.87037263,\n",
       "       22.57052666, 15.21239057, 20.16524556, 18.21339496,  9.11526798,\n",
       "       23.32319256, 20.64795867, 21.51078436, 25.6098113 , 20.91076448,\n",
       "       29.56351937, 19.72216755,  5.99926686, 13.15637422, 16.00944107,\n",
       "       13.55518659, 13.96175194, 17.00725351, 20.19157591, 16.44799042,\n",
       "       28.23009537, 19.55860764, 12.66931157, 22.15710063, 14.09725721,\n",
       "       19.69340496, 23.98755153, 17.92426301, 17.0051897 , 10.32219253,\n",
       "       16.55120143, 13.2520019 , 13.51645673, 20.95989429, 16.62934069,\n",
       "       17.25340751, 15.03252928, 12.22989526, 21.4435761 , 20.29350063,\n",
       "       20.82565411, 20.75550863, 15.49659335, 20.94605265, 24.8375563 ,\n",
       "       17.58792283, 15.29851982,  5.06305783, 27.98216766, 14.30637972,\n",
       "       22.11345793, 17.81865334, 25.85195241, 21.04373001, 14.46568796,\n",
       "       13.96619772, 18.23616312, 25.15478198, 22.806396  , 13.43899336,\n",
       "       14.89804779, 20.03434193, 23.20121856, 19.10706353, 20.77632945,\n",
       "       17.72588439, 17.17994531, 23.68884227, 15.74292062, 23.68469247,\n",
       "       10.29667943, 20.58176933, 25.05432591, 28.10113271, 21.02357975,\n",
       "       18.93064427, 14.6994953 , 22.49498481, 19.4642465 , 24.6469665 ,\n",
       "       19.39502112, 19.88461432, 24.51371662, 26.80785048, 16.45464741,\n",
       "       17.85370182, 25.22412557, 11.37094   , 14.80068714, 21.6169813 ,\n",
       "       19.56585344, 21.62899087, 14.90802489, 20.05224327, 21.57238493,\n",
       "       11.69801232, 13.81071382,  6.43294796, 23.81107172, 19.74695974,\n",
       "       23.82016948, 16.69651944, 17.91702556, 18.31287767, 23.15819347,\n",
       "       22.47351477, 14.33822947, 14.8368833 , 13.71471294, 14.17811692,\n",
       "       25.21708005, 20.42819004, 15.30631346, 22.11225279, 17.05532335,\n",
       "       12.91663115, 20.95673736, 18.11744246, 18.08640634, 26.09133698,\n",
       "       23.73038119, 20.19472484, 20.87028622, 12.61540153, 17.69730381,\n",
       "        7.25839089, 17.81902481, 18.82016473, 24.23002759, 21.25659514,\n",
       "       18.88389623, 20.79748491, 15.54066824, 12.6334317 , 30.3610941 ,\n",
       "       11.12502365, 22.61158289, 21.41384909, 15.39379508, 16.39857899,\n",
       "       13.93060617, 16.16471022, 17.30092546, 23.98838821, 26.97893244,\n",
       "       21.48690428, 19.78612237, 14.10510455, 15.38102029, 26.94118207,\n",
       "       21.00604595, 17.12121578, 28.78153657, 14.86764698, 26.73154975,\n",
       "       21.56550165, 14.88009406, 17.0903449 , 19.16019884, 19.65031966,\n",
       "       24.57279109, 20.33217432,  8.08410693, 19.16855864, 25.95567524,\n",
       "       13.13496938, 19.06128312, 18.75762477, 17.3702552 , 17.2810463 ,\n",
       "       12.56277087, 22.2755085 , 21.96568812, 14.42395503, 15.19341112,\n",
       "       20.93277232, 17.82559733, 16.70682535, 21.11614406, 18.23813018,\n",
       "       18.82465226, 20.25037554, 12.03925366, 22.79998363, 14.26887382,\n",
       "       20.57889945, 21.99771174, 18.82467219, 20.73151141, 26.19319261,\n",
       "       25.4286303 , 28.94973051, 27.25624034, 22.24515801, 18.61767941,\n",
       "       10.97901069, 19.64840294, 15.11153352, 19.17177801, 15.75402281,\n",
       "       22.05649275, 16.69599966, 24.93646368, 23.09999053, 24.65296834,\n",
       "       17.15528184, 20.03768672, 28.78430384, 13.62796292, 16.7849533 ,\n",
       "       26.8263848 , 21.97312002, 20.4601545 , 10.25519442,  6.3969695 ,\n",
       "       18.31373552,  5.32194392, 16.70900418, 19.57207529, 21.77756479,\n",
       "       21.3912418 , 17.78418543, 22.8937515 , 27.78567983, 14.49671158,\n",
       "       13.12307245, 19.11581613, 16.93910894, 29.77462235,  6.6099002 ,\n",
       "       24.71374107, 15.91630077,  5.92314512, 15.02505042, 13.77375157,\n",
       "       15.84671023, 29.95004948, 16.94045568, 19.90572573, 20.58966103,\n",
       "       17.08580003, 15.36394163, 21.31654358, 24.07155214, 16.29048205,\n",
       "       23.81589085, 20.10185378, 22.21270436, 18.98249468, 15.10286895,\n",
       "       13.26917099, 30.62001222, 15.65830249, 13.81986717, 22.33945614,\n",
       "       18.97564794, 17.91407043, 17.45400298, 21.71320353, 20.83594798,\n",
       "       13.19733529, 12.18611302, 26.79125551, 14.59327064, 22.83855019,\n",
       "       15.30159832, 24.27266207, 19.26375757, 13.82045683, 14.02778035,\n",
       "       22.46598422, 27.28329417, 21.69092651, 19.91279236, 17.37928253,\n",
       "       21.8832236 , 23.54590159, 17.02944685, 12.63786129, 17.15746138,\n",
       "       19.09086181, 13.65389955, 15.24626464, 11.70045778, 16.70560611,\n",
       "       19.89311426, 21.46334521, 22.8896195 , 20.00468151, 21.60988213,\n",
       "       28.8851762 , 18.67432131, 16.9165003 , 11.406408  , 20.79955217,\n",
       "       17.6466862 , 18.87656229,  8.85002475, 14.5042628 , 12.0179386 ,\n",
       "       20.14890476, 17.9216431 , 23.56231814, 15.08905871, 22.79800206,\n",
       "       15.28840335, 20.8751705 , 12.18770375, 26.20010142, 30.46583168,\n",
       "       14.09354806, 15.77992189, 26.7628615 , 19.85112509, 28.04143244,\n",
       "       23.31096012, 16.65899022, 18.75028507, 20.36298688, 18.08236469,\n",
       "       18.14802461, 25.79218431, 20.43775783, 25.257063  , 25.39174819,\n",
       "       21.5671584 , 24.08589991, 22.28889289, 14.67354354,  8.87504353,\n",
       "       19.02711585, 19.64083734, 21.20063022, 15.555464  , 18.87250766,\n",
       "       28.76615045, 14.64399617, 12.08487109, 19.32960584, 23.191804  ,\n",
       "       10.61931019, 19.46500264, 16.50821772, 21.39519666, 19.59998403,\n",
       "       19.1952509 , 16.00607543, 21.66452074, 14.72265052, 30.10533445,\n",
       "       19.10479169, 27.55691394, 20.31925376, 19.00147495, 19.73495659,\n",
       "       28.40887678, 18.32764886, 19.04907985, 25.38204226, 27.35234345,\n",
       "       21.92388305, 33.31779403, 15.37187254, 19.6776273 , 29.64783469,\n",
       "       12.19491622, 18.98158571, 10.04389967, 17.57033258, 23.77654798,\n",
       "       22.61393541, 16.47600438, 11.37582979, 18.61214905, 28.87502046,\n",
       "       23.36556814, 19.78589393, 22.55222648, 15.75247455, 15.24258118,\n",
       "       16.59378821, 18.96341056, 17.02166285, 20.38099453, 23.53836101,\n",
       "       11.01314203, 16.86573802, 13.2737649 , 18.5822892 , 17.72214509,\n",
       "       22.66955732, 22.10380368, 14.39279624, 20.94850187, 31.05714983,\n",
       "       24.34195109, 19.79900119, 12.08968775, 28.52185483, 25.77412484,\n",
       "       25.17952393, 14.00715535, 25.58901781, 18.88363825, 20.19553602,\n",
       "       10.00687634, 15.24205686, 25.5145273 , 25.09870272, 22.08812619,\n",
       "       22.38529774, 16.97938765, 14.74535889, 22.86400122, 13.54214026,\n",
       "       19.35647781, 15.5040003 , 28.67653386, 18.10962508, 22.86795657,\n",
       "       21.51874876, 21.10590709, 17.14143134, 19.75775633, 19.11403487,\n",
       "       25.12649239, 25.85005832, 18.18282039, 26.09315204, 16.58545894,\n",
       "       26.32832488,  9.39213996, 19.10134847, 16.65158999, 18.46069707,\n",
       "       17.7738623 , 17.43809981, 21.97900348, 19.45830847, 18.87511354,\n",
       "       10.5665196 , 26.22872578, 22.00838683, 18.3503248 , 21.77498363,\n",
       "       28.34558591, 14.2200554 , 23.54887613, 13.71349991, 25.43382162,\n",
       "       28.64389149, 22.68552224, 27.18618372, 22.43123845, 12.42779842,\n",
       "       23.32968074, 23.41683139, 13.9522825 , 21.39998068, 22.24410675,\n",
       "       20.68427711, 10.74597543, 24.75250742, 23.5427224 , 28.85928015,\n",
       "       25.30836325, 20.31163255, 28.07241006, 18.59988916, 16.17860024,\n",
       "       10.07692184, 20.5515029 , 30.14583009, 23.07516201, 22.23586768,\n",
       "       16.95192761, 21.59568125, 22.33787667, 28.90901142, 13.66552868,\n",
       "       12.35710912, 20.78777218,  6.74543284, 17.23819731, 24.17253711,\n",
       "       27.49371369, 18.32252789, 19.99911001, 16.46900449, 19.11459694,\n",
       "       19.31528392, 13.8803527 , 31.71387376, 15.88535128, 13.9180144 ,\n",
       "        9.94327324, 21.40853775, 20.55117563, 19.23856402, 15.65065652,\n",
       "       24.22380505, 18.19291851, 26.0482756 ,  8.38813217, 15.19861816])"
      ]
     },
     "execution_count": 51,
     "metadata": {},
     "output_type": "execute_result"
    }
   ],
   "source": [
    "misurazioni = misurazioni[misurazioni != 9999.9]\n",
    "misurazioni"
   ]
  },
  {
   "cell_type": "code",
   "execution_count": 52,
   "id": "2e9dc7bd",
   "metadata": {},
   "outputs": [
    {
     "data": {
      "text/plain": [
       "19.123571140948297"
      ]
     },
     "execution_count": 52,
     "metadata": {},
     "output_type": "execute_result"
    }
   ],
   "source": [
    "misurazioni.mean()"
   ]
  },
  {
   "cell_type": "code",
   "execution_count": 53,
   "id": "8c059f39",
   "metadata": {},
   "outputs": [
    {
     "data": {
      "text/plain": [
       "0.11364607461154819"
      ]
     },
     "execution_count": 53,
     "metadata": {},
     "output_type": "execute_result"
    }
   ],
   "source": [
    "misurazioni.min()"
   ]
  },
  {
   "cell_type": "code",
   "execution_count": 54,
   "id": "2bb1f82e",
   "metadata": {},
   "outputs": [
    {
     "data": {
      "text/plain": [
       "33.31779403076571"
      ]
     },
     "execution_count": 54,
     "metadata": {},
     "output_type": "execute_result"
    }
   ],
   "source": [
    "misurazioni.max()"
   ]
  },
  {
   "cell_type": "markdown",
   "id": "e286015a",
   "metadata": {},
   "source": [
    "# ES12"
   ]
  },
  {
   "cell_type": "code",
   "execution_count": 25,
   "id": "3e5d3914",
   "metadata": {},
   "outputs": [],
   "source": [
    "import matplotlib.pyplot as plt"
   ]
  },
  {
   "cell_type": "code",
   "execution_count": 26,
   "id": "87b9550f",
   "metadata": {},
   "outputs": [
    {
     "data": {
      "text/plain": [
       "array([[1., 1., 1., ..., 1., 1., 1.],\n",
       "       [1., 1., 1., ..., 1., 1., 1.],\n",
       "       [1., 1., 1., ..., 1., 1., 1.],\n",
       "       ...,\n",
       "       [1., 1., 1., ..., 1., 1., 1.],\n",
       "       [1., 1., 1., ..., 1., 1., 1.],\n",
       "       [1., 1., 1., ..., 1., 1., 1.]])"
      ]
     },
     "execution_count": 26,
     "metadata": {},
     "output_type": "execute_result"
    }
   ],
   "source": [
    "dim = 200\n",
    "immagine = np.ones((dim, dim))\n",
    "immagine"
   ]
  },
  {
   "cell_type": "code",
   "execution_count": 27,
   "id": "3760b7f2",
   "metadata": {},
   "outputs": [
    {
     "data": {
      "text/plain": [
       "<matplotlib.image.AxesImage at 0x111947a82e0>"
      ]
     },
     "execution_count": 27,
     "metadata": {},
     "output_type": "execute_result"
    },
    {
     "data": {
      "image/png": "[encoded data removed]",
      "text/plain": [
       "<Figure size 432x288 with 1 Axes>"
      ]
     },
     "metadata": {
      "needs_background": "light"
     },
     "output_type": "display_data"
    }
   ],
   "source": [
    "plt.imshow(immagine, cmap = \"Greys\", vmin = 0, vmax = 1) # fisso il valore max e il min"
   ]
  },
  {
   "cell_type": "code",
   "execution_count": 28,
   "id": "51f08ea6",
   "metadata": {},
   "outputs": [
    {
     "data": {
      "text/plain": [
       "<matplotlib.image.AxesImage at 0x111948a3400>"
      ]
     },
     "execution_count": 28,
     "metadata": {},
     "output_type": "execute_result"
    },
    {
     "data": {
      "image/png": "[encoded data removed]",
      "text/plain": [
       "<Figure size 432x288 with 1 Axes>"
      ]
     },
     "metadata": {
      "needs_background": "light"
     },
     "output_type": "display_data"
    }
   ],
   "source": [
    "dim = 200\n",
    "immagine = np.ones((dim, dim))\n",
    "immagine[0:50, 0:50] = 0\n",
    "plt.imshow(immagine, cmap = \"Greys\", vmin = 0, vmax = 1)"
   ]
  },
  {
   "cell_type": "code",
   "execution_count": 29,
   "id": "63845424",
   "metadata": {},
   "outputs": [
    {
     "data": {
      "text/plain": [
       "<matplotlib.image.AxesImage at 0x1119490edc0>"
      ]
     },
     "execution_count": 29,
     "metadata": {},
     "output_type": "execute_result"
    },
    {
     "data": {
      "image/png": "[encoded data removed]",
      "text/plain": [
       "<Figure size 432x288 with 1 Axes>"
      ]
     },
     "metadata": {
      "needs_background": "light"
     },
     "output_type": "display_data"
    }
   ],
   "source": [
    "immagine[100:150, 0:50] = 0\n",
    "plt.imshow(immagine, cmap = \"Greys\", vmin = 0, vmax = 1)"
   ]
  },
  {
   "cell_type": "code",
   "execution_count": 30,
   "id": "e310fc9a",
   "metadata": {},
   "outputs": [
    {
     "data": {
      "text/plain": [
       "<matplotlib.image.AxesImage at 0x11194988100>"
      ]
     },
     "execution_count": 30,
     "metadata": {},
     "output_type": "execute_result"
    },
    {
     "data": {
      "image/png": "[encoded data removed]",
      "text/plain": [
       "<Figure size 432x288 with 1 Axes>"
      ]
     },
     "metadata": {
      "needs_background": "light"
     },
     "output_type": "display_data"
    }
   ],
   "source": [
    "immagine[0:50, 100:150] = 0\n",
    "plt.imshow(immagine, cmap = \"Greys\", vmin = 0, vmax = 1)"
   ]
  },
  {
   "cell_type": "code",
   "execution_count": 31,
   "id": "a56689e7",
   "metadata": {},
   "outputs": [
    {
     "data": {
      "text/plain": [
       "<matplotlib.image.AxesImage at 0x111959c0460>"
      ]
     },
     "execution_count": 31,
     "metadata": {},
     "output_type": "execute_result"
    },
    {
     "data": {
      "image/png": "[encoded data removed]",
      "text/plain": [
       "<Figure size 432x288 with 1 Axes>"
      ]
     },
     "metadata": {
      "needs_background": "light"
     },
     "output_type": "display_data"
    }
   ],
   "source": [
    "immagine[100:150, 100:150] = 0\n",
    "plt.imshow(immagine, cmap = \"Greys\", vmin = 0, vmax = 1)"
   ]
  },
  {
   "cell_type": "code",
   "execution_count": 32,
   "id": "eca3e002",
   "metadata": {},
   "outputs": [
    {
     "data": {
      "text/plain": [
       "<matplotlib.image.AxesImage at 0x11195a285e0>"
      ]
     },
     "execution_count": 32,
     "metadata": {},
     "output_type": "execute_result"
    },
    {
     "data": {
      "image/png": "[encoded data removed]",
      "text/plain": [
       "<Figure size 432x288 with 1 Axes>"
      ]
     },
     "metadata": {
      "needs_background": "light"
     },
     "output_type": "display_data"
    }
   ],
   "source": [
    "immagine[50:100, 150:200] = 0\n",
    "plt.imshow(immagine, cmap = \"Greys\", vmin = 0, vmax = 1)"
   ]
  },
  {
   "cell_type": "code",
   "execution_count": 33,
   "id": "71d38082",
   "metadata": {},
   "outputs": [
    {
     "data": {
      "text/plain": [
       "<matplotlib.image.AxesImage at 0x11195a93af0>"
      ]
     },
     "execution_count": 33,
     "metadata": {},
     "output_type": "execute_result"
    },
    {
     "data": {
      "image/png": "[encoded data removed]",
      "text/plain": [
       "<Figure size 432x288 with 1 Axes>"
      ]
     },
     "metadata": {
      "needs_background": "light"
     },
     "output_type": "display_data"
    }
   ],
   "source": [
    "immagine[150:200, 150:200] = 0\n",
    "plt.imshow(immagine, cmap = \"Greys\", vmin = 0, vmax = 1)"
   ]
  },
  {
   "cell_type": "code",
   "execution_count": 34,
   "id": "54b6d87e",
   "metadata": {},
   "outputs": [
    {
     "data": {
      "text/plain": [
       "<matplotlib.image.AxesImage at 0x11195afee80>"
      ]
     },
     "execution_count": 34,
     "metadata": {},
     "output_type": "execute_result"
    },
    {
     "data": {
      "image/png": "[encoded data removed]",
      "text/plain": [
       "<Figure size 432x288 with 1 Axes>"
      ]
     },
     "metadata": {
      "needs_background": "light"
     },
     "output_type": "display_data"
    }
   ],
   "source": [
    "immagine[150:200, 50:100] = 0\n",
    "plt.imshow(immagine, cmap = \"Greys\", vmin = 0, vmax = 1)"
   ]
  },
  {
   "cell_type": "code",
   "execution_count": 35,
   "id": "9924eaf3",
   "metadata": {},
   "outputs": [
    {
     "data": {
      "text/plain": [
       "<matplotlib.image.AxesImage at 0x11195b740d0>"
      ]
     },
     "execution_count": 35,
     "metadata": {},
     "output_type": "execute_result"
    },
    {
     "data": {
      "image/png": "[encoded data removed]",
      "text/plain": [
       "<Figure size 432x288 with 1 Axes>"
      ]
     },
     "metadata": {
      "needs_background": "light"
     },
     "output_type": "display_data"
    }
   ],
   "source": [
    "immagine[50:100, 50:100] = 0\n",
    "plt.imshow(immagine, cmap = \"Greys\", vmin = 0, vmax = 1)"
   ]
  },
  {
   "cell_type": "code",
   "execution_count": null,
   "id": "73682e10",
   "metadata": {},
   "outputs": [],
   "source": []
  }
 ],
 "metadata": {
  "kernelspec": {
   "display_name": "Python 3 (ipykernel)",
   "language": "python",
   "name": "python3"
  },
  "language_info": {
   "codemirror_mode": {
    "name": "ipython",
    "version": 3
   },
   "file_extension": ".py",
   "mimetype": "text/x-python",
   "name": "python",
   "nbconvert_exporter": "python",
   "pygments_lexer": "ipython3",
   "version": "3.9.12"
  }
 },
 "nbformat": 4,
 "nbformat_minor": 5
}
