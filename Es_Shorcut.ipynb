{
 "cells": [
  {
   "cell_type": "markdown",
   "id": "ec9da2e9",
   "metadata": {},
   "source": [
    "# Shortcut\n",
    "[![Jupyter](https://upload.wikimedia.org/wikipedia/commons/3/38/Jupyter_logo.svg)](https://jupiter-notebook.readthedocs.io/en/stable/)\n",
    "## Le scorciatoie utili in command mode\n",
    "Per poterle usare entrare in *command mode* con `ESC` (bordo blu).\n",
    "- `INVIO` entra in *editing mode*\n",
    "- `a` inserisce una nuova cella sopra (above) la corrente\n",
    "- `b` inserisce una nuova cella sotto (below) la corrente\n",
    "- `CTRL+INVIO` esegue la cella corrente e resta in attesa\n",
    "- `SHIFT+INVIO` esegue la cella corrente e si sposta sulla successiva (se non c'è la crea)\n",
    "- `ALT+INVIO` esegue la cella corrente e ne crea una nuova sotto di essa\n",
    "- `m` trasforma la cella corrente in tipo *Markdown*\n",
    "- `y` trasforma la cella corrente in tipo *Code*\n",
    "- `d d` elimina la cella corrente\n",
    "- `x` `c` `v` taglia o copia la cella corrente e la incolla nella cella sotto (`SHIFT + v` la incolla sopra)\n",
    "- `z` annulla l'ultima operazione\n",
    "- `FREACCIA SU` o `GIU` per spostarsi fra le celle\n",
    "## Le scorciatoie utili in editing mode\n",
    "### Le seguenti sono utili nelle celle di tipo *Code*\n",
    "__Le seguenti sono utili nelle celle di tipo *Code*__\n",
    "1. `SHIFT + TAB` su un oggetto del codice mostra la documentazione (Docstring)\n",
    "2. `CTRL + SHIFT + -` divide la cella della corrente nel punto dove si trova il cursore\n",
    "3. `Esc + F` apre la finestra di dialogo *Trova e sostituisci*\n",
    "4. `SHIFT + L` mostra i numeri di riga\n",
    "## Altre scorciatoie utili\n",
    "|Modalità|Menu|Shortcut|Azione|\n",
    "|:-|:-:|:-:|:-|\n",
    "|Indifferente|File|CTRL + S|Salva il documento|\n",
    "|Command mode|Kernel|`i i`|Interrompe l'esecuzione|\n",
    "|Command mode|Kernel|0 0|Interrompe l'esecuzione|\n",
    "|Command mode|Kernel|`h`|Visualizza l'elenco delle shortcut|"
   ]
  },
  {
   "cell_type": "code",
   "execution_count": null,
   "id": "9e26107f",
   "metadata": {},
   "outputs": [],
   "source": [
    "4"
   ]
  }
 ],
 "metadata": {
  "kernelspec": {
   "display_name": "Python 3 (ipykernel)",
   "language": "python",
   "name": "python3"
  },
  "language_info": {
   "codemirror_mode": {
    "name": "ipython",
    "version": 3
   },
   "file_extension": ".py",
   "mimetype": "text/x-python",
   "name": "python",
   "nbconvert_exporter": "python",
   "pygments_lexer": "ipython3",
   "version": "3.9.12"
  }
 },
 "nbformat": 4,
 "nbformat_minor": 5
}
