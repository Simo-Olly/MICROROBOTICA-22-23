{
 "cells": [
  {
   "cell_type": "code",
   "execution_count": 16,
   "id": "aabca2c7",
   "metadata": {},
   "outputs": [],
   "source": [
    "import numpy as np\n",
    "import pandas as pd\n",
    "import matplotlib.pyplot as plt\n",
    "import os, shutil"
   ]
  },
  {
   "cell_type": "code",
   "execution_count": 3,
   "id": "dba26688",
   "metadata": {},
   "outputs": [
    {
     "data": {
      "text/html": [
       "<div>\n",
       "<style scoped>\n",
       "    .dataframe tbody tr th:only-of-type {\n",
       "        vertical-align: middle;\n",
       "    }\n",
       "\n",
       "    .dataframe tbody tr th {\n",
       "        vertical-align: top;\n",
       "    }\n",
       "\n",
       "    .dataframe thead th {\n",
       "        text-align: right;\n",
       "    }\n",
       "</style>\n",
       "<table border=\"1\" class=\"dataframe\">\n",
       "  <thead>\n",
       "    <tr style=\"text-align: right;\">\n",
       "      <th></th>\n",
       "      <th>Name</th>\n",
       "      <th>Type1</th>\n",
       "      <th>Type2</th>\n",
       "    </tr>\n",
       "  </thead>\n",
       "  <tbody>\n",
       "    <tr>\n",
       "      <th>0</th>\n",
       "      <td>bulbasaur</td>\n",
       "      <td>Grass</td>\n",
       "      <td>Poison</td>\n",
       "    </tr>\n",
       "    <tr>\n",
       "      <th>1</th>\n",
       "      <td>ivysaur</td>\n",
       "      <td>Grass</td>\n",
       "      <td>Poison</td>\n",
       "    </tr>\n",
       "    <tr>\n",
       "      <th>2</th>\n",
       "      <td>venusaur</td>\n",
       "      <td>Grass</td>\n",
       "      <td>Poison</td>\n",
       "    </tr>\n",
       "    <tr>\n",
       "      <th>3</th>\n",
       "      <td>charmander</td>\n",
       "      <td>Fire</td>\n",
       "      <td>NaN</td>\n",
       "    </tr>\n",
       "    <tr>\n",
       "      <th>4</th>\n",
       "      <td>charmeleon</td>\n",
       "      <td>Fire</td>\n",
       "      <td>NaN</td>\n",
       "    </tr>\n",
       "  </tbody>\n",
       "</table>\n",
       "</div>"
      ],
      "text/plain": [
       "         Name  Type1   Type2\n",
       "0   bulbasaur  Grass  Poison\n",
       "1     ivysaur  Grass  Poison\n",
       "2    venusaur  Grass  Poison\n",
       "3  charmander   Fire     NaN\n",
       "4  charmeleon   Fire     NaN"
      ]
     },
     "execution_count": 3,
     "metadata": {},
     "output_type": "execute_result"
    }
   ],
   "source": [
    "data = pd.read_csv(\"pokemon.csv\")\n",
    "data.head()"
   ]
  },
  {
   "cell_type": "code",
   "execution_count": 4,
   "id": "737d31dc",
   "metadata": {},
   "outputs": [
    {
     "data": {
      "text/html": [
       "<div>\n",
       "<style scoped>\n",
       "    .dataframe tbody tr th:only-of-type {\n",
       "        vertical-align: middle;\n",
       "    }\n",
       "\n",
       "    .dataframe tbody tr th {\n",
       "        vertical-align: top;\n",
       "    }\n",
       "\n",
       "    .dataframe thead th {\n",
       "        text-align: right;\n",
       "    }\n",
       "</style>\n",
       "<table border=\"1\" class=\"dataframe\">\n",
       "  <thead>\n",
       "    <tr style=\"text-align: right;\">\n",
       "      <th></th>\n",
       "      <th>Name</th>\n",
       "      <th>Type1</th>\n",
       "      <th>Type2</th>\n",
       "    </tr>\n",
       "  </thead>\n",
       "  <tbody>\n",
       "    <tr>\n",
       "      <th>804</th>\n",
       "      <td>stakataka</td>\n",
       "      <td>Rock</td>\n",
       "      <td>Steel</td>\n",
       "    </tr>\n",
       "    <tr>\n",
       "      <th>805</th>\n",
       "      <td>blacephalon</td>\n",
       "      <td>Fire</td>\n",
       "      <td>Ghost</td>\n",
       "    </tr>\n",
       "    <tr>\n",
       "      <th>806</th>\n",
       "      <td>zeraora</td>\n",
       "      <td>Electric</td>\n",
       "      <td>NaN</td>\n",
       "    </tr>\n",
       "    <tr>\n",
       "      <th>807</th>\n",
       "      <td>meltan</td>\n",
       "      <td>Steel</td>\n",
       "      <td>NaN</td>\n",
       "    </tr>\n",
       "    <tr>\n",
       "      <th>808</th>\n",
       "      <td>melmetal</td>\n",
       "      <td>Steel</td>\n",
       "      <td>NaN</td>\n",
       "    </tr>\n",
       "  </tbody>\n",
       "</table>\n",
       "</div>"
      ],
      "text/plain": [
       "            Name     Type1  Type2\n",
       "804    stakataka      Rock  Steel\n",
       "805  blacephalon      Fire  Ghost\n",
       "806      zeraora  Electric    NaN\n",
       "807       meltan     Steel    NaN\n",
       "808     melmetal     Steel    NaN"
      ]
     },
     "execution_count": 4,
     "metadata": {},
     "output_type": "execute_result"
    }
   ],
   "source": [
    "data.tail()"
   ]
  },
  {
   "cell_type": "code",
   "execution_count": 5,
   "id": "876a9396",
   "metadata": {},
   "outputs": [
    {
     "data": {
      "text/html": [
       "<div>\n",
       "<style scoped>\n",
       "    .dataframe tbody tr th:only-of-type {\n",
       "        vertical-align: middle;\n",
       "    }\n",
       "\n",
       "    .dataframe tbody tr th {\n",
       "        vertical-align: top;\n",
       "    }\n",
       "\n",
       "    .dataframe thead th {\n",
       "        text-align: right;\n",
       "    }\n",
       "</style>\n",
       "<table border=\"1\" class=\"dataframe\">\n",
       "  <thead>\n",
       "    <tr style=\"text-align: right;\">\n",
       "      <th></th>\n",
       "      <th>Name</th>\n",
       "      <th>Type1</th>\n",
       "      <th>Type2</th>\n",
       "    </tr>\n",
       "  </thead>\n",
       "  <tbody>\n",
       "    <tr>\n",
       "      <th>0</th>\n",
       "      <td>bulbasaur</td>\n",
       "      <td>Grass</td>\n",
       "      <td>Poison</td>\n",
       "    </tr>\n",
       "    <tr>\n",
       "      <th>1</th>\n",
       "      <td>ivysaur</td>\n",
       "      <td>Grass</td>\n",
       "      <td>Poison</td>\n",
       "    </tr>\n",
       "    <tr>\n",
       "      <th>2</th>\n",
       "      <td>venusaur</td>\n",
       "      <td>Grass</td>\n",
       "      <td>Poison</td>\n",
       "    </tr>\n",
       "    <tr>\n",
       "      <th>3</th>\n",
       "      <td>charmander</td>\n",
       "      <td>Fire</td>\n",
       "      <td>NaN</td>\n",
       "    </tr>\n",
       "    <tr>\n",
       "      <th>4</th>\n",
       "      <td>charmeleon</td>\n",
       "      <td>Fire</td>\n",
       "      <td>NaN</td>\n",
       "    </tr>\n",
       "    <tr>\n",
       "      <th>...</th>\n",
       "      <td>...</td>\n",
       "      <td>...</td>\n",
       "      <td>...</td>\n",
       "    </tr>\n",
       "    <tr>\n",
       "      <th>804</th>\n",
       "      <td>stakataka</td>\n",
       "      <td>Rock</td>\n",
       "      <td>Steel</td>\n",
       "    </tr>\n",
       "    <tr>\n",
       "      <th>805</th>\n",
       "      <td>blacephalon</td>\n",
       "      <td>Fire</td>\n",
       "      <td>Ghost</td>\n",
       "    </tr>\n",
       "    <tr>\n",
       "      <th>806</th>\n",
       "      <td>zeraora</td>\n",
       "      <td>Electric</td>\n",
       "      <td>NaN</td>\n",
       "    </tr>\n",
       "    <tr>\n",
       "      <th>807</th>\n",
       "      <td>meltan</td>\n",
       "      <td>Steel</td>\n",
       "      <td>NaN</td>\n",
       "    </tr>\n",
       "    <tr>\n",
       "      <th>808</th>\n",
       "      <td>melmetal</td>\n",
       "      <td>Steel</td>\n",
       "      <td>NaN</td>\n",
       "    </tr>\n",
       "  </tbody>\n",
       "</table>\n",
       "<p>809 rows × 3 columns</p>\n",
       "</div>"
      ],
      "text/plain": [
       "            Name     Type1   Type2\n",
       "0      bulbasaur     Grass  Poison\n",
       "1        ivysaur     Grass  Poison\n",
       "2       venusaur     Grass  Poison\n",
       "3     charmander      Fire     NaN\n",
       "4     charmeleon      Fire     NaN\n",
       "..           ...       ...     ...\n",
       "804    stakataka      Rock   Steel\n",
       "805  blacephalon      Fire   Ghost\n",
       "806      zeraora  Electric     NaN\n",
       "807       meltan     Steel     NaN\n",
       "808     melmetal     Steel     NaN\n",
       "\n",
       "[809 rows x 3 columns]"
      ]
     },
     "execution_count": 5,
     "metadata": {},
     "output_type": "execute_result"
    }
   ],
   "source": [
    "data"
   ]
  },
  {
   "cell_type": "code",
   "execution_count": 6,
   "id": "b079c598",
   "metadata": {},
   "outputs": [
    {
     "name": "stdout",
     "output_type": "stream",
     "text": [
      "            Name     Type1   Type2\n",
      "0      bulbasaur     Grass  Poison\n",
      "1        ivysaur     Grass  Poison\n",
      "2       venusaur     Grass  Poison\n",
      "3     charmander      Fire     NaN\n",
      "4     charmeleon      Fire     NaN\n",
      "..           ...       ...     ...\n",
      "804    stakataka      Rock   Steel\n",
      "805  blacephalon      Fire   Ghost\n",
      "806      zeraora  Electric     NaN\n",
      "807       meltan     Steel     NaN\n",
      "808     melmetal     Steel     NaN\n",
      "\n",
      "[809 rows x 3 columns]\n"
     ]
    }
   ],
   "source": [
    "print(data)"
   ]
  },
  {
   "cell_type": "code",
   "execution_count": 7,
   "id": "6d0b0faf",
   "metadata": {},
   "outputs": [
    {
     "data": {
      "text/html": [
       "<div>\n",
       "<style scoped>\n",
       "    .dataframe tbody tr th:only-of-type {\n",
       "        vertical-align: middle;\n",
       "    }\n",
       "\n",
       "    .dataframe tbody tr th {\n",
       "        vertical-align: top;\n",
       "    }\n",
       "\n",
       "    .dataframe thead th {\n",
       "        text-align: right;\n",
       "    }\n",
       "</style>\n",
       "<table border=\"1\" class=\"dataframe\">\n",
       "  <thead>\n",
       "    <tr style=\"text-align: right;\">\n",
       "      <th></th>\n",
       "      <th>Name</th>\n",
       "      <th>Type1</th>\n",
       "      <th>Type2</th>\n",
       "    </tr>\n",
       "  </thead>\n",
       "  <tbody>\n",
       "    <tr>\n",
       "      <th>count</th>\n",
       "      <td>809</td>\n",
       "      <td>809</td>\n",
       "      <td>405</td>\n",
       "    </tr>\n",
       "    <tr>\n",
       "      <th>unique</th>\n",
       "      <td>809</td>\n",
       "      <td>18</td>\n",
       "      <td>18</td>\n",
       "    </tr>\n",
       "    <tr>\n",
       "      <th>top</th>\n",
       "      <td>bulbasaur</td>\n",
       "      <td>Water</td>\n",
       "      <td>Flying</td>\n",
       "    </tr>\n",
       "    <tr>\n",
       "      <th>freq</th>\n",
       "      <td>1</td>\n",
       "      <td>114</td>\n",
       "      <td>95</td>\n",
       "    </tr>\n",
       "  </tbody>\n",
       "</table>\n",
       "</div>"
      ],
      "text/plain": [
       "             Name  Type1   Type2\n",
       "count         809    809     405\n",
       "unique        809     18      18\n",
       "top     bulbasaur  Water  Flying\n",
       "freq            1    114      95"
      ]
     },
     "execution_count": 7,
     "metadata": {},
     "output_type": "execute_result"
    }
   ],
   "source": [
    "data.describe()"
   ]
  },
  {
   "cell_type": "code",
   "execution_count": 8,
   "id": "06d13225",
   "metadata": {},
   "outputs": [],
   "source": [
    "data_noNaN = data.dropna()"
   ]
  },
  {
   "cell_type": "code",
   "execution_count": 9,
   "id": "ff7c579e",
   "metadata": {},
   "outputs": [
    {
     "data": {
      "text/html": [
       "<div>\n",
       "<style scoped>\n",
       "    .dataframe tbody tr th:only-of-type {\n",
       "        vertical-align: middle;\n",
       "    }\n",
       "\n",
       "    .dataframe tbody tr th {\n",
       "        vertical-align: top;\n",
       "    }\n",
       "\n",
       "    .dataframe thead th {\n",
       "        text-align: right;\n",
       "    }\n",
       "</style>\n",
       "<table border=\"1\" class=\"dataframe\">\n",
       "  <thead>\n",
       "    <tr style=\"text-align: right;\">\n",
       "      <th></th>\n",
       "      <th>Name</th>\n",
       "      <th>Type1</th>\n",
       "      <th>Type2</th>\n",
       "    </tr>\n",
       "  </thead>\n",
       "  <tbody>\n",
       "    <tr>\n",
       "      <th>count</th>\n",
       "      <td>405</td>\n",
       "      <td>405</td>\n",
       "      <td>405</td>\n",
       "    </tr>\n",
       "    <tr>\n",
       "      <th>unique</th>\n",
       "      <td>405</td>\n",
       "      <td>18</td>\n",
       "      <td>18</td>\n",
       "    </tr>\n",
       "    <tr>\n",
       "      <th>top</th>\n",
       "      <td>bulbasaur</td>\n",
       "      <td>Bug</td>\n",
       "      <td>Flying</td>\n",
       "    </tr>\n",
       "    <tr>\n",
       "      <th>freq</th>\n",
       "      <td>1</td>\n",
       "      <td>54</td>\n",
       "      <td>95</td>\n",
       "    </tr>\n",
       "  </tbody>\n",
       "</table>\n",
       "</div>"
      ],
      "text/plain": [
       "             Name Type1   Type2\n",
       "count         405   405     405\n",
       "unique        405    18      18\n",
       "top     bulbasaur   Bug  Flying\n",
       "freq            1    54      95"
      ]
     },
     "execution_count": 9,
     "metadata": {},
     "output_type": "execute_result"
    }
   ],
   "source": [
    "data_noNaN.describe()"
   ]
  },
  {
   "cell_type": "code",
   "execution_count": 10,
   "id": "578abcc0",
   "metadata": {},
   "outputs": [
    {
     "data": {
      "text/plain": [
       "array(['bulbasaur', 'ivysaur', 'venusaur', 'charmander', 'charmeleon',\n",
       "       'charizard', 'squirtle', 'wartortle', 'blastoise', 'caterpie',\n",
       "       'metapod', 'butterfree', 'weedle', 'kakuna', 'beedrill', 'pidgey',\n",
       "       'pidgeotto', 'pidgeot', 'rattata', 'raticate', 'spearow', 'fearow',\n",
       "       'ekans', 'arbok', 'pikachu', 'raichu', 'sandshrew', 'sandslash',\n",
       "       'nidoran-f', 'nidorina', 'nidoqueen', 'nidoran-m', 'nidorino',\n",
       "       'nidoking', 'clefairy', 'clefable', 'vulpix', 'ninetales',\n",
       "       'jigglypuff', 'wigglytuff', 'zubat', 'golbat', 'oddish', 'gloom',\n",
       "       'vileplume', 'paras', 'parasect', 'venonat', 'venomoth', 'diglett',\n",
       "       'dugtrio', 'meowth', 'persian', 'psyduck', 'golduck', 'mankey',\n",
       "       'primeape', 'growlithe', 'arcanine', 'poliwag', 'poliwhirl',\n",
       "       'poliwrath', 'abra', 'kadabra', 'alakazam', 'machop', 'machoke',\n",
       "       'machamp', 'bellsprout', 'weepinbell', 'victreebel', 'tentacool',\n",
       "       'tentacruel', 'geodude', 'graveler', 'golem', 'ponyta', 'rapidash',\n",
       "       'slowpoke', 'slowbro', 'magnemite', 'magneton', 'farfetchd',\n",
       "       'doduo', 'dodrio', 'seel', 'dewgong', 'grimer', 'muk', 'shellder',\n",
       "       'cloyster', 'gastly', 'haunter', 'gengar', 'onix', 'drowzee',\n",
       "       'hypno', 'krabby', 'kingler', 'voltorb', 'electrode', 'exeggcute',\n",
       "       'exeggutor', 'cubone', 'marowak', 'hitmonlee', 'hitmonchan',\n",
       "       'lickitung', 'koffing', 'weezing', 'rhyhorn', 'rhydon', 'chansey',\n",
       "       'tangela', 'kangaskhan', 'horsea', 'seadra', 'goldeen', 'seaking',\n",
       "       'staryu', 'starmie', 'mr-mime', 'scyther', 'jynx', 'electabuzz',\n",
       "       'magmar', 'pinsir', 'tauros', 'magikarp', 'gyarados', 'lapras',\n",
       "       'ditto', 'eevee', 'vaporeon', 'jolteon', 'flareon', 'porygon',\n",
       "       'omanyte', 'omastar', 'kabuto', 'kabutops', 'aerodactyl',\n",
       "       'snorlax', 'articuno', 'zapdos', 'moltres', 'dratini', 'dragonair',\n",
       "       'dragonite', 'mewtwo', 'mew', 'chikorita', 'bayleef', 'meganium',\n",
       "       'cyndaquil', 'quilava', 'typhlosion', 'totodile', 'croconaw',\n",
       "       'feraligatr', 'sentret', 'furret', 'hoothoot', 'noctowl', 'ledyba',\n",
       "       'ledian', 'spinarak', 'ariados', 'crobat', 'chinchou', 'lanturn',\n",
       "       'pichu', 'cleffa', 'igglybuff', 'togepi', 'togetic', 'natu',\n",
       "       'xatu', 'mareep', 'flaaffy', 'ampharos', 'bellossom', 'marill',\n",
       "       'azumarill', 'sudowoodo', 'politoed', 'hoppip', 'skiploom',\n",
       "       'jumpluff', 'aipom', 'sunkern', 'sunflora', 'yanma', 'wooper',\n",
       "       'quagsire', 'espeon', 'umbreon', 'murkrow', 'slowking',\n",
       "       'misdreavus', 'unown', 'wobbuffet', 'girafarig', 'pineco',\n",
       "       'forretress', 'dunsparce', 'gligar', 'steelix', 'snubbull',\n",
       "       'granbull', 'qwilfish', 'scizor', 'shuckle', 'heracross',\n",
       "       'sneasel', 'teddiursa', 'ursaring', 'slugma', 'magcargo', 'swinub',\n",
       "       'piloswine', 'corsola', 'remoraid', 'octillery', 'delibird',\n",
       "       'mantine', 'skarmory', 'houndour', 'houndoom', 'kingdra', 'phanpy',\n",
       "       'donphan', 'porygon2', 'stantler', 'smeargle', 'tyrogue',\n",
       "       'hitmontop', 'smoochum', 'elekid', 'magby', 'miltank', 'blissey',\n",
       "       'raikou', 'entei', 'suicune', 'larvitar', 'pupitar', 'tyranitar',\n",
       "       'lugia', 'ho-oh', 'celebi', 'treecko', 'grovyle', 'sceptile',\n",
       "       'torchic', 'combusken', 'blaziken', 'mudkip', 'marshtomp',\n",
       "       'swampert', 'poochyena', 'mightyena', 'zigzagoon', 'linoone',\n",
       "       'wurmple', 'silcoon', 'beautifly', 'cascoon', 'dustox', 'lotad',\n",
       "       'lombre', 'ludicolo', 'seedot', 'nuzleaf', 'shiftry', 'taillow',\n",
       "       'swellow', 'wingull', 'pelipper', 'ralts', 'kirlia', 'gardevoir',\n",
       "       'surskit', 'masquerain', 'shroomish', 'breloom', 'slakoth',\n",
       "       'vigoroth', 'slaking', 'nincada', 'ninjask', 'shedinja', 'whismur',\n",
       "       'loudred', 'exploud', 'makuhita', 'hariyama', 'azurill',\n",
       "       'nosepass', 'skitty', 'delcatty', 'sableye', 'mawile', 'aron',\n",
       "       'lairon', 'aggron', 'meditite', 'medicham', 'electrike',\n",
       "       'manectric', 'plusle', 'minun', 'volbeat', 'illumise', 'roselia',\n",
       "       'gulpin', 'swalot', 'carvanha', 'sharpedo', 'wailmer', 'wailord',\n",
       "       'numel', 'camerupt', 'torkoal', 'spoink', 'grumpig', 'spinda',\n",
       "       'trapinch', 'vibrava', 'flygon', 'cacnea', 'cacturne', 'swablu',\n",
       "       'altaria', 'zangoose', 'seviper', 'lunatone', 'solrock',\n",
       "       'barboach', 'whiscash', 'corphish', 'crawdaunt', 'baltoy',\n",
       "       'claydol', 'lileep', 'cradily', 'anorith', 'armaldo', 'feebas',\n",
       "       'milotic', 'castform', 'kecleon', 'shuppet', 'banette', 'duskull',\n",
       "       'dusclops', 'tropius', 'chimecho', 'absol', 'wynaut', 'snorunt',\n",
       "       'glalie', 'spheal', 'sealeo', 'walrein', 'clamperl', 'huntail',\n",
       "       'gorebyss', 'relicanth', 'luvdisc', 'bagon', 'shelgon',\n",
       "       'salamence', 'beldum', 'metang', 'metagross', 'regirock', 'regice',\n",
       "       'registeel', 'latias', 'latios', 'kyogre', 'groudon', 'rayquaza',\n",
       "       'jirachi', 'deoxys-normal', 'turtwig', 'grotle', 'torterra',\n",
       "       'chimchar', 'monferno', 'infernape', 'piplup', 'prinplup',\n",
       "       'empoleon', 'starly', 'staravia', 'staraptor', 'bidoof', 'bibarel',\n",
       "       'kricketot', 'kricketune', 'shinx', 'luxio', 'luxray', 'budew',\n",
       "       'roserade', 'cranidos', 'rampardos', 'shieldon', 'bastiodon',\n",
       "       'burmy', 'wormadam-plant', 'mothim', 'combee', 'vespiquen',\n",
       "       'pachirisu', 'buizel', 'floatzel', 'cherubi', 'cherrim', 'shellos',\n",
       "       'gastrodon', 'ambipom', 'drifloon', 'drifblim', 'buneary',\n",
       "       'lopunny', 'mismagius', 'honchkrow', 'glameow', 'purugly',\n",
       "       'chingling', 'stunky', 'skuntank', 'bronzor', 'bronzong', 'bonsly',\n",
       "       'mime-jr', 'happiny', 'chatot', 'spiritomb', 'gible', 'gabite',\n",
       "       'garchomp', 'munchlax', 'riolu', 'lucario', 'hippopotas',\n",
       "       'hippowdon', 'skorupi', 'drapion', 'croagunk', 'toxicroak',\n",
       "       'carnivine', 'finneon', 'lumineon', 'mantyke', 'snover',\n",
       "       'abomasnow', 'weavile', 'magnezone', 'lickilicky', 'rhyperior',\n",
       "       'tangrowth', 'electivire', 'magmortar', 'togekiss', 'yanmega',\n",
       "       'leafeon', 'glaceon', 'gliscor', 'mamoswine', 'porygon-z',\n",
       "       'gallade', 'probopass', 'dusknoir', 'froslass', 'rotom', 'uxie',\n",
       "       'mesprit', 'azelf', 'dialga', 'palkia', 'heatran', 'regigigas',\n",
       "       'giratina-altered', 'cresselia', 'phione', 'manaphy', 'darkrai',\n",
       "       'shaymin-land', 'arceus', 'victini', 'snivy', 'servine',\n",
       "       'serperior', 'tepig', 'pignite', 'emboar', 'oshawott', 'dewott',\n",
       "       'samurott', 'patrat', 'watchog', 'lillipup', 'herdier',\n",
       "       'stoutland', 'purrloin', 'liepard', 'pansage', 'simisage',\n",
       "       'pansear', 'simisear', 'panpour', 'simipour', 'munna', 'musharna',\n",
       "       'pidove', 'tranquill', 'unfezant', 'blitzle', 'zebstrika',\n",
       "       'roggenrola', 'boldore', 'gigalith', 'woobat', 'swoobat',\n",
       "       'drilbur', 'excadrill', 'audino', 'timburr', 'gurdurr',\n",
       "       'conkeldurr', 'tympole', 'palpitoad', 'seismitoad', 'throh',\n",
       "       'sawk', 'sewaddle', 'swadloon', 'leavanny', 'venipede',\n",
       "       'whirlipede', 'scolipede', 'cottonee', 'whimsicott', 'petilil',\n",
       "       'lilligant', 'basculin-red-striped', 'sandile', 'krokorok',\n",
       "       'krookodile', 'darumaka', 'darmanitan-standard', 'maractus',\n",
       "       'dwebble', 'crustle', 'scraggy', 'scrafty', 'sigilyph', 'yamask',\n",
       "       'cofagrigus', 'tirtouga', 'carracosta', 'archen', 'archeops',\n",
       "       'trubbish', 'garbodor', 'zorua', 'zoroark', 'minccino', 'cinccino',\n",
       "       'gothita', 'gothorita', 'gothitelle', 'solosis', 'duosion',\n",
       "       'reuniclus', 'ducklett', 'swanna', 'vanillite', 'vanillish',\n",
       "       'vanilluxe', 'deerling', 'sawsbuck', 'emolga', 'karrablast',\n",
       "       'escavalier', 'foongus', 'amoonguss', 'frillish', 'jellicent',\n",
       "       'alomomola', 'joltik', 'galvantula', 'ferroseed', 'ferrothorn',\n",
       "       'klink', 'klang', 'klinklang', 'tynamo', 'eelektrik', 'eelektross',\n",
       "       'elgyem', 'beheeyem', 'litwick', 'lampent', 'chandelure', 'axew',\n",
       "       'fraxure', 'haxorus', 'cubchoo', 'beartic', 'cryogonal', 'shelmet',\n",
       "       'accelgor', 'stunfisk', 'mienfoo', 'mienshao', 'druddigon',\n",
       "       'golett', 'golurk', 'pawniard', 'bisharp', 'bouffalant', 'rufflet',\n",
       "       'braviary', 'vullaby', 'mandibuzz', 'heatmor', 'durant', 'deino',\n",
       "       'zweilous', 'hydreigon', 'larvesta', 'volcarona', 'cobalion',\n",
       "       'terrakion', 'virizion', 'tornadus-incarnate',\n",
       "       'thundurus-incarnate', 'reshiram', 'zekrom', 'landorus-incarnate',\n",
       "       'kyurem', 'keldeo-ordinary', 'meloetta-aria', 'genesect',\n",
       "       'chespin', 'quilladin', 'chesnaught', 'fennekin', 'braixen',\n",
       "       'delphox', 'froakie', 'frogadier', 'greninja', 'bunnelby',\n",
       "       'diggersby', 'fletchling', 'fletchinder', 'talonflame',\n",
       "       'scatterbug', 'spewpa', 'vivillon', 'litleo', 'pyroar', 'flabebe',\n",
       "       'floette', 'florges', 'skiddo', 'gogoat', 'pancham', 'pangoro',\n",
       "       'furfrou', 'espurr', 'meowstic-male', 'honedge', 'doublade',\n",
       "       'aegislash-blade', 'spritzee', 'aromatisse', 'swirlix', 'slurpuff',\n",
       "       'inkay', 'malamar', 'binacle', 'barbaracle', 'skrelp', 'dragalge',\n",
       "       'clauncher', 'clawitzer', 'helioptile', 'heliolisk', 'tyrunt',\n",
       "       'tyrantrum', 'amaura', 'aurorus', 'sylveon', 'hawlucha', 'dedenne',\n",
       "       'carbink', 'goomy', 'sliggoo', 'goodra', 'klefki', 'phantump',\n",
       "       'trevenant', 'pumpkaboo-average', 'gourgeist-average', 'bergmite',\n",
       "       'avalugg', 'noibat', 'noivern', 'xerneas', 'yveltal', 'zygarde-50',\n",
       "       'diancie', 'hoopa-confined', 'volcanion', 'rowlet', 'dartrix',\n",
       "       'decidueye', 'litten', 'torracat', 'incineroar', 'popplio',\n",
       "       'brionne', 'primarina', 'pikipek', 'trumbeak', 'toucannon',\n",
       "       'yungoos', 'gumshoos', 'grubbin', 'charjabug', 'vikavolt',\n",
       "       'crabrawler', 'crabominable', 'oricorio-baile', 'cutiefly',\n",
       "       'ribombee', 'rockruff', 'lycanroc-midday', 'wishiwashi-solo',\n",
       "       'mareanie', 'toxapex', 'mudbray', 'mudsdale', 'dewpider',\n",
       "       'araquanid', 'fomantis', 'lurantis', 'morelull', 'shiinotic',\n",
       "       'salandit', 'salazzle', 'stufful', 'bewear', 'bounsweet',\n",
       "       'steenee', 'tsareena', 'comfey', 'oranguru', 'passimian', 'wimpod',\n",
       "       'golisopod', 'sandygast', 'palossand', 'pyukumuku', 'type-null',\n",
       "       'silvally', 'minior-meteor', 'komala', 'turtonator', 'togedemaru',\n",
       "       'mimikyu', 'bruxish', 'drampa', 'dhelmise', 'jangmo-o', 'hakamo-o',\n",
       "       'kommo-o', 'tapu-koko', 'tapu-lele', 'tapu-bulu', 'tapu-fini',\n",
       "       'cosmog', 'cosmoem', 'solgaleo', 'lunala', 'nihilego', 'buzzwole',\n",
       "       'pheromosa', 'xurkitree', 'celesteela', 'kartana', 'guzzlord',\n",
       "       'necrozma', 'magearna', 'marshadow', 'poipole', 'naganadel',\n",
       "       'stakataka', 'blacephalon', 'zeraora', 'meltan', 'melmetal'],\n",
       "      dtype=object)"
      ]
     },
     "execution_count": 10,
     "metadata": {},
     "output_type": "execute_result"
    }
   ],
   "source": [
    "array_numpy_nomi = data[\"Name\"].values\n",
    "array_numpy_nomi"
   ]
  },
  {
   "cell_type": "code",
   "execution_count": 11,
   "id": "f5c202da",
   "metadata": {},
   "outputs": [
    {
     "data": {
      "text/plain": [
       "array(['passimian', 'dodrio', 'pineco', 'diancie', 'kecleon'],\n",
       "      dtype=object)"
      ]
     },
     "execution_count": 11,
     "metadata": {},
     "output_type": "execute_result"
    }
   ],
   "source": [
    "np.random.choice(array_numpy_nomi, 5)"
   ]
  },
  {
   "cell_type": "code",
   "execution_count": 12,
   "id": "e6146793",
   "metadata": {
    "scrolled": true
   },
   "outputs": [
    {
     "data": {
      "text/plain": [
       "array(['charizard', 'moltres', 'ho-oh', 'fletchinder', 'talonflame',\n",
       "       'oricorio-baile'], dtype=object)"
      ]
     },
     "execution_count": 12,
     "metadata": {},
     "output_type": "execute_result"
    }
   ],
   "source": [
    "data[(data[\"Type1\"] == \"Fire\") & (data[\"Type2\"] == \"Flying\")][\"Name\"].values"
   ]
  },
  {
   "cell_type": "markdown",
   "id": "f4c3896d",
   "metadata": {},
   "source": [
    "# Es"
   ]
  },
  {
   "cell_type": "code",
   "execution_count": 13,
   "id": "af5f344a",
   "metadata": {},
   "outputs": [],
   "source": [
    "tipo1 = \"Water\"\n",
    "tipo2 = \"Poison\""
   ]
  },
  {
   "cell_type": "code",
   "execution_count": 21,
   "id": "1bd1c6e7",
   "metadata": {},
   "outputs": [
    {
     "data": {
      "text/plain": [
       "array(['tentacool', 'tentacruel', 'qwilfish'], dtype=object)"
      ]
     },
     "execution_count": 21,
     "metadata": {},
     "output_type": "execute_result"
    }
   ],
   "source": [
    "nomiPokemon = data[(data[\"Type1\"] == \"Water\") & (data[\"Type2\"] == \"Poison\")][\"Name\"].values\n",
    "nomiPokemon"
   ]
  },
  {
   "cell_type": "code",
   "execution_count": 17,
   "id": "c42e2333",
   "metadata": {},
   "outputs": [],
   "source": [
    "path = os.chdir(\"C:\\\\Users\\\\Marco\\\\Desktop\\\\5° superiore\\\\MICROROBOTICA\\\\Es_Python\\\\pokemon\\\\images\")\n",
    "lista = os.listdir(path)"
   ]
  },
  {
   "cell_type": "code",
   "execution_count": 36,
   "id": "8222ea8a",
   "metadata": {},
   "outputs": [
    {
     "name": "stderr",
     "output_type": "stream",
     "text": [
      "C:\\Users\\Marco\\AppData\\Local\\Temp\\ipykernel_6068\\4097683829.py:3: DeprecationWarning: elementwise comparison failed; this will raise an error in the future.\n",
      "  if nomiPokemon == plt.imread(i):\n"
     ]
    },
    {
     "ename": "NameError",
     "evalue": "name 'im' is not defined",
     "output_type": "error",
     "traceback": [
      "\u001b[1;31m---------------------------------------------------------------------------\u001b[0m",
      "\u001b[1;31mNameError\u001b[0m                                 Traceback (most recent call last)",
      "Input \u001b[1;32mIn [36]\u001b[0m, in \u001b[0;36m<cell line: 1>\u001b[1;34m()\u001b[0m\n\u001b[0;32m      3\u001b[0m \u001b[38;5;28;01mif\u001b[39;00m nomiPokemon \u001b[38;5;241m==\u001b[39m plt\u001b[38;5;241m.\u001b[39mimread(i):\n\u001b[0;32m      4\u001b[0m     im \u001b[38;5;241m=\u001b[39m plt\u001b[38;5;241m.\u001b[39mimread(i)\n\u001b[1;32m----> 6\u001b[0m ax\u001b[38;5;241m.\u001b[39mimshow(\u001b[43mim\u001b[49m)\n\u001b[0;32m      7\u001b[0m plt\u001b[38;5;241m.\u001b[39mshow()\n\u001b[0;32m      8\u001b[0m plt\u001b[38;5;241m.\u001b[39mclose\n",
      "\u001b[1;31mNameError\u001b[0m: name 'im' is not defined"
     ]
    },
    {
     "data": {
      "image/png": "[encoded data removed]",
      "text/plain": [
       "<Figure size 216x216 with 1 Axes>"
      ]
     },
     "metadata": {
      "needs_background": "light"
     },
     "output_type": "display_data"
    }
   ],
   "source": [
    "for i in lista:\n",
    "    fig, ax = plt.subplots(figsize=(3,3))\n",
    "    if nomiPokemon == plt.imread(i):\n",
    "        im = plt.imread(i)\n",
    "        \n",
    "    ax.imshow(im)\n",
    "    plt.show()\n",
    "    plt.close"
   ]
  },
  {
   "cell_type": "code",
   "execution_count": null,
   "id": "7eeb9cb4",
   "metadata": {},
   "outputs": [],
   "source": []
  }
 ],
 "metadata": {
  "kernelspec": {
   "display_name": "Python 3 (ipykernel)",
   "language": "python",
   "name": "python3"
  },
  "language_info": {
   "codemirror_mode": {
    "name": "ipython",
    "version": 3
   },
   "file_extension": ".py",
   "mimetype": "text/x-python",
   "name": "python",
   "nbconvert_exporter": "python",
   "pygments_lexer": "ipython3",
   "version": "3.9.12"
  }
 },
 "nbformat": 4,
 "nbformat_minor": 5
}
